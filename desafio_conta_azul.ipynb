{
  "nbformat": 4,
  "nbformat_minor": 0,
  "metadata": {
    "colab": {
      "name": "desafio_conta_azul.ipynb",
      "provenance": [],
      "authorship_tag": "ABX9TyMs4+SeL0/o7CnA2YG8GVhH",
      "include_colab_link": true
    },
    "kernelspec": {
      "name": "python3",
      "display_name": "Python 3"
    },
    "language_info": {
      "name": "python"
    }
  },
  "cells": [
    {
      "cell_type": "markdown",
      "metadata": {
        "id": "view-in-github",
        "colab_type": "text"
      },
      "source": [
        "<a href=\"https://colab.research.google.com/github/GuilhermeDumam/Desafio_Conta_Azul/blob/Master/desafio_conta_azul.ipynb\" target=\"_parent\"><img src=\"https://colab.research.google.com/assets/colab-badge.svg\" alt=\"Open In Colab\"/></a>"
      ]
    },
    {
      "cell_type": "markdown",
      "source": [
        "#**IMPORTAÇÃO BIBLIOTECAS e DATASET**"
      ],
      "metadata": {
        "id": "vV_KN3h9qT8q"
      }
    },
    {
      "cell_type": "markdown",
      "source": [
        "##Base de dados (raw)\n",
        "\n",
        "https://docs.google.com/spreadsheets/d/1qU9oeYgrrpXGAiqiB9jZ_uQgoXxEuRLVU9iPj83UTkw/edit?usp=sharing"
      ],
      "metadata": {
        "id": "PzsiC2EPAnbX"
      }
    },
    {
      "cell_type": "code",
      "source": [
        "! pip install https://github.com/pandas-profiling/pandas-profiling/archive/master.zip"
      ],
      "metadata": {
        "id": "4b4kdNJjZVL8"
      },
      "execution_count": null,
      "outputs": []
    },
    {
      "cell_type": "code",
      "source": [
        "%matplotlib inline\n",
        "import seaborn as sns\n",
        "import matplotlib.pyplot as plt\n",
        "import plotly           \n",
        "import pandas as pd\n",
        "import numpy as np\n",
        "import random"
      ],
      "metadata": {
        "id": "R-dkuV92qS7x"
      },
      "execution_count": 170,
      "outputs": []
    },
    {
      "cell_type": "code",
      "source": [
        "from pandas_profiling import ProfileReport"
      ],
      "metadata": {
        "id": "lKeWBmH_Zm5o"
      },
      "execution_count": 2,
      "outputs": []
    },
    {
      "cell_type": "code",
      "source": [
        "from scipy import stats"
      ],
      "metadata": {
        "id": "Rw2UZJc75ZMX"
      },
      "execution_count": 3,
      "outputs": []
    },
    {
      "cell_type": "code",
      "source": [
        "df = pd.read_csv(('/content/customer_churn_data1.csv'), sep=';',decimal=',')"
      ],
      "metadata": {
        "id": "PSmENL0Qrlj_"
      },
      "execution_count": 268,
      "outputs": []
    },
    {
      "cell_type": "markdown",
      "source": [
        "#**Tratamento**"
      ],
      "metadata": {
        "id": "PNEPXr4VqCtQ"
      }
    },
    {
      "cell_type": "code",
      "execution_count": 269,
      "metadata": {
        "id": "sriXpG9tmEN5",
        "colab": {
          "base_uri": "https://localhost:8080/",
          "height": 565
        },
        "outputId": "6f2842be-fa16-4da6-9ad5-7f0c961756d9"
      },
      "outputs": [
        {
          "output_type": "execute_result",
          "data": {
            "text/html": [
              "\n",
              "  <div id=\"df-eb470c86-912a-4718-9295-590f5d106530\">\n",
              "    <div class=\"colab-df-container\">\n",
              "      <div>\n",
              "<style scoped>\n",
              "    .dataframe tbody tr th:only-of-type {\n",
              "        vertical-align: middle;\n",
              "    }\n",
              "\n",
              "    .dataframe tbody tr th {\n",
              "        vertical-align: top;\n",
              "    }\n",
              "\n",
              "    .dataframe thead th {\n",
              "        text-align: right;\n",
              "    }\n",
              "</style>\n",
              "<table border=\"1\" class=\"dataframe\">\n",
              "  <thead>\n",
              "    <tr style=\"text-align: right;\">\n",
              "      <th></th>\n",
              "      <th>ID</th>\n",
              "      <th>Tipo de empresa</th>\n",
              "      <th>Fundação da empresa</th>\n",
              "      <th>Possui mais de um sócio</th>\n",
              "      <th>Funcionários</th>\n",
              "      <th>Meses de permanência</th>\n",
              "      <th>Utiliza serviços financeiros</th>\n",
              "      <th>PossuiContador</th>\n",
              "      <th>Faz conciliação bancária</th>\n",
              "      <th>Frequência de utilização de feature do sistema: Módulo financeiro</th>\n",
              "      <th>Frequência de utilização de feature do sistema: Emissão de nota fiscal</th>\n",
              "      <th>Frequência de utilização de feature do sistema: Integração bancária</th>\n",
              "      <th>Frequência de utilização de feature do sistema: Módulo de vendas</th>\n",
              "      <th>Frequência de utilização de feature do sistema: Relatórios</th>\n",
              "      <th>Frequência de utilização de feature do sistema: Utilização de APIs de integração</th>\n",
              "      <th>Contrato</th>\n",
              "      <th>Emite boletos</th>\n",
              "      <th>Emite boletos.1</th>\n",
              "      <th>Tipo de pagamento</th>\n",
              "      <th>Receita mensal</th>\n",
              "      <th>Receita total</th>\n",
              "      <th>Churn</th>\n",
              "    </tr>\n",
              "  </thead>\n",
              "  <tbody>\n",
              "    <tr>\n",
              "      <th>0</th>\n",
              "      <td>1</td>\n",
              "      <td>Micro empresa</td>\n",
              "      <td>2016</td>\n",
              "      <td>Sim</td>\n",
              "      <td>até 5 funcionários</td>\n",
              "      <td>1</td>\n",
              "      <td>Não</td>\n",
              "      <td>NaN</td>\n",
              "      <td>automática</td>\n",
              "      <td>Pouco uso</td>\n",
              "      <td>Uso frequente</td>\n",
              "      <td>Pouco uso</td>\n",
              "      <td>Pouco uso</td>\n",
              "      <td>Pouco uso</td>\n",
              "      <td>Pouco uso</td>\n",
              "      <td>Mês-a-mês</td>\n",
              "      <td>1</td>\n",
              "      <td>Yes</td>\n",
              "      <td>Boleto - pagamento único</td>\n",
              "      <td>29.85</td>\n",
              "      <td>29.85</td>\n",
              "      <td>Não</td>\n",
              "    </tr>\n",
              "    <tr>\n",
              "      <th>1</th>\n",
              "      <td>2</td>\n",
              "      <td>Pequena empresa</td>\n",
              "      <td>2018</td>\n",
              "      <td>Não</td>\n",
              "      <td>até 5 funcionários</td>\n",
              "      <td>34</td>\n",
              "      <td>Sim</td>\n",
              "      <td>Não</td>\n",
              "      <td>automática</td>\n",
              "      <td>Uso frequente</td>\n",
              "      <td>Pouco uso</td>\n",
              "      <td>Uso frequente</td>\n",
              "      <td>Pouco uso</td>\n",
              "      <td>Pouco uso</td>\n",
              "      <td>Pouco uso</td>\n",
              "      <td>Trimestral</td>\n",
              "      <td>0</td>\n",
              "      <td>No</td>\n",
              "      <td>Boleto - mês a mês</td>\n",
              "      <td>56.95</td>\n",
              "      <td>1889.50</td>\n",
              "      <td>Não</td>\n",
              "    </tr>\n",
              "    <tr>\n",
              "      <th>2</th>\n",
              "      <td>3</td>\n",
              "      <td>Pequena empresa</td>\n",
              "      <td>2021</td>\n",
              "      <td>Não</td>\n",
              "      <td>até 5 funcionários</td>\n",
              "      <td>2</td>\n",
              "      <td>Sim</td>\n",
              "      <td>Não</td>\n",
              "      <td>automática</td>\n",
              "      <td>Uso frequente</td>\n",
              "      <td>Uso frequente</td>\n",
              "      <td>Pouco uso</td>\n",
              "      <td>Pouco uso</td>\n",
              "      <td>Pouco uso</td>\n",
              "      <td>Pouco uso</td>\n",
              "      <td>Mês-a-mês</td>\n",
              "      <td>1</td>\n",
              "      <td>Yes</td>\n",
              "      <td>Boleto - mês a mês</td>\n",
              "      <td>53.85</td>\n",
              "      <td>108.15</td>\n",
              "      <td>Sim</td>\n",
              "    </tr>\n",
              "    <tr>\n",
              "      <th>3</th>\n",
              "      <td>4</td>\n",
              "      <td>Pequena empresa</td>\n",
              "      <td>2016</td>\n",
              "      <td>Não</td>\n",
              "      <td>até 5 funcionários</td>\n",
              "      <td>45</td>\n",
              "      <td>Não</td>\n",
              "      <td>NaN</td>\n",
              "      <td>automática</td>\n",
              "      <td>Uso frequente</td>\n",
              "      <td>Pouco uso</td>\n",
              "      <td>Uso frequente</td>\n",
              "      <td>Uso frequente</td>\n",
              "      <td>Pouco uso</td>\n",
              "      <td>Pouco uso</td>\n",
              "      <td>Trimestral</td>\n",
              "      <td>0</td>\n",
              "      <td>No</td>\n",
              "      <td>Cartão de crédito - pagamento único</td>\n",
              "      <td>42.30</td>\n",
              "      <td>1840.75</td>\n",
              "      <td>Não</td>\n",
              "    </tr>\n",
              "    <tr>\n",
              "      <th>4</th>\n",
              "      <td>5</td>\n",
              "      <td>Micro empresa</td>\n",
              "      <td>2017</td>\n",
              "      <td>Não</td>\n",
              "      <td>até 5 funcionários</td>\n",
              "      <td>2</td>\n",
              "      <td>Sim</td>\n",
              "      <td>Não</td>\n",
              "      <td>manual</td>\n",
              "      <td>Pouco uso</td>\n",
              "      <td>Pouco uso</td>\n",
              "      <td>Pouco uso</td>\n",
              "      <td>Pouco uso</td>\n",
              "      <td>Pouco uso</td>\n",
              "      <td>Pouco uso</td>\n",
              "      <td>Mês-a-mês</td>\n",
              "      <td>1</td>\n",
              "      <td>Yes</td>\n",
              "      <td>Boleto - pagamento único</td>\n",
              "      <td>70.70</td>\n",
              "      <td>151.65</td>\n",
              "      <td>Sim</td>\n",
              "    </tr>\n",
              "  </tbody>\n",
              "</table>\n",
              "</div>\n",
              "      <button class=\"colab-df-convert\" onclick=\"convertToInteractive('df-eb470c86-912a-4718-9295-590f5d106530')\"\n",
              "              title=\"Convert this dataframe to an interactive table.\"\n",
              "              style=\"display:none;\">\n",
              "        \n",
              "  <svg xmlns=\"http://www.w3.org/2000/svg\" height=\"24px\"viewBox=\"0 0 24 24\"\n",
              "       width=\"24px\">\n",
              "    <path d=\"M0 0h24v24H0V0z\" fill=\"none\"/>\n",
              "    <path d=\"M18.56 5.44l.94 2.06.94-2.06 2.06-.94-2.06-.94-.94-2.06-.94 2.06-2.06.94zm-11 1L8.5 8.5l.94-2.06 2.06-.94-2.06-.94L8.5 2.5l-.94 2.06-2.06.94zm10 10l.94 2.06.94-2.06 2.06-.94-2.06-.94-.94-2.06-.94 2.06-2.06.94z\"/><path d=\"M17.41 7.96l-1.37-1.37c-.4-.4-.92-.59-1.43-.59-.52 0-1.04.2-1.43.59L10.3 9.45l-7.72 7.72c-.78.78-.78 2.05 0 2.83L4 21.41c.39.39.9.59 1.41.59.51 0 1.02-.2 1.41-.59l7.78-7.78 2.81-2.81c.8-.78.8-2.07 0-2.86zM5.41 20L4 18.59l7.72-7.72 1.47 1.35L5.41 20z\"/>\n",
              "  </svg>\n",
              "      </button>\n",
              "      \n",
              "  <style>\n",
              "    .colab-df-container {\n",
              "      display:flex;\n",
              "      flex-wrap:wrap;\n",
              "      gap: 12px;\n",
              "    }\n",
              "\n",
              "    .colab-df-convert {\n",
              "      background-color: #E8F0FE;\n",
              "      border: none;\n",
              "      border-radius: 50%;\n",
              "      cursor: pointer;\n",
              "      display: none;\n",
              "      fill: #1967D2;\n",
              "      height: 32px;\n",
              "      padding: 0 0 0 0;\n",
              "      width: 32px;\n",
              "    }\n",
              "\n",
              "    .colab-df-convert:hover {\n",
              "      background-color: #E2EBFA;\n",
              "      box-shadow: 0px 1px 2px rgba(60, 64, 67, 0.3), 0px 1px 3px 1px rgba(60, 64, 67, 0.15);\n",
              "      fill: #174EA6;\n",
              "    }\n",
              "\n",
              "    [theme=dark] .colab-df-convert {\n",
              "      background-color: #3B4455;\n",
              "      fill: #D2E3FC;\n",
              "    }\n",
              "\n",
              "    [theme=dark] .colab-df-convert:hover {\n",
              "      background-color: #434B5C;\n",
              "      box-shadow: 0px 1px 3px 1px rgba(0, 0, 0, 0.15);\n",
              "      filter: drop-shadow(0px 1px 2px rgba(0, 0, 0, 0.3));\n",
              "      fill: #FFFFFF;\n",
              "    }\n",
              "  </style>\n",
              "\n",
              "      <script>\n",
              "        const buttonEl =\n",
              "          document.querySelector('#df-eb470c86-912a-4718-9295-590f5d106530 button.colab-df-convert');\n",
              "        buttonEl.style.display =\n",
              "          google.colab.kernel.accessAllowed ? 'block' : 'none';\n",
              "\n",
              "        async function convertToInteractive(key) {\n",
              "          const element = document.querySelector('#df-eb470c86-912a-4718-9295-590f5d106530');\n",
              "          const dataTable =\n",
              "            await google.colab.kernel.invokeFunction('convertToInteractive',\n",
              "                                                     [key], {});\n",
              "          if (!dataTable) return;\n",
              "\n",
              "          const docLinkHtml = 'Like what you see? Visit the ' +\n",
              "            '<a target=\"_blank\" href=https://colab.research.google.com/notebooks/data_table.ipynb>data table notebook</a>'\n",
              "            + ' to learn more about interactive tables.';\n",
              "          element.innerHTML = '';\n",
              "          dataTable['output_type'] = 'display_data';\n",
              "          await google.colab.output.renderOutput(dataTable, element);\n",
              "          const docLink = document.createElement('div');\n",
              "          docLink.innerHTML = docLinkHtml;\n",
              "          element.appendChild(docLink);\n",
              "        }\n",
              "      </script>\n",
              "    </div>\n",
              "  </div>\n",
              "  "
            ],
            "text/plain": [
              "   ID  Tipo de empresa  ...  Receita total Churn\n",
              "0   1    Micro empresa  ...          29.85   Não\n",
              "1   2  Pequena empresa  ...        1889.50   Não\n",
              "2   3  Pequena empresa  ...         108.15   Sim\n",
              "3   4  Pequena empresa  ...        1840.75   Não\n",
              "4   5    Micro empresa  ...         151.65   Sim\n",
              "\n",
              "[5 rows x 22 columns]"
            ]
          },
          "metadata": {},
          "execution_count": 269
        }
      ],
      "source": [
        "df.head()"
      ]
    },
    {
      "cell_type": "code",
      "source": [
        "df.columns"
      ],
      "metadata": {
        "id": "37R5H8U-xzoi"
      },
      "execution_count": null,
      "outputs": []
    },
    {
      "cell_type": "code",
      "source": [
        "columns_renamed = {\n",
        "    'Tipo de empresa': 'tipo_de_empresa', \n",
        "    'Tipo de empresa': 'tipo_de_empresa', \n",
        "    'Fundação da empresa': 'fundacao_da_empresa', \n",
        "    'Possui mais de um sócio': 'possui_mais_de_um_socio', \n",
        "    'Funcionários': 'funcionarios',\n",
        "    'Meses de permanência ': 'meses_de_permanencia', \n",
        "    'Utiliza serviços financeiros': 'utiliza_servicos_financeiros',\n",
        "    'PossuiContador': 'possui_contador', \n",
        "    'Faz conciliação bancária': 'faz_conciliacao_bancaria', \n",
        "    'Frequência de utilização de feature do sistema: Módulo financeiro': 'frequencia_de_utilizacao_modulo_financeiro', \n",
        "    'Frequência de utilização de feature do sistema: Emissão de nota fiscal': 'frequencia_de_utilizacao_sistema_emissao_de_nota_fiscal',\n",
        "    'Frequência de utilização de feature do sistema: Integração bancária': 'frequencia_de_utilizacao_integracao_bancaria',\n",
        "    'Frequência de utilização de feature do sistema: Módulo de vendas': 'frequencia_de_utilizacao_modulo_de_vendas',\n",
        "    'Frequência de utilização de feature do sistema: Relatórios': 'frequencia_de_utilizacao_sistema_relatorios',\n",
        "    'Frequência de utilização de feature do sistema: Utilização de APIs de integração': 'frequencia_de_utilizacao_sistema_de_apis_de_integracao',\n",
        "    'Contrato': 'contrato',\n",
        "    'Emite boletos': 'emite_boletos',\n",
        "    'Emite boletos.1': 'emite_boletos_1',\n",
        "    'Tipo de pagamento': 'tipo_de_pagamento',\n",
        "    'Receita mensal': 'receita_mensal',\n",
        "    'Receita total': 'receita_total',\n",
        "    'Churn': 'churn'\n",
        "}\n",
        "df.rename(columns=columns_renamed, inplace=True)"
      ],
      "metadata": {
        "id": "uzLakQRawtJI"
      },
      "execution_count": 270,
      "outputs": []
    },
    {
      "cell_type": "code",
      "source": [
        "df.info()\n",
        "df.shape"
      ],
      "metadata": {
        "id": "dFmw7I6GsXUC"
      },
      "execution_count": null,
      "outputs": []
    },
    {
      "cell_type": "code",
      "source": [
        "df[df.duplicated()].count()"
      ],
      "metadata": {
        "id": "7sBO25UJexX4"
      },
      "execution_count": null,
      "outputs": []
    },
    {
      "cell_type": "code",
      "source": [
        "#Excluir valores duplicados caso haja valores duplicados\n",
        "df.drop_duplicates(inplace = True)"
      ],
      "metadata": {
        "id": "jU9-nzMKfXIh"
      },
      "execution_count": 282,
      "outputs": []
    },
    {
      "cell_type": "code",
      "source": [
        "df.isna().sum()/df.shape[0]"
      ],
      "metadata": {
        "id": "H82Oyads4gpb"
      },
      "execution_count": null,
      "outputs": []
    },
    {
      "cell_type": "code",
      "source": [
        "df['possui_contador'].fillna(df['possui_contador'].mode()[0], inplace=True)"
      ],
      "metadata": {
        "id": "K8UVhFkwKBK6"
      },
      "execution_count": 271,
      "outputs": []
    },
    {
      "cell_type": "code",
      "source": [
        "df['receita_total'].fillna(df['receita_mensal'], inplace=True)"
      ],
      "metadata": {
        "id": "aHxPMUuXM64_"
      },
      "execution_count": 272,
      "outputs": []
    },
    {
      "cell_type": "code",
      "source": [
        "df.drop(columns=['ID'], inplace=True)"
      ],
      "metadata": {
        "id": "lSB8IVMaaslv"
      },
      "execution_count": 273,
      "outputs": []
    },
    {
      "cell_type": "code",
      "source": [
        "df.drop(columns = ['emite_boletos_1'], inplace = True)"
      ],
      "metadata": {
        "id": "X5MyX8kYKjd_"
      },
      "execution_count": 274,
      "outputs": []
    },
    {
      "cell_type": "code",
      "source": [
        "df.loc[df.churn == 'Não', 'churn'] = 0\n",
        "df.loc[df.churn == 'Sim', 'churn'] = 1"
      ],
      "metadata": {
        "id": "GllxmZBZIekl"
      },
      "execution_count": 275,
      "outputs": []
    },
    {
      "cell_type": "code",
      "source": [
        "df['churn'] = df['churn'].astype(int)"
      ],
      "metadata": {
        "id": "0WFfa819Lmsx"
      },
      "execution_count": 276,
      "outputs": []
    },
    {
      "cell_type": "code",
      "source": [
        "df.loc[df.possui_mais_de_um_socio == 'Não', 'possui_mais_de_um_socio'] = 0\n",
        "df.loc[df.possui_mais_de_um_socio == 'Sim', 'possui_mais_de_um_socio'] = 1"
      ],
      "metadata": {
        "id": "jqMaDhuxL0Z9"
      },
      "execution_count": 277,
      "outputs": []
    },
    {
      "cell_type": "code",
      "source": [
        "df['possui_mais_de_um_socio'] = df['possui_mais_de_um_socio'].astype(int)"
      ],
      "metadata": {
        "id": "W3TjO498MBbS"
      },
      "execution_count": 278,
      "outputs": []
    },
    {
      "cell_type": "code",
      "source": [
        "df.loc[df.utiliza_servicos_financeiros == 'Não', 'utiliza_servicos_financeiros'] = 0\n",
        "df.loc[df.utiliza_servicos_financeiros == 'Sim', 'utiliza_servicos_financeiros'] = 1"
      ],
      "metadata": {
        "id": "jvoW_8BbMNMx"
      },
      "execution_count": 279,
      "outputs": []
    },
    {
      "cell_type": "code",
      "source": [
        "df['utiliza_servicos_financeiros'] = df['utiliza_servicos_financeiros'].astype(int)"
      ],
      "metadata": {
        "id": "s09SWzivMTYS"
      },
      "execution_count": 280,
      "outputs": []
    },
    {
      "cell_type": "code",
      "source": [
        "df.loc[df.possui_contador == 'Não', 'possui_contador'] = 0\n",
        "df.loc[df.possui_contador == 'Não ', 'possui_contador'] = 0\n",
        "df.loc[df.possui_contador == 'Sim', 'possui_contador'] = 1"
      ],
      "metadata": {
        "id": "qVnYAgCeMVr2"
      },
      "execution_count": 281,
      "outputs": []
    },
    {
      "cell_type": "code",
      "source": [
        "df['possui_contador'] = df['possui_contador'].astype(int)"
      ],
      "metadata": {
        "id": "wvZ11ns7MhZ4"
      },
      "execution_count": 282,
      "outputs": []
    },
    {
      "cell_type": "code",
      "source": [
        "df.loc[df.possui_mais_de_um_socio == 'Não', 'possui_mais_de_um_socio'] = 0\n",
        "df.loc[df.possui_mais_de_um_socio == 'Sim', 'possui_mais_de_um_socio'] = 1"
      ],
      "metadata": {
        "id": "sVOKm5TjpIOj"
      },
      "execution_count": 283,
      "outputs": []
    },
    {
      "cell_type": "code",
      "source": [
        "df['possui_mais_de_um_socio'] = df['possui_mais_de_um_socio'].astype(int)"
      ],
      "metadata": {
        "id": "oVPfckwkpbjo"
      },
      "execution_count": 284,
      "outputs": []
    },
    {
      "cell_type": "code",
      "source": [
        "df.loc[df.tipo_de_empresa == 'Micro empresa', 'tipo_de_empresa'] = 0\n",
        "df.loc[df.tipo_de_empresa == 'Pequena empresa', 'tipo_de_empresa'] = 1"
      ],
      "metadata": {
        "id": "J2ftJ-BmpgXF"
      },
      "execution_count": 285,
      "outputs": []
    },
    {
      "cell_type": "code",
      "source": [
        "df['tipo_de_empresa'] = df['tipo_de_empresa'].astype(int)"
      ],
      "metadata": {
        "id": "nshJCWRTpnq5"
      },
      "execution_count": 286,
      "outputs": []
    },
    {
      "cell_type": "code",
      "source": [
        "df.loc[df.funcionarios == 'até 5 funcionários', 'funcionarios'] = 0\n",
        "df.loc[df.funcionarios == '6 ou mais funcionários', 'funcionarios'] = 1"
      ],
      "metadata": {
        "id": "2Kz_0Hj5p68l"
      },
      "execution_count": 287,
      "outputs": []
    },
    {
      "cell_type": "code",
      "source": [
        "df['funcionarios'] = df['funcionarios'].astype(int)"
      ],
      "metadata": {
        "id": "HeVoRCDMqMBu"
      },
      "execution_count": 288,
      "outputs": []
    },
    {
      "cell_type": "markdown",
      "source": [
        "#**EDA**"
      ],
      "metadata": {
        "id": "sYSibp0erY1_"
      }
    },
    {
      "cell_type": "code",
      "source": [
        "df.describe()"
      ],
      "metadata": {
        "id": "JZq_9J0y1X2d"
      },
      "execution_count": null,
      "outputs": []
    },
    {
      "cell_type": "code",
      "source": [
        "df.head()"
      ],
      "metadata": {
        "id": "ddLoq4-J2TZZ"
      },
      "execution_count": null,
      "outputs": []
    },
    {
      "cell_type": "code",
      "source": [
        "profile = ProfileReport(\n",
        "    df, title='Profile_EDA', html={'style': {'full_width': True}}, sort=None)"
      ],
      "metadata": {
        "id": "PQtiiS0UaFY4"
      },
      "execution_count": 320,
      "outputs": []
    },
    {
      "cell_type": "code",
      "source": [
        "profile.to_notebook_iframe()"
      ],
      "metadata": {
        "id": "9SaFCfPDsWRm"
      },
      "execution_count": null,
      "outputs": []
    },
    {
      "cell_type": "markdown",
      "source": [
        "## Avaliação de Distribuições e Densidade\n"
      ],
      "metadata": {
        "id": "bn2YJtOyVjW1"
      }
    },
    {
      "cell_type": "code",
      "source": [
        "df['churn'].value_counts()"
      ],
      "metadata": {
        "colab": {
          "base_uri": "https://localhost:8080/"
        },
        "id": "o_jLkVx8Nrmv",
        "outputId": "f309e20d-408e-4263-e167-2bb0fdd98094"
      },
      "execution_count": 171,
      "outputs": [
        {
          "output_type": "execute_result",
          "data": {
            "text/plain": [
              "0    5174\n",
              "1    1869\n",
              "Name: churn, dtype: int64"
            ]
          },
          "metadata": {},
          "execution_count": 171
        }
      ]
    },
    {
      "cell_type": "code",
      "source": [
        "df.churn.hist(density = True)"
      ],
      "metadata": {
        "colab": {
          "base_uri": "https://localhost:8080/",
          "height": 282
        },
        "id": "Ux6nHn_-VZXA",
        "outputId": "2fcfc738-3cec-4526-f8df-89f1cbb17ace"
      },
      "execution_count": 191,
      "outputs": [
        {
          "output_type": "execute_result",
          "data": {
            "text/plain": [
              "<matplotlib.axes._subplots.AxesSubplot at 0x7f31620767d0>"
            ]
          },
          "metadata": {},
          "execution_count": 191
        },
        {
          "output_type": "display_data",
          "data": {
            "image/png": "[encoded data removed]",
            "text/plain": [
              "<Figure size 432x288 with 1 Axes>"
            ]
          },
          "metadata": {
            "needs_background": "light"
          }
        }
      ]
    },
    {
      "cell_type": "code",
      "source": [
        "plt.figure(figsize = (6,6))\n",
        "sns.violinplot(df.churn)\n",
        "plt.title('Distribuição do Churn')"
      ],
      "metadata": {
        "colab": {
          "base_uri": "https://localhost:8080/",
          "height": 510
        },
        "id": "NM6gb736qzwP",
        "outputId": "1942e629-8275-4267-e94e-442480c2aab5"
      },
      "execution_count": 362,
      "outputs": [
        {
          "output_type": "stream",
          "name": "stderr",
          "text": [
            "/usr/local/lib/python3.7/dist-packages/seaborn/_decorators.py:43: FutureWarning:\n",
            "\n",
            "Pass the following variable as a keyword arg: x. From version 0.12, the only valid positional argument will be `data`, and passing other arguments without an explicit keyword will result in an error or misinterpretation.\n",
            "\n"
          ]
        },
        {
          "output_type": "execute_result",
          "data": {
            "text/plain": [
              "Text(0.5, 1.0, 'Distribuição do Churn')"
            ]
          },
          "metadata": {},
          "execution_count": 362
        },
        {
          "output_type": "display_data",
          "data": {
            "image/png": "[encoded data removed]",
            "text/plain": [
              "<Figure size 432x432 with 1 Axes>"
            ]
          },
          "metadata": {
            "needs_background": "light"
          }
        }
      ]
    },
    {
      "cell_type": "code",
      "source": [
        "plt.figure(figsize =(6,6))\n",
        "df.boxplot('receita_total',vert=False)"
      ],
      "metadata": {
        "colab": {
          "base_uri": "https://localhost:8080/",
          "height": 391
        },
        "id": "K5HZ7h7n0EKY",
        "outputId": "03444932-bf02-48d5-85ac-32d835bec67e"
      },
      "execution_count": 361,
      "outputs": [
        {
          "output_type": "execute_result",
          "data": {
            "text/plain": [
              "<matplotlib.axes._subplots.AxesSubplot at 0x7f1c192aaed0>"
            ]
          },
          "metadata": {},
          "execution_count": 361
        },
        {
          "output_type": "display_data",
          "data": {
            "image/png": "[encoded data removed]",
            "text/plain": [
              "<Figure size 432x432 with 1 Axes>"
            ]
          },
          "metadata": {
            "needs_background": "light"
          }
        }
      ]
    },
    {
      "cell_type": "code",
      "source": [
        "sns.histplot(data=df, x=\"receita_total\", bins=10,  stat=\"density\", kde=True)\n",
        "plt.title('Distribuição Receita Total')"
      ],
      "metadata": {
        "colab": {
          "base_uri": "https://localhost:8080/",
          "height": 314
        },
        "id": "qeCm0UVp4W46",
        "outputId": "a08a9577-22c0-48d4-9d49-f2e712a54b04"
      },
      "execution_count": 49,
      "outputs": [
        {
          "output_type": "execute_result",
          "data": {
            "text/plain": [
              "Text(0.5, 1.0, 'Distribuição Receita Total')"
            ]
          },
          "metadata": {},
          "execution_count": 49
        },
        {
          "output_type": "display_data",
          "data": {
            "image/png": "[encoded data removed]",
            "text/plain": [
              "<Figure size 432x288 with 1 Axes>"
            ]
          },
          "metadata": {
            "needs_background": "light"
          }
        }
      ]
    },
    {
      "cell_type": "code",
      "source": [
        "res = stats.probplot(df['receita_total'], plot = plt)"
      ],
      "metadata": {
        "colab": {
          "base_uri": "https://localhost:8080/",
          "height": 295
        },
        "id": "OapuVUdy5Kda",
        "outputId": "c980dd31-5b2e-4fd8-8564-ea7060dee2d5"
      },
      "execution_count": 54,
      "outputs": [
        {
          "output_type": "display_data",
          "data": {
            "image/png": "[encoded data removed]",
            "text/plain": [
              "<Figure size 432x288 with 1 Axes>"
            ]
          },
          "metadata": {
            "needs_background": "light"
          }
        }
      ]
    },
    {
      "cell_type": "code",
      "source": [
        "numeric_var = ['fundacao_da_empresa', 'meses_de_permanencia', 'receita_mensal', 'receita_total']"
      ],
      "metadata": {
        "id": "c49l0uwy8qFP"
      },
      "execution_count": 368,
      "outputs": []
    },
    {
      "cell_type": "code",
      "source": [
        "# Olhando a distribuição para todas as variaveis\n",
        "n_rows=2\n",
        "n_cols=2\n",
        "# Create the subplots\n",
        "fig, axes = plt.subplots(nrows = n_rows, ncols=n_cols)\n",
        "fig.set_size_inches(10, 8)\n",
        "\n",
        "for i, (ax, column) in enumerate(zip(axes.flatten(), numeric_var)):\n",
        "  sns.histplot(df[column], ax=axes[i//n_cols][i%n_cols], bins=10, stat=\"density\", kde=True) "
      ],
      "metadata": {
        "colab": {
          "base_uri": "https://localhost:8080/",
          "height": 498
        },
        "id": "wWBaPU5G9fsz",
        "outputId": "8a46add6-42c3-40fc-8eb9-e59d7bd3d30a"
      },
      "execution_count": 370,
      "outputs": [
        {
          "output_type": "display_data",
          "data": {
            "image/png": "[encoded data removed]",
            "text/plain": [
              "<Figure size 720x576 with 4 Axes>"
            ]
          },
          "metadata": {
            "needs_background": "light"
          }
        }
      ]
    },
    {
      "cell_type": "code",
      "source": [
        "#Todas variáveis\n",
        "corr_var = df.corr()\n",
        "plt.figure(figsize = (10,8))\n",
        "sns.heatmap(data = corr_var, linewidths=.5, annot=True,  fmt=\".2f\")"
      ],
      "metadata": {
        "colab": {
          "base_uri": "https://localhost:8080/",
          "height": 630
        },
        "id": "bLg4z6G6y6eY",
        "outputId": "7e818995-0e2d-45f8-ea1a-bc8d1ceaa8c4"
      },
      "execution_count": 372,
      "outputs": [
        {
          "output_type": "execute_result",
          "data": {
            "text/plain": [
              "<matplotlib.axes._subplots.AxesSubplot at 0x7f1c19155850>"
            ]
          },
          "metadata": {},
          "execution_count": 372
        },
        {
          "output_type": "display_data",
          "data": {
            "image/png": "[encoded data removed]",
            "text/plain": [
              "<Figure size 720x576 with 2 Axes>"
            ]
          },
          "metadata": {
            "needs_background": "light"
          }
        }
      ]
    },
    {
      "cell_type": "code",
      "source": [
        "plt.figure(figsize=(10,5))\n",
        "plt.title(\"distribuição do churn pelo tipo de empresa\", fontsize=15)\n",
        "lines = ['churn']\n",
        "for line in lines:\n",
        "    ax = sns.lineplot(x='tipo_de_empresa', y=line, data=df)"
      ],
      "metadata": {
        "colab": {
          "base_uri": "https://localhost:8080/",
          "height": 353
        },
        "id": "isPY22QCNMNU",
        "outputId": "7adc89bf-82fe-4eb8-f16e-201a9d1b1131"
      },
      "execution_count": 338,
      "outputs": [
        {
          "output_type": "display_data",
          "data": {
            "image/png": "[encoded data removed]",
            "text/plain": [
              "<Figure size 720x360 with 1 Axes>"
            ]
          },
          "metadata": {
            "needs_background": "light"
          }
        }
      ]
    },
    {
      "cell_type": "code",
      "source": [
        "plt.figure(figsize=(10,5))\n",
        "plt.title(\"distribuição do churn por tempo de contrato\", fontsize=15)\n",
        "lines = ['churn']\n",
        "for line in lines:\n",
        "    ax = sns.lineplot(x='contrato', y=line, data=df)"
      ],
      "metadata": {
        "colab": {
          "base_uri": "https://localhost:8080/",
          "height": 352
        },
        "id": "-7gN_dAi5J9U",
        "outputId": "65ed9ce9-f80b-4a28-c8aa-f6ae1e9a290b"
      },
      "execution_count": 366,
      "outputs": [
        {
          "output_type": "display_data",
          "data": {
            "image/png": "[encoded data removed]",
            "text/plain": [
              "<Figure size 720x360 with 1 Axes>"
            ]
          },
          "metadata": {
            "needs_background": "light"
          }
        }
      ]
    },
    {
      "cell_type": "code",
      "source": [
        "media_por_ano = df[['fundacao_da_empresa', 'meses_de_permanencia', 'receita_mensal', 'receita_total']].groupby('fundacao_da_empresa').mean().sort_values(by='fundacao_da_empresa').reset_index()\n",
        "media_por_ano.head()"
      ],
      "metadata": {
        "colab": {
          "base_uri": "https://localhost:8080/",
          "height": 206
        },
        "id": "2qVOtATyhmKm",
        "outputId": "daf2e70e-daa7-44a1-f166-1453cc96219c"
      },
      "execution_count": 331,
      "outputs": [
        {
          "output_type": "execute_result",
          "data": {
            "text/html": [
              "\n",
              "  <div id=\"df-8fcdfefd-a484-421c-8c3c-db85ed3ada7c\">\n",
              "    <div class=\"colab-df-container\">\n",
              "      <div>\n",
              "<style scoped>\n",
              "    .dataframe tbody tr th:only-of-type {\n",
              "        vertical-align: middle;\n",
              "    }\n",
              "\n",
              "    .dataframe tbody tr th {\n",
              "        vertical-align: top;\n",
              "    }\n",
              "\n",
              "    .dataframe thead th {\n",
              "        text-align: right;\n",
              "    }\n",
              "</style>\n",
              "<table border=\"1\" class=\"dataframe\">\n",
              "  <thead>\n",
              "    <tr style=\"text-align: right;\">\n",
              "      <th></th>\n",
              "      <th>fundacao_da_empresa</th>\n",
              "      <th>meses_de_permanencia</th>\n",
              "      <th>receita_mensal</th>\n",
              "      <th>receita_total</th>\n",
              "    </tr>\n",
              "  </thead>\n",
              "  <tbody>\n",
              "    <tr>\n",
              "      <th>0</th>\n",
              "      <td>2001</td>\n",
              "      <td>32.211765</td>\n",
              "      <td>75.657647</td>\n",
              "      <td>2557.699412</td>\n",
              "    </tr>\n",
              "    <tr>\n",
              "      <th>1</th>\n",
              "      <td>2002</td>\n",
              "      <td>29.057143</td>\n",
              "      <td>83.636429</td>\n",
              "      <td>2665.356429</td>\n",
              "    </tr>\n",
              "    <tr>\n",
              "      <th>2</th>\n",
              "      <td>2003</td>\n",
              "      <td>28.050633</td>\n",
              "      <td>77.804430</td>\n",
              "      <td>2360.703165</td>\n",
              "    </tr>\n",
              "    <tr>\n",
              "      <th>3</th>\n",
              "      <td>2004</td>\n",
              "      <td>34.537500</td>\n",
              "      <td>74.618750</td>\n",
              "      <td>2638.096250</td>\n",
              "    </tr>\n",
              "    <tr>\n",
              "      <th>4</th>\n",
              "      <td>2005</td>\n",
              "      <td>35.045977</td>\n",
              "      <td>82.882184</td>\n",
              "      <td>3017.472414</td>\n",
              "    </tr>\n",
              "  </tbody>\n",
              "</table>\n",
              "</div>\n",
              "      <button class=\"colab-df-convert\" onclick=\"convertToInteractive('df-8fcdfefd-a484-421c-8c3c-db85ed3ada7c')\"\n",
              "              title=\"Convert this dataframe to an interactive table.\"\n",
              "              style=\"display:none;\">\n",
              "        \n",
              "  <svg xmlns=\"http://www.w3.org/2000/svg\" height=\"24px\"viewBox=\"0 0 24 24\"\n",
              "       width=\"24px\">\n",
              "    <path d=\"M0 0h24v24H0V0z\" fill=\"none\"/>\n",
              "    <path d=\"M18.56 5.44l.94 2.06.94-2.06 2.06-.94-2.06-.94-.94-2.06-.94 2.06-2.06.94zm-11 1L8.5 8.5l.94-2.06 2.06-.94-2.06-.94L8.5 2.5l-.94 2.06-2.06.94zm10 10l.94 2.06.94-2.06 2.06-.94-2.06-.94-.94-2.06-.94 2.06-2.06.94z\"/><path d=\"M17.41 7.96l-1.37-1.37c-.4-.4-.92-.59-1.43-.59-.52 0-1.04.2-1.43.59L10.3 9.45l-7.72 7.72c-.78.78-.78 2.05 0 2.83L4 21.41c.39.39.9.59 1.41.59.51 0 1.02-.2 1.41-.59l7.78-7.78 2.81-2.81c.8-.78.8-2.07 0-2.86zM5.41 20L4 18.59l7.72-7.72 1.47 1.35L5.41 20z\"/>\n",
              "  </svg>\n",
              "      </button>\n",
              "      \n",
              "  <style>\n",
              "    .colab-df-container {\n",
              "      display:flex;\n",
              "      flex-wrap:wrap;\n",
              "      gap: 12px;\n",
              "    }\n",
              "\n",
              "    .colab-df-convert {\n",
              "      background-color: #E8F0FE;\n",
              "      border: none;\n",
              "      border-radius: 50%;\n",
              "      cursor: pointer;\n",
              "      display: none;\n",
              "      fill: #1967D2;\n",
              "      height: 32px;\n",
              "      padding: 0 0 0 0;\n",
              "      width: 32px;\n",
              "    }\n",
              "\n",
              "    .colab-df-convert:hover {\n",
              "      background-color: #E2EBFA;\n",
              "      box-shadow: 0px 1px 2px rgba(60, 64, 67, 0.3), 0px 1px 3px 1px rgba(60, 64, 67, 0.15);\n",
              "      fill: #174EA6;\n",
              "    }\n",
              "\n",
              "    [theme=dark] .colab-df-convert {\n",
              "      background-color: #3B4455;\n",
              "      fill: #D2E3FC;\n",
              "    }\n",
              "\n",
              "    [theme=dark] .colab-df-convert:hover {\n",
              "      background-color: #434B5C;\n",
              "      box-shadow: 0px 1px 3px 1px rgba(0, 0, 0, 0.15);\n",
              "      filter: drop-shadow(0px 1px 2px rgba(0, 0, 0, 0.3));\n",
              "      fill: #FFFFFF;\n",
              "    }\n",
              "  </style>\n",
              "\n",
              "      <script>\n",
              "        const buttonEl =\n",
              "          document.querySelector('#df-8fcdfefd-a484-421c-8c3c-db85ed3ada7c button.colab-df-convert');\n",
              "        buttonEl.style.display =\n",
              "          google.colab.kernel.accessAllowed ? 'block' : 'none';\n",
              "\n",
              "        async function convertToInteractive(key) {\n",
              "          const element = document.querySelector('#df-8fcdfefd-a484-421c-8c3c-db85ed3ada7c');\n",
              "          const dataTable =\n",
              "            await google.colab.kernel.invokeFunction('convertToInteractive',\n",
              "                                                     [key], {});\n",
              "          if (!dataTable) return;\n",
              "\n",
              "          const docLinkHtml = 'Like what you see? Visit the ' +\n",
              "            '<a target=\"_blank\" href=https://colab.research.google.com/notebooks/data_table.ipynb>data table notebook</a>'\n",
              "            + ' to learn more about interactive tables.';\n",
              "          element.innerHTML = '';\n",
              "          dataTable['output_type'] = 'display_data';\n",
              "          await google.colab.output.renderOutput(dataTable, element);\n",
              "          const docLink = document.createElement('div');\n",
              "          docLink.innerHTML = docLinkHtml;\n",
              "          element.appendChild(docLink);\n",
              "        }\n",
              "      </script>\n",
              "    </div>\n",
              "  </div>\n",
              "  "
            ],
            "text/plain": [
              "   fundacao_da_empresa  meses_de_permanencia  receita_mensal  receita_total\n",
              "0                 2001             32.211765       75.657647    2557.699412\n",
              "1                 2002             29.057143       83.636429    2665.356429\n",
              "2                 2003             28.050633       77.804430    2360.703165\n",
              "3                 2004             34.537500       74.618750    2638.096250\n",
              "4                 2005             35.045977       82.882184    3017.472414"
            ]
          },
          "metadata": {},
          "execution_count": 331
        }
      ]
    },
    {
      "cell_type": "code",
      "source": [
        "plt.figure(figsize=(10,5))\n",
        "plt.title(\"Média da permanência da empresa pelo ano de fundação\", fontsize=15)\n",
        "lines = ['meses_de_permanencia']\n",
        "for line in lines:\n",
        "    ax = sns.lineplot(x='fundacao_da_empresa', y=line, data=media_por_ano)"
      ],
      "metadata": {
        "colab": {
          "base_uri": "https://localhost:8080/",
          "height": 354
        },
        "id": "dulTFc9yR7Ni",
        "outputId": "18558381-f83b-41ab-82ab-74752004b44b"
      },
      "execution_count": 367,
      "outputs": [
        {
          "output_type": "display_data",
          "data": {
            "image/png": "[encoded data removed]",
            "text/plain": [
              "<Figure size 720x360 with 1 Axes>"
            ]
          },
          "metadata": {
            "needs_background": "light"
          }
        }
      ]
    },
    {
      "cell_type": "code",
      "source": [
        "plt.figure(figsize=(10,5))\n",
        "plt.title(\"Média da receita total pelo ano de fundação da empresa\", fontsize=15)\n",
        "lines = ['receita_total']\n",
        "for line in lines:\n",
        "    ax = sns.lineplot(x='fundacao_da_empresa', y=line, data=media_por_ano)"
      ],
      "metadata": {
        "colab": {
          "base_uri": "https://localhost:8080/",
          "height": 354
        },
        "id": "fqKphjTmmkXu",
        "outputId": "5469e924-bd02-478a-ae43-5a94382d6887"
      },
      "execution_count": 374,
      "outputs": [
        {
          "output_type": "display_data",
          "data": {
            "image/png": "[encoded data removed]",
            "text/plain": [
              "<Figure size 720x360 with 1 Axes>"
            ]
          },
          "metadata": {
            "needs_background": "light"
          }
        }
      ]
    },
    {
      "cell_type": "code",
      "source": [
        "#Teste T para saber se alguns parâmetros influenciam realmente no Churn\n",
        "import statsmodels.api as sm\n",
        "import statsmodels.stats.multicomp\n",
        "\n",
        "from statsmodels.formula.api import ols\n",
        "from statsmodels.stats.anova import anova_lm"
      ],
      "metadata": {
        "id": "0c2DuPM0qbl-"
      },
      "execution_count": 64,
      "outputs": []
    },
    {
      "cell_type": "markdown",
      "source": [
        "####H0: Não há diferença entre as médias\n",
        "####H1: Há diferença"
      ],
      "metadata": {
        "id": "-VJP4U_yqpya"
      }
    },
    {
      "cell_type": "code",
      "source": [
        "sns.boxplot(x=df.churn, y=df.meses_de_permanencia)\n",
        "plt.title('Distribuição de Churn por meses de permanência')\n",
        "plt.show()"
      ],
      "metadata": {
        "colab": {
          "base_uri": "https://localhost:8080/",
          "height": 295
        },
        "id": "QeCiCeH1nnmM",
        "outputId": "b86ceac2-1b44-4ff8-aa3d-ff88431f04ee"
      },
      "execution_count": 65,
      "outputs": [
        {
          "output_type": "display_data",
          "data": {
            "image/png": "[encoded data removed]",
            "text/plain": [
              "<Figure size 432x288 with 1 Axes>"
            ]
          },
          "metadata": {
            "needs_background": "light"
          }
        }
      ]
    },
    {
      "cell_type": "code",
      "source": [
        "df[df.churn==0]['meses_de_permanencia'].hist(density=True, alpha=0.5)\n",
        "df[df.churn==1]['meses_de_permanencia'].hist(density=True, alpha=0.5)\n",
        "plt.legend(['churn 0', 'churn 1'])\n",
        "plt.title('Densidade da permanencia')\n",
        "plt.show()"
      ],
      "metadata": {
        "colab": {
          "base_uri": "https://localhost:8080/",
          "height": 281
        },
        "id": "5FfNP6vsqk2Q",
        "outputId": "3588c5e4-5aca-43e1-df1a-6198c2968fec"
      },
      "execution_count": 376,
      "outputs": [
        {
          "output_type": "display_data",
          "data": {
            "image/png": "[encoded data removed]",
            "text/plain": [
              "<Figure size 432x288 with 1 Axes>"
            ]
          },
          "metadata": {
            "needs_background": "light"
          }
        }
      ]
    },
    {
      "cell_type": "code",
      "source": [
        "stats.ttest_ind(df[df.churn==0]['meses_de_permanencia'], df[df.churn==1]['meses_de_permanencia'])"
      ],
      "metadata": {
        "colab": {
          "base_uri": "https://localhost:8080/"
        },
        "id": "g4SVdEvKrMIL",
        "outputId": "e700f787-39f3-4641-9df6-61d99762765f"
      },
      "execution_count": 69,
      "outputs": [
        {
          "output_type": "execute_result",
          "data": {
            "text/plain": [
              "Ttest_indResult(statistic=31.569995452928403, pvalue=1.0732933837402176e-204)"
            ]
          },
          "metadata": {},
          "execution_count": 69
        }
      ]
    },
    {
      "cell_type": "code",
      "source": [
        "sns.boxplot(x=df.churn, y=df.receita_mensal)\n",
        "plt.title('Distribuição de Churn por receita mensal')\n",
        "plt.show()"
      ],
      "metadata": {
        "colab": {
          "base_uri": "https://localhost:8080/",
          "height": 295
        },
        "id": "ExLySseJr_Ae",
        "outputId": "3ab3c7e8-25cb-4882-bb38-819340e3fbbe"
      },
      "execution_count": 70,
      "outputs": [
        {
          "output_type": "display_data",
          "data": {
            "image/png": "[encoded data removed]",
            "text/plain": [
              "<Figure size 432x288 with 1 Axes>"
            ]
          },
          "metadata": {
            "needs_background": "light"
          }
        }
      ]
    },
    {
      "cell_type": "code",
      "source": [
        "df[df['churn']==0]['receita_mensal'].hist(density=True, alpha=0.5)\n",
        "df[df['churn']==1]['receita_mensal'].hist(density=True, alpha=0.5)\n",
        "plt.legend(['churn 0', 'churn 1'])\n",
        "plt.title('churn por receita mensal')\n",
        "plt.show()"
      ],
      "metadata": {
        "colab": {
          "base_uri": "https://localhost:8080/",
          "height": 281
        },
        "id": "h-YoLzAIshpH",
        "outputId": "2e427bdc-c214-4cc8-fd7c-e122aee7090f"
      },
      "execution_count": 375,
      "outputs": [
        {
          "output_type": "display_data",
          "data": {
            "image/png": "[encoded data removed]",
            "text/plain": [
              "<Figure size 432x288 with 1 Axes>"
            ]
          },
          "metadata": {
            "needs_background": "light"
          }
        }
      ]
    },
    {
      "cell_type": "code",
      "source": [
        "stats.ttest_ind(df[df.churn==0]['receita_mensal'], df[df.churn==1]['receita_mensal'])"
      ],
      "metadata": {
        "colab": {
          "base_uri": "https://localhost:8080/"
        },
        "id": "YaZO1haPtADN",
        "outputId": "cc6afe97-cbba-4b19-bc23-ae64065d5109"
      },
      "execution_count": 43,
      "outputs": [
        {
          "output_type": "execute_result",
          "data": {
            "text/plain": [
              "Ttest_indResult(statistic=-16.55017772823186, pvalue=2.189014556607605e-60)"
            ]
          },
          "metadata": {},
          "execution_count": 43
        }
      ]
    },
    {
      "cell_type": "markdown",
      "source": [
        "#**Feature Engineering**"
      ],
      "metadata": {
        "id": "i_LfAIOWfEBp"
      }
    },
    {
      "cell_type": "markdown",
      "source": [
        "####Tratamento de outliers e 'feature scaling' das variáveis contínuas."
      ],
      "metadata": {
        "id": "ITTUBJfRuOtl"
      }
    },
    {
      "cell_type": "code",
      "source": [
        "## Remoção Outlier por IQR\n",
        "def iqr_remove(df,col):\n",
        "  Q1 = df[col].quantile(0.25)\n",
        "  Q3 = df[col].quantile(0.75)\n",
        "  IQR = Q3 - Q1\n",
        "  return df[~((df[col] < (Q1 - 1.5 * IQR)) | (df[col] > (Q3 + 1.5 * IQR)))]"
      ],
      "metadata": {
        "id": "oc_f9YBGfI7z"
      },
      "execution_count": 72,
      "outputs": []
    },
    {
      "cell_type": "code",
      "source": [
        "df.shape"
      ],
      "metadata": {
        "colab": {
          "base_uri": "https://localhost:8080/"
        },
        "id": "Hmgm9e-X2X6Y",
        "outputId": "2d586b6f-19b9-4dbd-9451-b4173065f2ec"
      },
      "execution_count": 211,
      "outputs": [
        {
          "output_type": "execute_result",
          "data": {
            "text/plain": [
              "(7036, 20)"
            ]
          },
          "metadata": {},
          "execution_count": 211
        }
      ]
    },
    {
      "cell_type": "code",
      "source": [
        "iqr_remove(df,'receita_total').shape"
      ],
      "metadata": {
        "colab": {
          "base_uri": "https://localhost:8080/"
        },
        "id": "SX40XVIA2gGK",
        "outputId": "084bf233-191c-409c-c658-bbb9123a6cec"
      },
      "execution_count": 213,
      "outputs": [
        {
          "output_type": "execute_result",
          "data": {
            "text/plain": [
              "(7036, 20)"
            ]
          },
          "metadata": {},
          "execution_count": 213
        }
      ]
    },
    {
      "cell_type": "code",
      "source": [
        "iqr_remove(df,'meses_de_permanencia').shape"
      ],
      "metadata": {
        "colab": {
          "base_uri": "https://localhost:8080/"
        },
        "id": "QelPMiMp5TeZ",
        "outputId": "15426e13-6c7c-4a8b-8089-a45c2610b739"
      },
      "execution_count": 214,
      "outputs": [
        {
          "output_type": "execute_result",
          "data": {
            "text/plain": [
              "(7036, 20)"
            ]
          },
          "metadata": {},
          "execution_count": 214
        }
      ]
    },
    {
      "cell_type": "code",
      "source": [
        "iqr_remove(df,'receita_mensal').shape"
      ],
      "metadata": {
        "colab": {
          "base_uri": "https://localhost:8080/"
        },
        "id": "sMbpBVza5kgo",
        "outputId": "608a4fcb-9b90-44c7-f7fa-665c3de80986"
      },
      "execution_count": 215,
      "outputs": [
        {
          "output_type": "execute_result",
          "data": {
            "text/plain": [
              "(7036, 20)"
            ]
          },
          "metadata": {},
          "execution_count": 215
        }
      ]
    },
    {
      "cell_type": "code",
      "source": [
        "print(df.skew())"
      ],
      "metadata": {
        "id": "p2Ox-J-xrgrj"
      },
      "execution_count": null,
      "outputs": []
    },
    {
      "cell_type": "code",
      "source": [
        "from sklearn.preprocessing import MinMaxScaler\n",
        "from sklearn.preprocessing import StandardScaler\n",
        "from sklearn.preprocessing import RobustScaler"
      ],
      "metadata": {
        "id": "RBm9YKIh592E"
      },
      "execution_count": 27,
      "outputs": []
    },
    {
      "cell_type": "code",
      "source": [
        "z_score = StandardScaler()\n",
        "min_max = MinMaxScaler()\n",
        "robust = RobustScaler()"
      ],
      "metadata": {
        "id": "z3c8HCp86CpP"
      },
      "execution_count": 28,
      "outputs": []
    },
    {
      "cell_type": "code",
      "source": [
        "df_features = df"
      ],
      "metadata": {
        "id": "YJkG6tNbTkhK"
      },
      "execution_count": 389,
      "outputs": []
    },
    {
      "cell_type": "code",
      "source": [
        "df_features.meses_de_permanencia = min_max.fit_transform(df[['meses_de_permanencia']])"
      ],
      "metadata": {
        "id": "P13nRxLNsGJf"
      },
      "execution_count": 390,
      "outputs": []
    },
    {
      "cell_type": "code",
      "source": [
        "df_features.receita_mensal = min_max.fit_transform(df[['receita_mensal']])"
      ],
      "metadata": {
        "id": "kyxzif-dtMpq"
      },
      "execution_count": 391,
      "outputs": []
    },
    {
      "cell_type": "code",
      "source": [
        "df_features.receita_total = min_max.fit_transform(df[['receita_total']])"
      ],
      "metadata": {
        "id": "CUvLLCpntUY4"
      },
      "execution_count": 392,
      "outputs": []
    },
    {
      "cell_type": "code",
      "source": [
        "df_features.head()"
      ],
      "metadata": {
        "id": "uV4viUrstmXA"
      },
      "execution_count": null,
      "outputs": []
    },
    {
      "cell_type": "markdown",
      "source": [
        "####Transformação das variáveis categóricas"
      ],
      "metadata": {
        "id": "8gvkAwBN5seV"
      }
    },
    {
      "cell_type": "markdown",
      "source": [
        "######ONE HOT enconding:\n",
        "Transformar variáveis categóricas com respostas binárias em variáveis contínuas."
      ],
      "metadata": {
        "id": "Ji-1Fld0vM9i"
      }
    },
    {
      "cell_type": "code",
      "source": [
        "!pip install category_encoders"
      ],
      "metadata": {
        "id": "IenabzgI5t9k"
      },
      "execution_count": null,
      "outputs": []
    },
    {
      "cell_type": "code",
      "source": [
        "import category_encoders as ce\n",
        "from sklearn.preprocessing import OneHotEncoder\n",
        "from category_encoders import TargetEncoder\n",
        "from sklearn.preprocessing import OrdinalEncoder"
      ],
      "metadata": {
        "id": "NZBHPgIk5vrW"
      },
      "execution_count": 245,
      "outputs": []
    },
    {
      "cell_type": "code",
      "metadata": {
        "id": "IL_teaa6Eqfn"
      },
      "source": [
        "one_hot = OneHotEncoder()"
      ],
      "execution_count": 348,
      "outputs": []
    },
    {
      "cell_type": "code",
      "metadata": {
        "id": "occaZn5EG1l5"
      },
      "source": [
        "# temp_tipo_empresa = pd.DataFrame(one_hot.fit_transform(df_features[['tipo_de_empresa']]).toarray(),columns=one_hot.get_feature_names_out(['tipo_de_empresa']))\n",
        "# df_features = df_features.drop(columns='tipo_de_empresa').join(temp_tipo_empresa)"
      ],
      "execution_count": 388,
      "outputs": []
    },
    {
      "cell_type": "code",
      "source": [
        "# temp_funcionarios = pd.DataFrame(one_hot.fit_transform(df_features[['funcionarios']]).toarray(),columns=one_hot.get_feature_names_out(['funcionarios']))\n",
        "# df_features = df_features.drop(columns='funcionarios').join(temp_funcionarios)"
      ],
      "metadata": {
        "id": "Htcy1MT5YFCE"
      },
      "execution_count": 372,
      "outputs": []
    },
    {
      "cell_type": "code",
      "source": [
        "# temp_socio = pd.DataFrame(one_hot.fit_transform(df_features[['possui_mais_de_um_socio']]).toarray(),columns=one_hot.get_feature_names_out(['possui_mais_de_um_socio']))\n",
        "# df_features = df_features.drop(columns='possui_mais_de_um_socio').join(temp_socio)"
      ],
      "metadata": {
        "id": "8Ta_qQTpcl9c"
      },
      "execution_count": 373,
      "outputs": []
    },
    {
      "cell_type": "code",
      "source": [
        "# temp_servicosfinanceiros = pd.DataFrame(one_hot.fit_transform(df_features[['utiliza_servicos_financeiros']]).toarray(),columns=one_hot.get_feature_names_out(['utiliza_servicos_financeiros']))\n",
        "# df_features = df_features.drop(columns='utiliza_servicos_financeiros').join(temp_servicosfinanceiros)"
      ],
      "metadata": {
        "id": "yQjARNyZfTps"
      },
      "execution_count": 374,
      "outputs": []
    },
    {
      "cell_type": "code",
      "source": [
        "# temp_contador = pd.DataFrame(one_hot.fit_transform(df_features[['possui_contador']]).toarray(),columns=one_hot.get_feature_names_out(['possui_contador']))\n",
        "# df_features = df_features.drop(columns='possui_contador').join(temp_contador)"
      ],
      "metadata": {
        "id": "dt5ZvxNJfjDk"
      },
      "execution_count": 375,
      "outputs": []
    },
    {
      "cell_type": "code",
      "source": [
        "# temp_boleto = pd.DataFrame(one_hot.fit_transform(df_features[['emite_boletos']]).toarray(),columns=one_hot.get_feature_names_out(['emite_boletos']))\n",
        "# df_features = df_features.drop(columns='emite_boletos').join(temp_boleto)"
      ],
      "metadata": {
        "id": "srih_k8RftI7"
      },
      "execution_count": 376,
      "outputs": []
    },
    {
      "cell_type": "code",
      "metadata": {
        "id": "GkLxyK-FHE7S"
      },
      "source": [
        "df_features.head()"
      ],
      "execution_count": null,
      "outputs": []
    },
    {
      "cell_type": "markdown",
      "source": [
        "######Target enconding:\n",
        "Transformar a variável categórica numérica a partir de uma relação do valor com a variável 'target'(churn), em variável contínua."
      ],
      "metadata": {
        "id": "MQwOoGB9veGK"
      }
    },
    {
      "cell_type": "code",
      "source": [
        "ta_encoder = TargetEncoder(cols='fundacao_da_empresa')\n",
        "df_features['fundacao_da_empresa'] = ta_encoder.fit_transform(df_features['fundacao_da_empresa'], df[['churn']])"
      ],
      "metadata": {
        "id": "BVdCOECVUat4"
      },
      "execution_count": 393,
      "outputs": []
    },
    {
      "cell_type": "code",
      "source": [
        "# ta_encoder1 = TargetEncoder(cols='churn')\n",
        "# df_features['churn'] = ta_encoder1.fit_transform(df_features[['churn']], df[['churn']])"
      ],
      "metadata": {
        "id": "a1dq4I6GGKES"
      },
      "execution_count": 357,
      "outputs": []
    },
    {
      "cell_type": "code",
      "metadata": {
        "id": "iHhcFgcoIyYR"
      },
      "source": [
        "df_features.head()"
      ],
      "execution_count": null,
      "outputs": []
    },
    {
      "cell_type": "markdown",
      "source": [
        "######Ordinal enconding:\n",
        "\n",
        "Enumera os valores categóricos (por palavra) a partir de 0"
      ],
      "metadata": {
        "id": "k0Ib2RHxD6hr"
      }
    },
    {
      "cell_type": "code",
      "source": [
        "enc = OrdinalEncoder()\n",
        "df_features[['faz_conciliacao_bancaria','frequencia_de_utilizacao_modulo_financeiro','frequencia_de_utilizacao_sistema_emissao_de_nota_fiscal',\n",
        "'frequencia_de_utilizacao_integracao_bancaria','frequencia_de_utilizacao_modulo_de_vendas','frequencia_de_utilizacao_sistema_relatorios','frequencia_de_utilizacao_sistema_de_apis_de_integracao','contrato','tipo_de_pagamento']] = enc.fit_transform(df_features[['faz_conciliacao_bancaria','frequencia_de_utilizacao_modulo_financeiro','frequencia_de_utilizacao_sistema_emissao_de_nota_fiscal',\n",
        "'frequencia_de_utilizacao_integracao_bancaria','frequencia_de_utilizacao_modulo_de_vendas','frequencia_de_utilizacao_sistema_relatorios','frequencia_de_utilizacao_sistema_de_apis_de_integracao','contrato','tipo_de_pagamento']])"
      ],
      "metadata": {
        "id": "q_SIlKmkurA6"
      },
      "execution_count": 394,
      "outputs": []
    },
    {
      "cell_type": "code",
      "source": [
        "df_features.head()"
      ],
      "metadata": {
        "id": "neF9W-RcxDWa"
      },
      "execution_count": null,
      "outputs": []
    },
    {
      "cell_type": "markdown",
      "source": [
        "##Árvore de decisão\n",
        "\n",
        "Uma árvore de decisão é uma ferramenta de suporte à tomada de decisão que usa um gráfico no formato de árvore e demonstra visualmente as condições e as probabilidades para se chegar a resultados. Este é um método de aprendizado de máquina supervisionado."
      ],
      "metadata": {
        "id": "RLqO6XjHt_Wh"
      }
    },
    {
      "cell_type": "code",
      "source": [
        "from sklearn.model_selection import train_test_split\n",
        "from sklearn.tree import DecisionTreeClassifier, plot_tree\n",
        "from sklearn.metrics import accuracy_score, plot_confusion_matrix\n",
        "from sklearn.datasets import make_classification\n",
        "from sklearn.model_selection import cross_val_score, cross_validate\n",
        "from sklearn.model_selection import RepeatedStratifiedKFold\n",
        "from sklearn.model_selection import cross_val_score\n",
        "from sklearn.model_selection import RepeatedStratifiedKFold\n",
        "\n",
        "\n",
        "from imblearn.pipeline import make_pipeline\n",
        "from imblearn.base import BaseSampler\n",
        "from imblearn.under_sampling import RandomUnderSampler\n",
        "from imblearn.over_sampling import (SMOTE, RandomOverSampler)\n",
        "from imblearn.combine import SMOTEENN\n",
        "\n",
        "from collections import Counter\n",
        "from sklearn import metrics\n",
        "\n",
        "\n",
        "import warnings\n",
        "warnings.simplefilter(action='ignore', category=FutureWarning)"
      ],
      "metadata": {
        "id": "rNL2kycPuK6I"
      },
      "execution_count": 254,
      "outputs": []
    },
    {
      "cell_type": "code",
      "source": [
        "def plot_resampling(X, y, sampling, ax):\n",
        "    X_res, y_res = sampling.fit_resample(X, y)\n",
        "    counter = Counter(y_res)\n",
        "    print(\"Resample: \", counter)\n",
        "    ax.scatter(X_res[:, 0], X_res[:, 1], c=y_res, alpha=0.8, edgecolor='k')\n",
        "    ax.spines['top'].set_visible(False)\n",
        "    ax.spines['right'].set_visible(False)\n",
        "    ax.get_xaxis().tick_bottom()\n",
        "    ax.get_yaxis().tick_left()\n",
        "    ax.spines['left'].set_position(('outward', 10))\n",
        "    ax.spines['bottom'].set_position(('outward', 10))\n",
        "    return Counter(y_res)"
      ],
      "metadata": {
        "id": "MyL_U_LB6byX"
      },
      "execution_count": 255,
      "outputs": []
    },
    {
      "cell_type": "code",
      "source": [
        "def calculate_metrics(X, y, clf):\n",
        "\n",
        "    cv = RepeatedStratifiedKFold(n_splits=10, n_repeats=5, random_state=1)\n",
        "    scores = cross_validate(clf, X, y, scoring=['roc_auc','f1_macro','accuracy', 'recall','precision'], cv=cv, n_jobs=-1)\n",
        "    print(f\"Accuracy: {np.mean(scores['test_accuracy']):.3f}\")\n",
        "    print(f\"Precision: {np.mean(scores['test_precision']):.3f}\")\n",
        "    print(f\"Recall: {np.mean(scores['test_recall']):.3f}\")\n",
        "    print(f\"F1 Score: {np.mean(scores['test_f1_macro']):.3f}\")\n",
        "    print(f\"AUC {np.mean(scores['test_roc_auc']):.3f}\")"
      ],
      "metadata": {
        "id": "-HW6ozO6B0Jr"
      },
      "execution_count": 256,
      "outputs": []
    },
    {
      "cell_type": "code",
      "source": [
        "def plot_decision_function(X, y, clf, ax):\n",
        "    plot_step = 0.02\n",
        "    x_min, x_max = X[:, 0].min() - 1, X[:, 0].max() + 1\n",
        "    y_min, y_max = X[:, 1].min() - 1, X[:, 1].max() + 1\n",
        "    xx, yy = np.meshgrid(np.arange(x_min, x_max, plot_step), np.arange(y_min, y_max, plot_step))\n",
        "\n",
        "    Z = clf.predict(np.c_[xx.ravel(), yy.ravel()])\n",
        "    Z = Z.reshape(xx.shape)\n",
        "    ax.contourf(xx, yy, Z, alpha=0.4)\n",
        "    ax.scatter(X[:, 0], X[:, 1], alpha=0.8, c=y, edgecolor='k')"
      ],
      "metadata": {
        "id": "4huQNrd7B4Rp"
      },
      "execution_count": 257,
      "outputs": []
    },
    {
      "cell_type": "markdown",
      "source": [
        "#####Selecionando as features para o modelo:\n",
        "\n",
        "Utilizaremos o 'Recursive feature elimination' para rankear quais as melhores features para nós utilizarmos na nossa árvore de decisões de classificação. "
      ],
      "metadata": {
        "id": "933oVQwxPysa"
      }
    },
    {
      "cell_type": "code",
      "source": [
        "from sklearn.feature_selection import RFE\n",
        "from sklearn.feature_selection import RFECV\n",
        "from sklearn.feature_selection import SelectKBest, f_classif"
      ],
      "metadata": {
        "id": "2pp1C21pQGjO"
      },
      "execution_count": 404,
      "outputs": []
    },
    {
      "cell_type": "code",
      "source": [
        "target = df_features['churn']"
      ],
      "metadata": {
        "id": "ZZIHscsqEzVF"
      },
      "execution_count": 425,
      "outputs": []
    },
    {
      "cell_type": "code",
      "source": [
        "dfx = df_features.drop('churn', axis = 1)"
      ],
      "metadata": {
        "id": "6rHrCV2OKaAb"
      },
      "execution_count": null,
      "outputs": []
    },
    {
      "cell_type": "code",
      "source": [
        "x1 = dfx\n",
        "y1 = target"
      ],
      "metadata": {
        "id": "T1Qv8wNWEQJ7"
      },
      "execution_count": null,
      "outputs": []
    },
    {
      "cell_type": "code",
      "source": [
        "x1_train, x1_test, y1_train, y1_test = train_test_split(x1, y1, test_size=0.25, random_state=1)"
      ],
      "metadata": {
        "id": "W4PGes8QGs7o"
      },
      "execution_count": null,
      "outputs": []
    },
    {
      "cell_type": "code",
      "source": [
        "dt = DecisionTreeClassifier(max_depth=5, random_state=1)\n",
        "\n",
        "dt.fit(x1_train, y1_train)"
      ],
      "metadata": {
        "id": "N_TdTQc2Mnvd"
      },
      "execution_count": null,
      "outputs": []
    },
    {
      "cell_type": "code",
      "source": [
        "rfe = RFE(estimator=dt, step=1)\n",
        "rfe = rfe.fit(x1_train, y1_train)"
      ],
      "metadata": {
        "id": "rQn8Xm5jTMy4"
      },
      "execution_count": 424,
      "outputs": []
    },
    {
      "cell_type": "code",
      "source": [
        "selected_rfe_features = pd.DataFrame({'Feature':list(x1_train.columns),\n",
        "                                      'Ranking':rfe.ranking_})\n",
        "selected_rfe_features.sort_values(by='Ranking')"
      ],
      "metadata": {
        "colab": {
          "base_uri": "https://localhost:8080/",
          "height": 645
        },
        "id": "aoKmx9ajTeZl",
        "outputId": "46fa06f9-fc0b-4d99-e765-b31ea79b3ec1"
      },
      "execution_count": 418,
      "outputs": [
        {
          "output_type": "execute_result",
          "data": {
            "text/html": [
              "\n",
              "  <div id=\"df-cbfd31e2-5a9c-40ff-9fb9-426de6d02809\">\n",
              "    <div class=\"colab-df-container\">\n",
              "      <div>\n",
              "<style scoped>\n",
              "    .dataframe tbody tr th:only-of-type {\n",
              "        vertical-align: middle;\n",
              "    }\n",
              "\n",
              "    .dataframe tbody tr th {\n",
              "        vertical-align: top;\n",
              "    }\n",
              "\n",
              "    .dataframe thead th {\n",
              "        text-align: right;\n",
              "    }\n",
              "</style>\n",
              "<table border=\"1\" class=\"dataframe\">\n",
              "  <thead>\n",
              "    <tr style=\"text-align: right;\">\n",
              "      <th></th>\n",
              "      <th>Feature</th>\n",
              "      <th>Ranking</th>\n",
              "    </tr>\n",
              "  </thead>\n",
              "  <tbody>\n",
              "    <tr>\n",
              "      <th>18</th>\n",
              "      <td>receita_total</td>\n",
              "      <td>1</td>\n",
              "    </tr>\n",
              "    <tr>\n",
              "      <th>1</th>\n",
              "      <td>fundacao_da_empresa</td>\n",
              "      <td>1</td>\n",
              "    </tr>\n",
              "    <tr>\n",
              "      <th>15</th>\n",
              "      <td>emite_boletos</td>\n",
              "      <td>1</td>\n",
              "    </tr>\n",
              "    <tr>\n",
              "      <th>4</th>\n",
              "      <td>meses_de_permanencia</td>\n",
              "      <td>1</td>\n",
              "    </tr>\n",
              "    <tr>\n",
              "      <th>14</th>\n",
              "      <td>contrato</td>\n",
              "      <td>1</td>\n",
              "    </tr>\n",
              "    <tr>\n",
              "      <th>7</th>\n",
              "      <td>faz_conciliacao_bancaria</td>\n",
              "      <td>1</td>\n",
              "    </tr>\n",
              "    <tr>\n",
              "      <th>8</th>\n",
              "      <td>frequencia_de_utilizacao_modulo_financeiro</td>\n",
              "      <td>1</td>\n",
              "    </tr>\n",
              "    <tr>\n",
              "      <th>17</th>\n",
              "      <td>receita_mensal</td>\n",
              "      <td>1</td>\n",
              "    </tr>\n",
              "    <tr>\n",
              "      <th>11</th>\n",
              "      <td>frequencia_de_utilizacao_modulo_de_vendas</td>\n",
              "      <td>1</td>\n",
              "    </tr>\n",
              "    <tr>\n",
              "      <th>16</th>\n",
              "      <td>tipo_de_pagamento</td>\n",
              "      <td>2</td>\n",
              "    </tr>\n",
              "    <tr>\n",
              "      <th>13</th>\n",
              "      <td>frequencia_de_utilizacao_sistema_de_apis_de_in...</td>\n",
              "      <td>3</td>\n",
              "    </tr>\n",
              "    <tr>\n",
              "      <th>5</th>\n",
              "      <td>utiliza_servicos_financeiros</td>\n",
              "      <td>4</td>\n",
              "    </tr>\n",
              "    <tr>\n",
              "      <th>12</th>\n",
              "      <td>frequencia_de_utilizacao_sistema_relatorios</td>\n",
              "      <td>5</td>\n",
              "    </tr>\n",
              "    <tr>\n",
              "      <th>9</th>\n",
              "      <td>frequencia_de_utilizacao_sistema_emissao_de_no...</td>\n",
              "      <td>6</td>\n",
              "    </tr>\n",
              "    <tr>\n",
              "      <th>6</th>\n",
              "      <td>possui_contador</td>\n",
              "      <td>7</td>\n",
              "    </tr>\n",
              "    <tr>\n",
              "      <th>3</th>\n",
              "      <td>funcionarios</td>\n",
              "      <td>8</td>\n",
              "    </tr>\n",
              "    <tr>\n",
              "      <th>10</th>\n",
              "      <td>frequencia_de_utilizacao_integracao_bancaria</td>\n",
              "      <td>9</td>\n",
              "    </tr>\n",
              "    <tr>\n",
              "      <th>2</th>\n",
              "      <td>possui_mais_de_um_socio</td>\n",
              "      <td>10</td>\n",
              "    </tr>\n",
              "    <tr>\n",
              "      <th>0</th>\n",
              "      <td>tipo_de_empresa</td>\n",
              "      <td>11</td>\n",
              "    </tr>\n",
              "  </tbody>\n",
              "</table>\n",
              "</div>\n",
              "      <button class=\"colab-df-convert\" onclick=\"convertToInteractive('df-cbfd31e2-5a9c-40ff-9fb9-426de6d02809')\"\n",
              "              title=\"Convert this dataframe to an interactive table.\"\n",
              "              style=\"display:none;\">\n",
              "        \n",
              "  <svg xmlns=\"http://www.w3.org/2000/svg\" height=\"24px\"viewBox=\"0 0 24 24\"\n",
              "       width=\"24px\">\n",
              "    <path d=\"M0 0h24v24H0V0z\" fill=\"none\"/>\n",
              "    <path d=\"M18.56 5.44l.94 2.06.94-2.06 2.06-.94-2.06-.94-.94-2.06-.94 2.06-2.06.94zm-11 1L8.5 8.5l.94-2.06 2.06-.94-2.06-.94L8.5 2.5l-.94 2.06-2.06.94zm10 10l.94 2.06.94-2.06 2.06-.94-2.06-.94-.94-2.06-.94 2.06-2.06.94z\"/><path d=\"M17.41 7.96l-1.37-1.37c-.4-.4-.92-.59-1.43-.59-.52 0-1.04.2-1.43.59L10.3 9.45l-7.72 7.72c-.78.78-.78 2.05 0 2.83L4 21.41c.39.39.9.59 1.41.59.51 0 1.02-.2 1.41-.59l7.78-7.78 2.81-2.81c.8-.78.8-2.07 0-2.86zM5.41 20L4 18.59l7.72-7.72 1.47 1.35L5.41 20z\"/>\n",
              "  </svg>\n",
              "      </button>\n",
              "      \n",
              "  <style>\n",
              "    .colab-df-container {\n",
              "      display:flex;\n",
              "      flex-wrap:wrap;\n",
              "      gap: 12px;\n",
              "    }\n",
              "\n",
              "    .colab-df-convert {\n",
              "      background-color: #E8F0FE;\n",
              "      border: none;\n",
              "      border-radius: 50%;\n",
              "      cursor: pointer;\n",
              "      display: none;\n",
              "      fill: #1967D2;\n",
              "      height: 32px;\n",
              "      padding: 0 0 0 0;\n",
              "      width: 32px;\n",
              "    }\n",
              "\n",
              "    .colab-df-convert:hover {\n",
              "      background-color: #E2EBFA;\n",
              "      box-shadow: 0px 1px 2px rgba(60, 64, 67, 0.3), 0px 1px 3px 1px rgba(60, 64, 67, 0.15);\n",
              "      fill: #174EA6;\n",
              "    }\n",
              "\n",
              "    [theme=dark] .colab-df-convert {\n",
              "      background-color: #3B4455;\n",
              "      fill: #D2E3FC;\n",
              "    }\n",
              "\n",
              "    [theme=dark] .colab-df-convert:hover {\n",
              "      background-color: #434B5C;\n",
              "      box-shadow: 0px 1px 3px 1px rgba(0, 0, 0, 0.15);\n",
              "      filter: drop-shadow(0px 1px 2px rgba(0, 0, 0, 0.3));\n",
              "      fill: #FFFFFF;\n",
              "    }\n",
              "  </style>\n",
              "\n",
              "      <script>\n",
              "        const buttonEl =\n",
              "          document.querySelector('#df-cbfd31e2-5a9c-40ff-9fb9-426de6d02809 button.colab-df-convert');\n",
              "        buttonEl.style.display =\n",
              "          google.colab.kernel.accessAllowed ? 'block' : 'none';\n",
              "\n",
              "        async function convertToInteractive(key) {\n",
              "          const element = document.querySelector('#df-cbfd31e2-5a9c-40ff-9fb9-426de6d02809');\n",
              "          const dataTable =\n",
              "            await google.colab.kernel.invokeFunction('convertToInteractive',\n",
              "                                                     [key], {});\n",
              "          if (!dataTable) return;\n",
              "\n",
              "          const docLinkHtml = 'Like what you see? Visit the ' +\n",
              "            '<a target=\"_blank\" href=https://colab.research.google.com/notebooks/data_table.ipynb>data table notebook</a>'\n",
              "            + ' to learn more about interactive tables.';\n",
              "          element.innerHTML = '';\n",
              "          dataTable['output_type'] = 'display_data';\n",
              "          await google.colab.output.renderOutput(dataTable, element);\n",
              "          const docLink = document.createElement('div');\n",
              "          docLink.innerHTML = docLinkHtml;\n",
              "          element.appendChild(docLink);\n",
              "        }\n",
              "      </script>\n",
              "    </div>\n",
              "  </div>\n",
              "  "
            ],
            "text/plain": [
              "                                              Feature  Ranking\n",
              "18                                      receita_total        1\n",
              "1                                 fundacao_da_empresa        1\n",
              "15                                      emite_boletos        1\n",
              "4                                meses_de_permanencia        1\n",
              "14                                           contrato        1\n",
              "7                            faz_conciliacao_bancaria        1\n",
              "8          frequencia_de_utilizacao_modulo_financeiro        1\n",
              "17                                     receita_mensal        1\n",
              "11          frequencia_de_utilizacao_modulo_de_vendas        1\n",
              "16                                  tipo_de_pagamento        2\n",
              "13  frequencia_de_utilizacao_sistema_de_apis_de_in...        3\n",
              "5                        utiliza_servicos_financeiros        4\n",
              "12        frequencia_de_utilizacao_sistema_relatorios        5\n",
              "9   frequencia_de_utilizacao_sistema_emissao_de_no...        6\n",
              "6                                     possui_contador        7\n",
              "3                                        funcionarios        8\n",
              "10       frequencia_de_utilizacao_integracao_bancaria        9\n",
              "2                             possui_mais_de_um_socio       10\n",
              "0                                     tipo_de_empresa       11"
            ]
          },
          "metadata": {},
          "execution_count": 418
        }
      ]
    },
    {
      "cell_type": "markdown",
      "source": [
        "Pelo RFE ficou rankeado que as features mais importantes são:\n",
        "'receita_total', 'fundacao_da_empresa', 'emite_boletos', 'meses_de_permanencia', 'contrato', 'faz_conciliacao_bancaria', 'requencia_de_utilizacao_modulo_financeiro', 'receita_mensal', 'frequencia_de_utilizacao_modulo_de_vendas'."
      ],
      "metadata": {
        "id": "FWWUkD9tUQT_"
      }
    }
  ]
}