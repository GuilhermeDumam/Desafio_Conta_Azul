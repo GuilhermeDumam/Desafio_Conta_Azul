{
  "nbformat": 4,
  "nbformat_minor": 0,
  "metadata": {
    "colab": {
      "name": "desafio_conta_azul.ipynb",
      "provenance": [],
      "authorship_tag": "ABX9TyMHaj/N2U2rcuKS5hmfFmvH",
      "include_colab_link": true
    },
    "kernelspec": {
      "name": "python3",
      "display_name": "Python 3"
    },
    "language_info": {
      "name": "python"
    }
  },
  "cells": [
    {
      "cell_type": "markdown",
      "metadata": {
        "id": "view-in-github",
        "colab_type": "text"
      },
      "source": [
        "<a href=\"https://colab.research.google.com/github/GuilhermeDumam/Desafio_Conta_Azul/blob/Master/desafio_conta_azul.ipynb\" target=\"_parent\"><img src=\"https://colab.research.google.com/assets/colab-badge.svg\" alt=\"Open In Colab\"/></a>"
      ]
    },
    {
      "cell_type": "markdown",
      "source": [
        "#**INTRODUÇÃO**\n",
        "\n",
        "O presente notebook busca solucionar um caso de evasão de clientes (churn) e  está divido em seis etapas:\n",
        "\n",
        "\n",
        "*   Importação das bibliotecas e dataset\n",
        "*   Tratamento e limpeza dos dados\n",
        "*   EDA / Análise exploratória dos dados\n",
        "*   Feature Engineering\n",
        "*   Modelagem\n",
        "*   Recomendação\n",
        "\n"
      ],
      "metadata": {
        "id": "SSCyy50hSukm"
      }
    },
    {
      "cell_type": "markdown",
      "source": [
        "##IMPORTAÇÃO BIBLIOTECAS e DATASET\n",
        "\n",
        "Nessa etapa nós iremos importar o dataset que se encontra no link abaixo. \n",
        "\n",
        "Importaremos as principais bibliotecas que iremos utilizar nas primeiras etapas do nosso case técnico."
      ],
      "metadata": {
        "id": "vV_KN3h9qT8q"
      }
    },
    {
      "cell_type": "markdown",
      "source": [
        "##Base de dados (refined)\n",
        "\n",
        "https://drive.google.com/file/d/1ho2N_WCj7J4nG8MCVQP2olWyb1dl7h7V/view?usp=sharing"
      ],
      "metadata": {
        "id": "PzsiC2EPAnbX"
      }
    },
    {
      "cell_type": "code",
      "source": [
        "! pip install https://github.com/pandas-profiling/pandas-profiling/archive/master.zip"
      ],
      "metadata": {
        "id": "4b4kdNJjZVL8"
      },
      "execution_count": null,
      "outputs": []
    },
    {
      "cell_type": "code",
      "source": [
        "%matplotlib inline\n",
        "import seaborn as sns\n",
        "import matplotlib.pyplot as plt\n",
        "import plotly           \n",
        "import pandas as pd\n",
        "import numpy as np\n",
        "import random"
      ],
      "metadata": {
        "id": "R-dkuV92qS7x"
      },
      "execution_count": 170,
      "outputs": []
    },
    {
      "cell_type": "code",
      "source": [
        "from pandas_profiling import ProfileReport"
      ],
      "metadata": {
        "id": "lKeWBmH_Zm5o"
      },
      "execution_count": 2,
      "outputs": []
    },
    {
      "cell_type": "code",
      "source": [
        "from scipy import stats"
      ],
      "metadata": {
        "id": "Rw2UZJc75ZMX"
      },
      "execution_count": 3,
      "outputs": []
    },
    {
      "cell_type": "code",
      "source": [
        "df = pd.read_csv(('/content/customer_churn_data1.csv'), sep=';',decimal=',')"
      ],
      "metadata": {
        "id": "PSmENL0Qrlj_"
      },
      "execution_count": 525,
      "outputs": []
    },
    {
      "cell_type": "markdown",
      "source": [
        "O decimal virá em vírgula (,) para adequarmos ao padrão de leitura do Python."
      ],
      "metadata": {
        "id": "L5ZZKFDNUnC5"
      }
    },
    {
      "cell_type": "markdown",
      "source": [
        "#**Tratamento**\n",
        "\n",
        "Aqui vamos limpar e tratar os dados para que eles estejam aptos de serem explorados."
      ],
      "metadata": {
        "id": "PNEPXr4VqCtQ"
      }
    },
    {
      "cell_type": "code",
      "execution_count": 526,
      "metadata": {
        "id": "sriXpG9tmEN5",
        "colab": {
          "base_uri": "https://localhost:8080/",
          "height": 565
        },
        "outputId": "5155238b-b4fb-4677-b5c9-75dbc0d8c631"
      },
      "outputs": [
        {
          "output_type": "execute_result",
          "data": {
            "text/html": [
              "\n",
              "  <div id=\"df-9f19557a-00f2-4101-946f-cf13ab652f55\">\n",
              "    <div class=\"colab-df-container\">\n",
              "      <div>\n",
              "<style scoped>\n",
              "    .dataframe tbody tr th:only-of-type {\n",
              "        vertical-align: middle;\n",
              "    }\n",
              "\n",
              "    .dataframe tbody tr th {\n",
              "        vertical-align: top;\n",
              "    }\n",
              "\n",
              "    .dataframe thead th {\n",
              "        text-align: right;\n",
              "    }\n",
              "</style>\n",
              "<table border=\"1\" class=\"dataframe\">\n",
              "  <thead>\n",
              "    <tr style=\"text-align: right;\">\n",
              "      <th></th>\n",
              "      <th>ID</th>\n",
              "      <th>Tipo de empresa</th>\n",
              "      <th>Fundação da empresa</th>\n",
              "      <th>Possui mais de um sócio</th>\n",
              "      <th>Funcionários</th>\n",
              "      <th>Meses de permanência</th>\n",
              "      <th>Utiliza serviços financeiros</th>\n",
              "      <th>PossuiContador</th>\n",
              "      <th>Faz conciliação bancária</th>\n",
              "      <th>Frequência de utilização de feature do sistema: Módulo financeiro</th>\n",
              "      <th>Frequência de utilização de feature do sistema: Emissão de nota fiscal</th>\n",
              "      <th>Frequência de utilização de feature do sistema: Integração bancária</th>\n",
              "      <th>Frequência de utilização de feature do sistema: Módulo de vendas</th>\n",
              "      <th>Frequência de utilização de feature do sistema: Relatórios</th>\n",
              "      <th>Frequência de utilização de feature do sistema: Utilização de APIs de integração</th>\n",
              "      <th>Contrato</th>\n",
              "      <th>Emite boletos</th>\n",
              "      <th>Emite boletos.1</th>\n",
              "      <th>Tipo de pagamento</th>\n",
              "      <th>Receita mensal</th>\n",
              "      <th>Receita total</th>\n",
              "      <th>Churn</th>\n",
              "    </tr>\n",
              "  </thead>\n",
              "  <tbody>\n",
              "    <tr>\n",
              "      <th>0</th>\n",
              "      <td>1</td>\n",
              "      <td>Micro empresa</td>\n",
              "      <td>2016</td>\n",
              "      <td>Sim</td>\n",
              "      <td>até 5 funcionários</td>\n",
              "      <td>1</td>\n",
              "      <td>Não</td>\n",
              "      <td>NaN</td>\n",
              "      <td>automática</td>\n",
              "      <td>Pouco uso</td>\n",
              "      <td>Uso frequente</td>\n",
              "      <td>Pouco uso</td>\n",
              "      <td>Pouco uso</td>\n",
              "      <td>Pouco uso</td>\n",
              "      <td>Pouco uso</td>\n",
              "      <td>Mês-a-mês</td>\n",
              "      <td>1</td>\n",
              "      <td>Yes</td>\n",
              "      <td>Boleto - pagamento único</td>\n",
              "      <td>29.85</td>\n",
              "      <td>29.85</td>\n",
              "      <td>Não</td>\n",
              "    </tr>\n",
              "    <tr>\n",
              "      <th>1</th>\n",
              "      <td>2</td>\n",
              "      <td>Pequena empresa</td>\n",
              "      <td>2018</td>\n",
              "      <td>Não</td>\n",
              "      <td>até 5 funcionários</td>\n",
              "      <td>34</td>\n",
              "      <td>Sim</td>\n",
              "      <td>Não</td>\n",
              "      <td>automática</td>\n",
              "      <td>Uso frequente</td>\n",
              "      <td>Pouco uso</td>\n",
              "      <td>Uso frequente</td>\n",
              "      <td>Pouco uso</td>\n",
              "      <td>Pouco uso</td>\n",
              "      <td>Pouco uso</td>\n",
              "      <td>Trimestral</td>\n",
              "      <td>0</td>\n",
              "      <td>No</td>\n",
              "      <td>Boleto - mês a mês</td>\n",
              "      <td>56.95</td>\n",
              "      <td>1889.50</td>\n",
              "      <td>Não</td>\n",
              "    </tr>\n",
              "    <tr>\n",
              "      <th>2</th>\n",
              "      <td>3</td>\n",
              "      <td>Pequena empresa</td>\n",
              "      <td>2021</td>\n",
              "      <td>Não</td>\n",
              "      <td>até 5 funcionários</td>\n",
              "      <td>2</td>\n",
              "      <td>Sim</td>\n",
              "      <td>Não</td>\n",
              "      <td>automática</td>\n",
              "      <td>Uso frequente</td>\n",
              "      <td>Uso frequente</td>\n",
              "      <td>Pouco uso</td>\n",
              "      <td>Pouco uso</td>\n",
              "      <td>Pouco uso</td>\n",
              "      <td>Pouco uso</td>\n",
              "      <td>Mês-a-mês</td>\n",
              "      <td>1</td>\n",
              "      <td>Yes</td>\n",
              "      <td>Boleto - mês a mês</td>\n",
              "      <td>53.85</td>\n",
              "      <td>108.15</td>\n",
              "      <td>Sim</td>\n",
              "    </tr>\n",
              "    <tr>\n",
              "      <th>3</th>\n",
              "      <td>4</td>\n",
              "      <td>Pequena empresa</td>\n",
              "      <td>2016</td>\n",
              "      <td>Não</td>\n",
              "      <td>até 5 funcionários</td>\n",
              "      <td>45</td>\n",
              "      <td>Não</td>\n",
              "      <td>NaN</td>\n",
              "      <td>automática</td>\n",
              "      <td>Uso frequente</td>\n",
              "      <td>Pouco uso</td>\n",
              "      <td>Uso frequente</td>\n",
              "      <td>Uso frequente</td>\n",
              "      <td>Pouco uso</td>\n",
              "      <td>Pouco uso</td>\n",
              "      <td>Trimestral</td>\n",
              "      <td>0</td>\n",
              "      <td>No</td>\n",
              "      <td>Cartão de crédito - pagamento único</td>\n",
              "      <td>42.30</td>\n",
              "      <td>1840.75</td>\n",
              "      <td>Não</td>\n",
              "    </tr>\n",
              "    <tr>\n",
              "      <th>4</th>\n",
              "      <td>5</td>\n",
              "      <td>Micro empresa</td>\n",
              "      <td>2017</td>\n",
              "      <td>Não</td>\n",
              "      <td>até 5 funcionários</td>\n",
              "      <td>2</td>\n",
              "      <td>Sim</td>\n",
              "      <td>Não</td>\n",
              "      <td>manual</td>\n",
              "      <td>Pouco uso</td>\n",
              "      <td>Pouco uso</td>\n",
              "      <td>Pouco uso</td>\n",
              "      <td>Pouco uso</td>\n",
              "      <td>Pouco uso</td>\n",
              "      <td>Pouco uso</td>\n",
              "      <td>Mês-a-mês</td>\n",
              "      <td>1</td>\n",
              "      <td>Yes</td>\n",
              "      <td>Boleto - pagamento único</td>\n",
              "      <td>70.70</td>\n",
              "      <td>151.65</td>\n",
              "      <td>Sim</td>\n",
              "    </tr>\n",
              "  </tbody>\n",
              "</table>\n",
              "</div>\n",
              "      <button class=\"colab-df-convert\" onclick=\"convertToInteractive('df-9f19557a-00f2-4101-946f-cf13ab652f55')\"\n",
              "              title=\"Convert this dataframe to an interactive table.\"\n",
              "              style=\"display:none;\">\n",
              "        \n",
              "  <svg xmlns=\"http://www.w3.org/2000/svg\" height=\"24px\"viewBox=\"0 0 24 24\"\n",
              "       width=\"24px\">\n",
              "    <path d=\"M0 0h24v24H0V0z\" fill=\"none\"/>\n",
              "    <path d=\"M18.56 5.44l.94 2.06.94-2.06 2.06-.94-2.06-.94-.94-2.06-.94 2.06-2.06.94zm-11 1L8.5 8.5l.94-2.06 2.06-.94-2.06-.94L8.5 2.5l-.94 2.06-2.06.94zm10 10l.94 2.06.94-2.06 2.06-.94-2.06-.94-.94-2.06-.94 2.06-2.06.94z\"/><path d=\"M17.41 7.96l-1.37-1.37c-.4-.4-.92-.59-1.43-.59-.52 0-1.04.2-1.43.59L10.3 9.45l-7.72 7.72c-.78.78-.78 2.05 0 2.83L4 21.41c.39.39.9.59 1.41.59.51 0 1.02-.2 1.41-.59l7.78-7.78 2.81-2.81c.8-.78.8-2.07 0-2.86zM5.41 20L4 18.59l7.72-7.72 1.47 1.35L5.41 20z\"/>\n",
              "  </svg>\n",
              "      </button>\n",
              "      \n",
              "  <style>\n",
              "    .colab-df-container {\n",
              "      display:flex;\n",
              "      flex-wrap:wrap;\n",
              "      gap: 12px;\n",
              "    }\n",
              "\n",
              "    .colab-df-convert {\n",
              "      background-color: #E8F0FE;\n",
              "      border: none;\n",
              "      border-radius: 50%;\n",
              "      cursor: pointer;\n",
              "      display: none;\n",
              "      fill: #1967D2;\n",
              "      height: 32px;\n",
              "      padding: 0 0 0 0;\n",
              "      width: 32px;\n",
              "    }\n",
              "\n",
              "    .colab-df-convert:hover {\n",
              "      background-color: #E2EBFA;\n",
              "      box-shadow: 0px 1px 2px rgba(60, 64, 67, 0.3), 0px 1px 3px 1px rgba(60, 64, 67, 0.15);\n",
              "      fill: #174EA6;\n",
              "    }\n",
              "\n",
              "    [theme=dark] .colab-df-convert {\n",
              "      background-color: #3B4455;\n",
              "      fill: #D2E3FC;\n",
              "    }\n",
              "\n",
              "    [theme=dark] .colab-df-convert:hover {\n",
              "      background-color: #434B5C;\n",
              "      box-shadow: 0px 1px 3px 1px rgba(0, 0, 0, 0.15);\n",
              "      filter: drop-shadow(0px 1px 2px rgba(0, 0, 0, 0.3));\n",
              "      fill: #FFFFFF;\n",
              "    }\n",
              "  </style>\n",
              "\n",
              "      <script>\n",
              "        const buttonEl =\n",
              "          document.querySelector('#df-9f19557a-00f2-4101-946f-cf13ab652f55 button.colab-df-convert');\n",
              "        buttonEl.style.display =\n",
              "          google.colab.kernel.accessAllowed ? 'block' : 'none';\n",
              "\n",
              "        async function convertToInteractive(key) {\n",
              "          const element = document.querySelector('#df-9f19557a-00f2-4101-946f-cf13ab652f55');\n",
              "          const dataTable =\n",
              "            await google.colab.kernel.invokeFunction('convertToInteractive',\n",
              "                                                     [key], {});\n",
              "          if (!dataTable) return;\n",
              "\n",
              "          const docLinkHtml = 'Like what you see? Visit the ' +\n",
              "            '<a target=\"_blank\" href=https://colab.research.google.com/notebooks/data_table.ipynb>data table notebook</a>'\n",
              "            + ' to learn more about interactive tables.';\n",
              "          element.innerHTML = '';\n",
              "          dataTable['output_type'] = 'display_data';\n",
              "          await google.colab.output.renderOutput(dataTable, element);\n",
              "          const docLink = document.createElement('div');\n",
              "          docLink.innerHTML = docLinkHtml;\n",
              "          element.appendChild(docLink);\n",
              "        }\n",
              "      </script>\n",
              "    </div>\n",
              "  </div>\n",
              "  "
            ],
            "text/plain": [
              "   ID  Tipo de empresa  ...  Receita total Churn\n",
              "0   1    Micro empresa  ...          29.85   Não\n",
              "1   2  Pequena empresa  ...        1889.50   Não\n",
              "2   3  Pequena empresa  ...         108.15   Sim\n",
              "3   4  Pequena empresa  ...        1840.75   Não\n",
              "4   5    Micro empresa  ...         151.65   Sim\n",
              "\n",
              "[5 rows x 22 columns]"
            ]
          },
          "metadata": {},
          "execution_count": 526
        }
      ],
      "source": [
        "df.head()"
      ]
    },
    {
      "cell_type": "code",
      "source": [
        "df.columns"
      ],
      "metadata": {
        "id": "37R5H8U-xzoi"
      },
      "execution_count": null,
      "outputs": []
    },
    {
      "cell_type": "code",
      "source": [
        "#Padronização das colunas para linguagem natural.\n",
        "columns_renamed = {\n",
        "    'Tipo de empresa': 'tipo_de_empresa', \n",
        "    'Tipo de empresa': 'tipo_de_empresa', \n",
        "    'Fundação da empresa': 'fundacao_da_empresa', \n",
        "    'Possui mais de um sócio': 'possui_mais_de_um_socio', \n",
        "    'Funcionários': 'funcionarios',\n",
        "    'Meses de permanência ': 'meses_de_permanencia', \n",
        "    'Utiliza serviços financeiros': 'utiliza_servicos_financeiros',\n",
        "    'PossuiContador': 'possui_contador', \n",
        "    'Faz conciliação bancária': 'faz_conciliacao_bancaria', \n",
        "    'Frequência de utilização de feature do sistema: Módulo financeiro': 'frequencia_de_utilizacao_modulo_financeiro', \n",
        "    'Frequência de utilização de feature do sistema: Emissão de nota fiscal': 'frequencia_de_utilizacao_sistema_emissao_de_nota_fiscal',\n",
        "    'Frequência de utilização de feature do sistema: Integração bancária': 'frequencia_de_utilizacao_integracao_bancaria',\n",
        "    'Frequência de utilização de feature do sistema: Módulo de vendas': 'frequencia_de_utilizacao_modulo_de_vendas',\n",
        "    'Frequência de utilização de feature do sistema: Relatórios': 'frequencia_de_utilizacao_sistema_relatorios',\n",
        "    'Frequência de utilização de feature do sistema: Utilização de APIs de integração': 'frequencia_de_utilizacao_sistema_de_apis_de_integracao',\n",
        "    'Contrato': 'contrato',\n",
        "    'Emite boletos': 'emite_boletos',\n",
        "    'Emite boletos.1': 'emite_boletos_1',\n",
        "    'Tipo de pagamento': 'tipo_de_pagamento',\n",
        "    'Receita mensal': 'receita_mensal',\n",
        "    'Receita total': 'receita_total',\n",
        "    'Churn': 'churn'\n",
        "}\n",
        "df.rename(columns=columns_renamed, inplace=True)"
      ],
      "metadata": {
        "id": "uzLakQRawtJI"
      },
      "execution_count": 527,
      "outputs": []
    },
    {
      "cell_type": "code",
      "source": [
        "df.info()\n",
        "df.shape"
      ],
      "metadata": {
        "colab": {
          "base_uri": "https://localhost:8080/"
        },
        "id": "dFmw7I6GsXUC",
        "outputId": "1a551b02-74a0-46e0-adb1-baa3df7fc60f"
      },
      "execution_count": 532,
      "outputs": [
        {
          "output_type": "stream",
          "name": "stdout",
          "text": [
            "<class 'pandas.core.frame.DataFrame'>\n",
            "RangeIndex: 7043 entries, 0 to 7042\n",
            "Data columns (total 20 columns):\n",
            " #   Column                                                   Non-Null Count  Dtype  \n",
            "---  ------                                                   --------------  -----  \n",
            " 0   tipo_de_empresa                                          7043 non-null   object \n",
            " 1   fundacao_da_empresa                                      7043 non-null   int64  \n",
            " 2   possui_mais_de_um_socio                                  7043 non-null   object \n",
            " 3   funcionarios                                             7043 non-null   object \n",
            " 4   meses_de_permanencia                                     7043 non-null   int64  \n",
            " 5   utiliza_servicos_financeiros                             7043 non-null   object \n",
            " 6   possui_contador                                          7043 non-null   object \n",
            " 7   faz_conciliacao_bancaria                                 7043 non-null   object \n",
            " 8   frequencia_de_utilizacao_modulo_financeiro               7043 non-null   object \n",
            " 9   frequencia_de_utilizacao_sistema_emissao_de_nota_fiscal  7043 non-null   object \n",
            " 10  frequencia_de_utilizacao_integracao_bancaria             7043 non-null   object \n",
            " 11  frequencia_de_utilizacao_modulo_de_vendas                7043 non-null   object \n",
            " 12  frequencia_de_utilizacao_sistema_relatorios              7043 non-null   object \n",
            " 13  frequencia_de_utilizacao_sistema_de_apis_de_integracao   7043 non-null   object \n",
            " 14  contrato                                                 7043 non-null   object \n",
            " 15  emite_boletos                                            7043 non-null   int64  \n",
            " 16  tipo_de_pagamento                                        7043 non-null   object \n",
            " 17  receita_mensal                                           7043 non-null   float64\n",
            " 18  receita_total                                            7043 non-null   float64\n",
            " 19  churn                                                    7043 non-null   object \n",
            "dtypes: float64(2), int64(3), object(15)\n",
            "memory usage: 1.1+ MB\n"
          ]
        },
        {
          "output_type": "execute_result",
          "data": {
            "text/plain": [
              "(7043, 20)"
            ]
          },
          "metadata": {},
          "execution_count": 532
        }
      ]
    },
    {
      "cell_type": "markdown",
      "source": [
        "Temos 20 colunas, em sua maioria com variáveis categóricas; vamos precisar pensar no que fazer com elas para nosso modelo."
      ],
      "metadata": {
        "id": "3uwWXYk_VDag"
      }
    },
    {
      "cell_type": "code",
      "source": [
        "df[df.duplicated()].count()"
      ],
      "metadata": {
        "id": "7sBO25UJexX4"
      },
      "execution_count": null,
      "outputs": []
    },
    {
      "cell_type": "code",
      "source": [
        "df.isna().sum()/df.shape[0]"
      ],
      "metadata": {
        "id": "H82Oyads4gpb"
      },
      "execution_count": null,
      "outputs": []
    },
    {
      "cell_type": "code",
      "source": [
        "df['possui_contador'].fillna(df['possui_contador'].mode()[0], inplace=True)"
      ],
      "metadata": {
        "id": "K8UVhFkwKBK6"
      },
      "execution_count": 528,
      "outputs": []
    },
    {
      "cell_type": "code",
      "source": [
        "df['receita_total'].fillna(df['receita_mensal'], inplace=True)"
      ],
      "metadata": {
        "id": "aHxPMUuXM64_"
      },
      "execution_count": 529,
      "outputs": []
    },
    {
      "cell_type": "code",
      "source": [
        "df.drop(columns=['ID'], inplace=True)"
      ],
      "metadata": {
        "id": "lSB8IVMaaslv"
      },
      "execution_count": 530,
      "outputs": []
    },
    {
      "cell_type": "code",
      "source": [
        "df.drop(columns = ['emite_boletos_1'], inplace = True)"
      ],
      "metadata": {
        "id": "X5MyX8kYKjd_"
      },
      "execution_count": 531,
      "outputs": []
    },
    {
      "cell_type": "markdown",
      "source": [
        "Dropamos o 'ID' e a coluna extra de emissão de boletos pois ambos não fariam sentido para nossa análise, já que o ID não passava de numerador de linhas e a coluna extra de boleto tem valores binários similares aos da coluna de boletos restante, então, por que ficar com mais de uma coluna com os mesmos valores? "
      ],
      "metadata": {
        "id": "HXtFENmwVmeC"
      }
    },
    {
      "cell_type": "markdown",
      "source": [
        "####Abaixo nós transformamos as variáveis categóricas com apenas duas variáveis em valores binários (0,1), para facilitar na hora de inputarmos no modelo. "
      ],
      "metadata": {
        "id": "50nH84_DKBkl"
      }
    },
    {
      "cell_type": "code",
      "source": [
        "df.loc[df.churn == 'Não', 'churn'] = 0\n",
        "df.loc[df.churn == 'Sim', 'churn'] = 1"
      ],
      "metadata": {
        "id": "GllxmZBZIekl"
      },
      "execution_count": 533,
      "outputs": []
    },
    {
      "cell_type": "code",
      "source": [
        "df['churn'] = df['churn'].astype(int)"
      ],
      "metadata": {
        "id": "0WFfa819Lmsx"
      },
      "execution_count": 534,
      "outputs": []
    },
    {
      "cell_type": "code",
      "source": [
        "df.loc[df.possui_mais_de_um_socio == 'Não', 'possui_mais_de_um_socio'] = 0\n",
        "df.loc[df.possui_mais_de_um_socio == 'Sim', 'possui_mais_de_um_socio'] = 1"
      ],
      "metadata": {
        "id": "jqMaDhuxL0Z9"
      },
      "execution_count": 535,
      "outputs": []
    },
    {
      "cell_type": "code",
      "source": [
        "df['possui_mais_de_um_socio'] = df['possui_mais_de_um_socio'].astype(int)"
      ],
      "metadata": {
        "id": "W3TjO498MBbS"
      },
      "execution_count": 536,
      "outputs": []
    },
    {
      "cell_type": "code",
      "source": [
        "df.loc[df.utiliza_servicos_financeiros == 'Não', 'utiliza_servicos_financeiros'] = 0\n",
        "df.loc[df.utiliza_servicos_financeiros == 'Sim', 'utiliza_servicos_financeiros'] = 1"
      ],
      "metadata": {
        "id": "jvoW_8BbMNMx"
      },
      "execution_count": 537,
      "outputs": []
    },
    {
      "cell_type": "code",
      "source": [
        "df['utiliza_servicos_financeiros'] = df['utiliza_servicos_financeiros'].astype(int)"
      ],
      "metadata": {
        "id": "s09SWzivMTYS"
      },
      "execution_count": 538,
      "outputs": []
    },
    {
      "cell_type": "code",
      "source": [
        "df.loc[df.possui_contador == 'Não', 'possui_contador'] = 0\n",
        "df.loc[df.possui_contador == 'Não ', 'possui_contador'] = 0\n",
        "df.loc[df.possui_contador == 'Sim', 'possui_contador'] = 1"
      ],
      "metadata": {
        "id": "qVnYAgCeMVr2"
      },
      "execution_count": 539,
      "outputs": []
    },
    {
      "cell_type": "code",
      "source": [
        "df['possui_contador'] = df['possui_contador'].astype(int)"
      ],
      "metadata": {
        "id": "wvZ11ns7MhZ4"
      },
      "execution_count": 540,
      "outputs": []
    },
    {
      "cell_type": "code",
      "source": [
        "df.loc[df.possui_mais_de_um_socio == 'Não', 'possui_mais_de_um_socio'] = 0\n",
        "df.loc[df.possui_mais_de_um_socio == 'Sim', 'possui_mais_de_um_socio'] = 1"
      ],
      "metadata": {
        "id": "sVOKm5TjpIOj"
      },
      "execution_count": 541,
      "outputs": []
    },
    {
      "cell_type": "code",
      "source": [
        "df['possui_mais_de_um_socio'] = df['possui_mais_de_um_socio'].astype(int)"
      ],
      "metadata": {
        "id": "oVPfckwkpbjo"
      },
      "execution_count": 542,
      "outputs": []
    },
    {
      "cell_type": "code",
      "source": [
        "df.loc[df.tipo_de_empresa == 'Micro empresa', 'tipo_de_empresa'] = 0\n",
        "df.loc[df.tipo_de_empresa == 'Pequena empresa', 'tipo_de_empresa'] = 1"
      ],
      "metadata": {
        "id": "J2ftJ-BmpgXF"
      },
      "execution_count": 543,
      "outputs": []
    },
    {
      "cell_type": "code",
      "source": [
        "df['tipo_de_empresa'] = df['tipo_de_empresa'].astype(int)"
      ],
      "metadata": {
        "id": "nshJCWRTpnq5"
      },
      "execution_count": 544,
      "outputs": []
    },
    {
      "cell_type": "code",
      "source": [
        "df.loc[df.funcionarios == 'até 5 funcionários', 'funcionarios'] = 0\n",
        "df.loc[df.funcionarios == '6 ou mais funcionários', 'funcionarios'] = 1"
      ],
      "metadata": {
        "id": "2Kz_0Hj5p68l"
      },
      "execution_count": 545,
      "outputs": []
    },
    {
      "cell_type": "code",
      "source": [
        "df['funcionarios'] = df['funcionarios'].astype(int)"
      ],
      "metadata": {
        "id": "HeVoRCDMqMBu"
      },
      "execution_count": 546,
      "outputs": []
    },
    {
      "cell_type": "markdown",
      "source": [
        "#**EDA**\n",
        "\n",
        "Nessa etapa vamos tentar extrair do nosso conjunto de dados, informações relevantes ao seu comportamento, do ponto de vista estatístico e de negócios; utilizando ferramentas estatística e de vizualização (gráficos, tabelas).\n"
      ],
      "metadata": {
        "id": "sYSibp0erY1_"
      }
    },
    {
      "cell_type": "code",
      "source": [
        "df.describe()"
      ],
      "metadata": {
        "id": "JZq_9J0y1X2d"
      },
      "execution_count": null,
      "outputs": []
    },
    {
      "cell_type": "code",
      "source": [
        "df.head()"
      ],
      "metadata": {
        "id": "ddLoq4-J2TZZ"
      },
      "execution_count": null,
      "outputs": []
    },
    {
      "cell_type": "code",
      "source": [
        "#profile = ProfileReport(\n",
        "    #df, title='Profile_EDA', html={'style': {'full_width': True}}, sort=None)"
      ],
      "metadata": {
        "id": "PQtiiS0UaFY4"
      },
      "execution_count": 320,
      "outputs": []
    },
    {
      "cell_type": "code",
      "source": [
        "#profile.to_notebook_iframe()"
      ],
      "metadata": {
        "id": "9SaFCfPDsWRm"
      },
      "execution_count": null,
      "outputs": []
    },
    {
      "cell_type": "markdown",
      "source": [
        "Utilizar o 'profilereport' é uma boa alternativa quando você já quer algumas informações sobre o seu conjunto de dados."
      ],
      "metadata": {
        "id": "ffmHCVYDWChA"
      }
    },
    {
      "cell_type": "markdown",
      "source": [
        "## Avaliação de Distribuições e Densidade\n"
      ],
      "metadata": {
        "id": "bn2YJtOyVjW1"
      }
    },
    {
      "cell_type": "code",
      "source": [
        "df['churn'].value_counts()"
      ],
      "metadata": {
        "colab": {
          "base_uri": "https://localhost:8080/"
        },
        "id": "o_jLkVx8Nrmv",
        "outputId": "04a198cc-f3cd-4690-b024-9e38998f1458"
      },
      "execution_count": 547,
      "outputs": [
        {
          "output_type": "execute_result",
          "data": {
            "text/plain": [
              "0    5174\n",
              "1    1869\n",
              "Name: churn, dtype: int64"
            ]
          },
          "metadata": {},
          "execution_count": 547
        }
      ]
    },
    {
      "cell_type": "markdown",
      "source": [
        "Nosso dataset se encontra bem desbalanceado."
      ],
      "metadata": {
        "id": "bycU_z1zK1G6"
      }
    },
    {
      "cell_type": "code",
      "source": [
        "plt.figure(figsize = (6,6))\n",
        "sns.violinplot(df.churn)\n",
        "plt.title('Distribuição do Churn')"
      ],
      "metadata": {
        "colab": {
          "base_uri": "https://localhost:8080/",
          "height": 427
        },
        "id": "NM6gb736qzwP",
        "outputId": "aaa35eab-c801-44b3-aedf-e5819c525f27"
      },
      "execution_count": 548,
      "outputs": [
        {
          "output_type": "execute_result",
          "data": {
            "text/plain": [
              "Text(0.5, 1.0, 'Distribuição do Churn')"
            ]
          },
          "metadata": {},
          "execution_count": 548
        },
        {
          "output_type": "display_data",
          "data": {
            "image/png": "[encoded data removed]",
            "text/plain": [
              "<Figure size 432x432 with 1 Axes>"
            ]
          },
          "metadata": {}
        }
      ]
    },
    {
      "cell_type": "code",
      "source": [
        "sns.set(style=\"ticks\")\n",
        "\n",
        "f, (ax_box, ax_hist) = plt.subplots(2, sharex=True, \n",
        "                                    gridspec_kw={\"height_ratios\": (.15, .85)})\n",
        "\n",
        "sns.boxplot(data= df, x='receita_mensal', ax=ax_box)\n",
        "sns.distplot(df['receita_mensal'], ax=ax_hist)\n",
        "\n",
        "ax_box.set(yticks=[])\n",
        "sns.despine(ax=ax_hist)\n",
        "sns.despine(ax=ax_box, left=True)"
      ],
      "metadata": {
        "colab": {
          "base_uri": "https://localhost:8080/",
          "height": 285
        },
        "id": "gXzaYinAJeOQ",
        "outputId": "4f6aad5b-1ec8-4412-d00a-16f884121c04"
      },
      "execution_count": 549,
      "outputs": [
        {
          "output_type": "display_data",
          "data": {
            "image/png": "[encoded data removed]",
            "text/plain": [
              "<Figure size 432x288 with 2 Axes>"
            ]
          },
          "metadata": {}
        }
      ]
    },
    {
      "cell_type": "code",
      "source": [
        "res = stats.probplot(df['receita_mensal'], plot = plt)"
      ],
      "metadata": {
        "colab": {
          "base_uri": "https://localhost:8080/",
          "height": 301
        },
        "id": "OapuVUdy5Kda",
        "outputId": "8b55a8f3-010f-4024-9090-0a24a0cb7052"
      },
      "execution_count": 550,
      "outputs": [
        {
          "output_type": "display_data",
          "data": {
            "image/png": "[encoded data removed]",
            "text/plain": [
              "<Figure size 432x288 with 1 Axes>"
            ]
          },
          "metadata": {}
        }
      ]
    },
    {
      "cell_type": "code",
      "source": [
        "numeric_var = ['fundacao_da_empresa', 'meses_de_permanencia', 'receita_mensal', 'receita_total']"
      ],
      "metadata": {
        "id": "c49l0uwy8qFP"
      },
      "execution_count": 551,
      "outputs": []
    },
    {
      "cell_type": "code",
      "source": [
        "# Olhando a distribuição para todas as variaveis numéricas\n",
        "n_rows=2\n",
        "n_cols=2\n",
        "# Create the subplots\n",
        "fig, axes = plt.subplots(nrows = n_rows, ncols=n_cols)\n",
        "fig.set_size_inches(10, 8)\n",
        "\n",
        "for i, (ax, column) in enumerate(zip(axes.flatten(), numeric_var)):\n",
        "  sns.histplot(df[column], ax=axes[i//n_cols][i%n_cols], bins=10, stat=\"density\", kde=True) "
      ],
      "metadata": {
        "colab": {
          "base_uri": "https://localhost:8080/",
          "height": 502
        },
        "id": "wWBaPU5G9fsz",
        "outputId": "952ea78a-6bfd-4d14-cb0a-498ff9f2eae2"
      },
      "execution_count": 552,
      "outputs": [
        {
          "output_type": "display_data",
          "data": {
            "image/png": "[encoded data removed]",
            "text/plain": [
              "<Figure size 720x576 with 4 Axes>"
            ]
          },
          "metadata": {}
        }
      ]
    },
    {
      "cell_type": "code",
      "source": [
        "#Todas variáveis\n",
        "corr_var = df.corr()\n",
        "plt.figure(figsize = (10,8))\n",
        "sns.heatmap(data = corr_var, linewidths=.5, annot=True,  fmt=\".2f\")"
      ],
      "metadata": {
        "colab": {
          "base_uri": "https://localhost:8080/",
          "height": 647
        },
        "id": "bLg4z6G6y6eY",
        "outputId": "ce018204-501c-4232-8023-508044ae6080"
      },
      "execution_count": 553,
      "outputs": [
        {
          "output_type": "execute_result",
          "data": {
            "text/plain": [
              "<matplotlib.axes._subplots.AxesSubplot at 0x7f31589ca850>"
            ]
          },
          "metadata": {},
          "execution_count": 553
        },
        {
          "output_type": "display_data",
          "data": {
            "image/png": "[encoded data removed]",
            "text/plain": [
              "<Figure size 720x576 with 2 Axes>"
            ]
          },
          "metadata": {}
        }
      ]
    },
    {
      "cell_type": "markdown",
      "source": [
        "Com essa tabela de correlação, podemos ter uma ideia de quais variáveis se correlacionam.\n",
        "\n",
        "De acordo com a definição para correlaçao de Pearson: 0.7 a 0.9 positivo ou negativo indica uma correlação forte. 0.5 a 0.7 positivo ou negativo indica uma correlação moderada. 0.3 a 0.5 positivo ou negativo indica uma correlação fraca. 0 a 0.3 positivo ou negativo indica uma correlação desprezível.\n",
        "\n",
        "Temos apenas uma forte correlação que é entre receita total e os meses de permanência.\n",
        "\n"
      ],
      "metadata": {
        "id": "R6oGA2NtMY9h"
      }
    },
    {
      "cell_type": "code",
      "source": [
        "plt.figure(figsize=(10,5))\n",
        "plt.title(\"distribuição do churn pelo tipo de empresa\", fontsize=15)\n",
        "lines = ['churn']\n",
        "for line in lines:\n",
        "    ax = sns.lineplot(x='tipo_de_empresa', y=line, data=df)"
      ],
      "metadata": {
        "colab": {
          "base_uri": "https://localhost:8080/",
          "height": 353
        },
        "id": "isPY22QCNMNU",
        "outputId": "7adc89bf-82fe-4eb8-f16e-201a9d1b1131"
      },
      "execution_count": 338,
      "outputs": [
        {
          "output_type": "display_data",
          "data": {
            "image/png": "[encoded data removed]",
            "text/plain": [
              "<Figure size 720x360 with 1 Axes>"
            ]
          },
          "metadata": {
            "needs_background": "light"
          }
        }
      ]
    },
    {
      "cell_type": "markdown",
      "source": [
        "Podemos ver que pequenas empresas tendem ao churn mais que as micro empresas, por quê? Com o modelo nós levantamos uma resposta. "
      ],
      "metadata": {
        "id": "VLpaqMXwNhK4"
      }
    },
    {
      "cell_type": "code",
      "source": [
        "plt.figure(figsize=(10,5))\n",
        "plt.title(\"distribuição do churn por tempo de contrato\", fontsize=15)\n",
        "lines = ['churn']\n",
        "for line in lines:\n",
        "    ax = sns.lineplot(x='contrato', y=line, data=df)"
      ],
      "metadata": {
        "colab": {
          "base_uri": "https://localhost:8080/",
          "height": 352
        },
        "id": "-7gN_dAi5J9U",
        "outputId": "65ed9ce9-f80b-4a28-c8aa-f6ae1e9a290b"
      },
      "execution_count": 366,
      "outputs": [
        {
          "output_type": "display_data",
          "data": {
            "image/png": "[encoded data removed]",
            "text/plain": [
              "<Figure size 720x360 with 1 Axes>"
            ]
          },
          "metadata": {
            "needs_background": "light"
          }
        }
      ]
    },
    {
      "cell_type": "markdown",
      "source": [
        "Há fortes indícios que se a empresa tem contratos com prazos mais longos, ela tende ao 'Não churn'."
      ],
      "metadata": {
        "id": "PrNz69LtNu-I"
      }
    },
    {
      "cell_type": "code",
      "source": [
        "media_por_ano = df[['fundacao_da_empresa', 'meses_de_permanencia', 'receita_mensal', 'receita_total']].groupby('fundacao_da_empresa').mean().sort_values(by='fundacao_da_empresa').reset_index()\n",
        "media_por_ano.head()"
      ],
      "metadata": {
        "colab": {
          "base_uri": "https://localhost:8080/",
          "height": 206
        },
        "id": "2qVOtATyhmKm",
        "outputId": "d0fe1fd2-3d92-47e5-8360-8016370d9a43"
      },
      "execution_count": 554,
      "outputs": [
        {
          "output_type": "execute_result",
          "data": {
            "text/html": [
              "\n",
              "  <div id=\"df-cfe81f58-3f52-415f-8f1c-86d8a21e3eba\">\n",
              "    <div class=\"colab-df-container\">\n",
              "      <div>\n",
              "<style scoped>\n",
              "    .dataframe tbody tr th:only-of-type {\n",
              "        vertical-align: middle;\n",
              "    }\n",
              "\n",
              "    .dataframe tbody tr th {\n",
              "        vertical-align: top;\n",
              "    }\n",
              "\n",
              "    .dataframe thead th {\n",
              "        text-align: right;\n",
              "    }\n",
              "</style>\n",
              "<table border=\"1\" class=\"dataframe\">\n",
              "  <thead>\n",
              "    <tr style=\"text-align: right;\">\n",
              "      <th></th>\n",
              "      <th>fundacao_da_empresa</th>\n",
              "      <th>meses_de_permanencia</th>\n",
              "      <th>receita_mensal</th>\n",
              "      <th>receita_total</th>\n",
              "    </tr>\n",
              "  </thead>\n",
              "  <tbody>\n",
              "    <tr>\n",
              "      <th>0</th>\n",
              "      <td>2001</td>\n",
              "      <td>32.211765</td>\n",
              "      <td>75.657647</td>\n",
              "      <td>2557.699412</td>\n",
              "    </tr>\n",
              "    <tr>\n",
              "      <th>1</th>\n",
              "      <td>2002</td>\n",
              "      <td>29.057143</td>\n",
              "      <td>83.636429</td>\n",
              "      <td>2665.356429</td>\n",
              "    </tr>\n",
              "    <tr>\n",
              "      <th>2</th>\n",
              "      <td>2003</td>\n",
              "      <td>28.050633</td>\n",
              "      <td>77.804430</td>\n",
              "      <td>2360.703165</td>\n",
              "    </tr>\n",
              "    <tr>\n",
              "      <th>3</th>\n",
              "      <td>2004</td>\n",
              "      <td>34.537500</td>\n",
              "      <td>74.618750</td>\n",
              "      <td>2638.096250</td>\n",
              "    </tr>\n",
              "    <tr>\n",
              "      <th>4</th>\n",
              "      <td>2005</td>\n",
              "      <td>35.045977</td>\n",
              "      <td>82.882184</td>\n",
              "      <td>3017.472414</td>\n",
              "    </tr>\n",
              "  </tbody>\n",
              "</table>\n",
              "</div>\n",
              "      <button class=\"colab-df-convert\" onclick=\"convertToInteractive('df-cfe81f58-3f52-415f-8f1c-86d8a21e3eba')\"\n",
              "              title=\"Convert this dataframe to an interactive table.\"\n",
              "              style=\"display:none;\">\n",
              "        \n",
              "  <svg xmlns=\"http://www.w3.org/2000/svg\" height=\"24px\"viewBox=\"0 0 24 24\"\n",
              "       width=\"24px\">\n",
              "    <path d=\"M0 0h24v24H0V0z\" fill=\"none\"/>\n",
              "    <path d=\"M18.56 5.44l.94 2.06.94-2.06 2.06-.94-2.06-.94-.94-2.06-.94 2.06-2.06.94zm-11 1L8.5 8.5l.94-2.06 2.06-.94-2.06-.94L8.5 2.5l-.94 2.06-2.06.94zm10 10l.94 2.06.94-2.06 2.06-.94-2.06-.94-.94-2.06-.94 2.06-2.06.94z\"/><path d=\"M17.41 7.96l-1.37-1.37c-.4-.4-.92-.59-1.43-.59-.52 0-1.04.2-1.43.59L10.3 9.45l-7.72 7.72c-.78.78-.78 2.05 0 2.83L4 21.41c.39.39.9.59 1.41.59.51 0 1.02-.2 1.41-.59l7.78-7.78 2.81-2.81c.8-.78.8-2.07 0-2.86zM5.41 20L4 18.59l7.72-7.72 1.47 1.35L5.41 20z\"/>\n",
              "  </svg>\n",
              "      </button>\n",
              "      \n",
              "  <style>\n",
              "    .colab-df-container {\n",
              "      display:flex;\n",
              "      flex-wrap:wrap;\n",
              "      gap: 12px;\n",
              "    }\n",
              "\n",
              "    .colab-df-convert {\n",
              "      background-color: #E8F0FE;\n",
              "      border: none;\n",
              "      border-radius: 50%;\n",
              "      cursor: pointer;\n",
              "      display: none;\n",
              "      fill: #1967D2;\n",
              "      height: 32px;\n",
              "      padding: 0 0 0 0;\n",
              "      width: 32px;\n",
              "    }\n",
              "\n",
              "    .colab-df-convert:hover {\n",
              "      background-color: #E2EBFA;\n",
              "      box-shadow: 0px 1px 2px rgba(60, 64, 67, 0.3), 0px 1px 3px 1px rgba(60, 64, 67, 0.15);\n",
              "      fill: #174EA6;\n",
              "    }\n",
              "\n",
              "    [theme=dark] .colab-df-convert {\n",
              "      background-color: #3B4455;\n",
              "      fill: #D2E3FC;\n",
              "    }\n",
              "\n",
              "    [theme=dark] .colab-df-convert:hover {\n",
              "      background-color: #434B5C;\n",
              "      box-shadow: 0px 1px 3px 1px rgba(0, 0, 0, 0.15);\n",
              "      filter: drop-shadow(0px 1px 2px rgba(0, 0, 0, 0.3));\n",
              "      fill: #FFFFFF;\n",
              "    }\n",
              "  </style>\n",
              "\n",
              "      <script>\n",
              "        const buttonEl =\n",
              "          document.querySelector('#df-cfe81f58-3f52-415f-8f1c-86d8a21e3eba button.colab-df-convert');\n",
              "        buttonEl.style.display =\n",
              "          google.colab.kernel.accessAllowed ? 'block' : 'none';\n",
              "\n",
              "        async function convertToInteractive(key) {\n",
              "          const element = document.querySelector('#df-cfe81f58-3f52-415f-8f1c-86d8a21e3eba');\n",
              "          const dataTable =\n",
              "            await google.colab.kernel.invokeFunction('convertToInteractive',\n",
              "                                                     [key], {});\n",
              "          if (!dataTable) return;\n",
              "\n",
              "          const docLinkHtml = 'Like what you see? Visit the ' +\n",
              "            '<a target=\"_blank\" href=https://colab.research.google.com/notebooks/data_table.ipynb>data table notebook</a>'\n",
              "            + ' to learn more about interactive tables.';\n",
              "          element.innerHTML = '';\n",
              "          dataTable['output_type'] = 'display_data';\n",
              "          await google.colab.output.renderOutput(dataTable, element);\n",
              "          const docLink = document.createElement('div');\n",
              "          docLink.innerHTML = docLinkHtml;\n",
              "          element.appendChild(docLink);\n",
              "        }\n",
              "      </script>\n",
              "    </div>\n",
              "  </div>\n",
              "  "
            ],
            "text/plain": [
              "   fundacao_da_empresa  meses_de_permanencia  receita_mensal  receita_total\n",
              "0                 2001             32.211765       75.657647    2557.699412\n",
              "1                 2002             29.057143       83.636429    2665.356429\n",
              "2                 2003             28.050633       77.804430    2360.703165\n",
              "3                 2004             34.537500       74.618750    2638.096250\n",
              "4                 2005             35.045977       82.882184    3017.472414"
            ]
          },
          "metadata": {},
          "execution_count": 554
        }
      ]
    },
    {
      "cell_type": "code",
      "source": [
        "plt.figure(figsize=(10,5))\n",
        "plt.title(\"média de meses de permanência de acordo com a receita mensal\", fontsize=15)\n",
        "lines = ['meses_de_permanencia']\n",
        "for line in lines:\n",
        "    ax = sns.lineplot(x='receita_mensal', y=line, data=media_por_ano)"
      ],
      "metadata": {
        "colab": {
          "base_uri": "https://localhost:8080/",
          "height": 358
        },
        "id": "dulTFc9yR7Ni",
        "outputId": "421dd6a6-362b-4bc8-9540-dfd9bcf5abd9"
      },
      "execution_count": 557,
      "outputs": [
        {
          "output_type": "display_data",
          "data": {
            "image/png": "[encoded data removed]",
            "text/plain": [
              "<Figure size 720x360 with 1 Axes>"
            ]
          },
          "metadata": {}
        }
      ]
    },
    {
      "cell_type": "markdown",
      "source": [
        "Há um descompasso no tempo permanência conforme a receita mensal aumenta, pode ser que as empresas mudem para a concorrência porque nossos serviços não são mais vantajosos para o momento da empresa. Vamos confirmar com o modelo."
      ],
      "metadata": {
        "id": "lONQZ3RXOI9K"
      }
    },
    {
      "cell_type": "code",
      "source": [
        "plt.figure(figsize=(10,5))\n",
        "plt.title(\"Média da receita total pelo ano de fundação da empresa\", fontsize=15)\n",
        "lines = ['receita_total']\n",
        "for line in lines:\n",
        "    ax = sns.lineplot(x='fundacao_da_empresa', y=line, data=media_por_ano)"
      ],
      "metadata": {
        "colab": {
          "base_uri": "https://localhost:8080/",
          "height": 354
        },
        "id": "fqKphjTmmkXu",
        "outputId": "5469e924-bd02-478a-ae43-5a94382d6887"
      },
      "execution_count": 374,
      "outputs": [
        {
          "output_type": "display_data",
          "data": {
            "image/png": "[encoded data removed]",
            "text/plain": [
              "<Figure size 720x360 with 1 Axes>"
            ]
          },
          "metadata": {
            "needs_background": "light"
          }
        }
      ]
    },
    {
      "cell_type": "markdown",
      "source": [
        "É provável que as receitas maiores (2010 - 2012) se deu pelo momento econômico do País e as receitas mais baixas (2015 - 2020) se deu pela crise política e econômica e, mais recente, a pandemia."
      ],
      "metadata": {
        "id": "nOlwAHFQQYyB"
      }
    },
    {
      "cell_type": "markdown",
      "source": [
        "####Teste T para saber se alguns parâmetros influenciam diretamente no Churn\n",
        "\n",
        "\n",
        "####H0: Não há diferença entre as médias\n",
        "####H1: Há diferença"
      ],
      "metadata": {
        "id": "-VJP4U_yqpya"
      }
    },
    {
      "cell_type": "code",
      "source": [
        "import statsmodels.api as sm\n",
        "import statsmodels.stats.multicomp\n",
        "\n",
        "from statsmodels.formula.api import ols\n",
        "from statsmodels.stats.anova import anova_lm"
      ],
      "metadata": {
        "id": "0c2DuPM0qbl-"
      },
      "execution_count": 64,
      "outputs": []
    },
    {
      "cell_type": "code",
      "source": [
        "sns.boxplot(x=df.churn, y=df.meses_de_permanencia)\n",
        "plt.title('Distribuição de Churn por meses de permanência')\n",
        "plt.show()"
      ],
      "metadata": {
        "colab": {
          "base_uri": "https://localhost:8080/",
          "height": 295
        },
        "id": "QeCiCeH1nnmM",
        "outputId": "b86ceac2-1b44-4ff8-aa3d-ff88431f04ee"
      },
      "execution_count": 65,
      "outputs": [
        {
          "output_type": "display_data",
          "data": {
            "image/png": "[encoded data removed]",
            "text/plain": [
              "<Figure size 432x288 with 1 Axes>"
            ]
          },
          "metadata": {
            "needs_background": "light"
          }
        }
      ]
    },
    {
      "cell_type": "code",
      "source": [
        "df[df.churn==0]['meses_de_permanencia'].hist(density=True, alpha=0.5)\n",
        "df[df.churn==1]['meses_de_permanencia'].hist(density=True, alpha=0.5)\n",
        "plt.legend(['churn 0', 'churn 1'])\n",
        "plt.title('Densidade da permanencia')\n",
        "plt.show()"
      ],
      "metadata": {
        "colab": {
          "base_uri": "https://localhost:8080/",
          "height": 281
        },
        "id": "5FfNP6vsqk2Q",
        "outputId": "3588c5e4-5aca-43e1-df1a-6198c2968fec"
      },
      "execution_count": 376,
      "outputs": [
        {
          "output_type": "display_data",
          "data": {
            "image/png": "[encoded data removed]",
            "text/plain": [
              "<Figure size 432x288 with 1 Axes>"
            ]
          },
          "metadata": {
            "needs_background": "light"
          }
        }
      ]
    },
    {
      "cell_type": "code",
      "source": [
        "stats.ttest_ind(df[df.churn==0]['meses_de_permanencia'], df[df.churn==1]['meses_de_permanencia'])"
      ],
      "metadata": {
        "colab": {
          "base_uri": "https://localhost:8080/"
        },
        "id": "g4SVdEvKrMIL",
        "outputId": "e700f787-39f3-4641-9df6-61d99762765f"
      },
      "execution_count": 69,
      "outputs": [
        {
          "output_type": "execute_result",
          "data": {
            "text/plain": [
              "Ttest_indResult(statistic=31.569995452928403, pvalue=1.0732933837402176e-204)"
            ]
          },
          "metadata": {},
          "execution_count": 69
        }
      ]
    },
    {
      "cell_type": "code",
      "source": [
        "sns.boxplot(x=df.churn, y=df.receita_mensal)\n",
        "plt.title('Distribuição de Churn por receita mensal')\n",
        "plt.show()"
      ],
      "metadata": {
        "colab": {
          "base_uri": "https://localhost:8080/",
          "height": 295
        },
        "id": "ExLySseJr_Ae",
        "outputId": "3ab3c7e8-25cb-4882-bb38-819340e3fbbe"
      },
      "execution_count": 70,
      "outputs": [
        {
          "output_type": "display_data",
          "data": {
            "image/png": "[encoded data removed]",
            "text/plain": [
              "<Figure size 432x288 with 1 Axes>"
            ]
          },
          "metadata": {
            "needs_background": "light"
          }
        }
      ]
    },
    {
      "cell_type": "code",
      "source": [
        "df[df['churn']==0]['receita_mensal'].hist(density=True, alpha=0.5)\n",
        "df[df['churn']==1]['receita_mensal'].hist(density=True, alpha=0.5)\n",
        "plt.legend(['churn 0', 'churn 1'])\n",
        "plt.title('churn por receita mensal')\n",
        "plt.show()"
      ],
      "metadata": {
        "colab": {
          "base_uri": "https://localhost:8080/",
          "height": 281
        },
        "id": "h-YoLzAIshpH",
        "outputId": "2e427bdc-c214-4cc8-fd7c-e122aee7090f"
      },
      "execution_count": 375,
      "outputs": [
        {
          "output_type": "display_data",
          "data": {
            "image/png": "[encoded data removed]",
            "text/plain": [
              "<Figure size 432x288 with 1 Axes>"
            ]
          },
          "metadata": {
            "needs_background": "light"
          }
        }
      ]
    },
    {
      "cell_type": "code",
      "source": [
        "stats.ttest_ind(df[df.churn==0]['receita_mensal'], df[df.churn==1]['receita_mensal'])"
      ],
      "metadata": {
        "colab": {
          "base_uri": "https://localhost:8080/"
        },
        "id": "YaZO1haPtADN",
        "outputId": "cc6afe97-cbba-4b19-bc23-ae64065d5109"
      },
      "execution_count": 43,
      "outputs": [
        {
          "output_type": "execute_result",
          "data": {
            "text/plain": [
              "Ttest_indResult(statistic=-16.55017772823186, pvalue=2.189014556607605e-60)"
            ]
          },
          "metadata": {},
          "execution_count": 43
        }
      ]
    },
    {
      "cell_type": "markdown",
      "source": [
        "Ao rodarmos o teste estatístico T (teste de hipóteses), conseguimos inferir que o churn está diretamente ligado as maiores receitas mensais, e as empresas com mais tempo de contrato, tendem ao 'não churn'."
      ],
      "metadata": {
        "id": "5RFnZLN1R5oe"
      }
    },
    {
      "cell_type": "markdown",
      "source": [
        "#**Feature Engineering**\n",
        "\n",
        "Esta etapa vamos trabalhar emcima de nossas variáveis, sejam elas categóricas ou contínuas, deixando elas prontas para serem features do nosso modelo de machine learning. "
      ],
      "metadata": {
        "id": "i_LfAIOWfEBp"
      }
    },
    {
      "cell_type": "markdown",
      "source": [
        "####Tratamento de outliers e 'feature scaling' das variáveis contínuas.\n",
        "\n",
        "Limpar outliers e escalar as features são boas práticas que ajudam a melhorar o desempenho do nosso modelo."
      ],
      "metadata": {
        "id": "ITTUBJfRuOtl"
      }
    },
    {
      "cell_type": "code",
      "source": [
        "## Remoção Outlier por IQR\n",
        "def iqr_remove(df,col):\n",
        "  Q1 = df[col].quantile(0.25)\n",
        "  Q3 = df[col].quantile(0.75)\n",
        "  IQR = Q3 - Q1\n",
        "  return df[~((df[col] < (Q1 - 1.5 * IQR)) | (df[col] > (Q3 + 1.5 * IQR)))]"
      ],
      "metadata": {
        "id": "oc_f9YBGfI7z"
      },
      "execution_count": 72,
      "outputs": []
    },
    {
      "cell_type": "code",
      "source": [
        "df.shape"
      ],
      "metadata": {
        "colab": {
          "base_uri": "https://localhost:8080/"
        },
        "id": "Hmgm9e-X2X6Y",
        "outputId": "2d586b6f-19b9-4dbd-9451-b4173065f2ec"
      },
      "execution_count": 211,
      "outputs": [
        {
          "output_type": "execute_result",
          "data": {
            "text/plain": [
              "(7036, 20)"
            ]
          },
          "metadata": {},
          "execution_count": 211
        }
      ]
    },
    {
      "cell_type": "code",
      "source": [
        "iqr_remove(df,'receita_total').shape"
      ],
      "metadata": {
        "colab": {
          "base_uri": "https://localhost:8080/"
        },
        "id": "SX40XVIA2gGK",
        "outputId": "084bf233-191c-409c-c658-bbb9123a6cec"
      },
      "execution_count": 213,
      "outputs": [
        {
          "output_type": "execute_result",
          "data": {
            "text/plain": [
              "(7036, 20)"
            ]
          },
          "metadata": {},
          "execution_count": 213
        }
      ]
    },
    {
      "cell_type": "code",
      "source": [
        "iqr_remove(df,'meses_de_permanencia').shape"
      ],
      "metadata": {
        "colab": {
          "base_uri": "https://localhost:8080/"
        },
        "id": "QelPMiMp5TeZ",
        "outputId": "15426e13-6c7c-4a8b-8089-a45c2610b739"
      },
      "execution_count": 214,
      "outputs": [
        {
          "output_type": "execute_result",
          "data": {
            "text/plain": [
              "(7036, 20)"
            ]
          },
          "metadata": {},
          "execution_count": 214
        }
      ]
    },
    {
      "cell_type": "code",
      "source": [
        "iqr_remove(df,'receita_mensal').shape"
      ],
      "metadata": {
        "colab": {
          "base_uri": "https://localhost:8080/"
        },
        "id": "sMbpBVza5kgo",
        "outputId": "608a4fcb-9b90-44c7-f7fa-665c3de80986"
      },
      "execution_count": 215,
      "outputs": [
        {
          "output_type": "execute_result",
          "data": {
            "text/plain": [
              "(7036, 20)"
            ]
          },
          "metadata": {},
          "execution_count": 215
        }
      ]
    },
    {
      "cell_type": "code",
      "source": [
        "print(df.skew())"
      ],
      "metadata": {
        "id": "p2Ox-J-xrgrj"
      },
      "execution_count": null,
      "outputs": []
    },
    {
      "cell_type": "code",
      "source": [
        "from sklearn.preprocessing import MinMaxScaler\n",
        "from sklearn.preprocessing import StandardScaler\n",
        "from sklearn.preprocessing import RobustScaler"
      ],
      "metadata": {
        "id": "RBm9YKIh592E"
      },
      "execution_count": 27,
      "outputs": []
    },
    {
      "cell_type": "code",
      "source": [
        "z_score = StandardScaler()\n",
        "min_max = MinMaxScaler()\n",
        "robust = RobustScaler()"
      ],
      "metadata": {
        "id": "z3c8HCp86CpP"
      },
      "execution_count": 28,
      "outputs": []
    },
    {
      "cell_type": "code",
      "source": [
        "df_features = df"
      ],
      "metadata": {
        "id": "YJkG6tNbTkhK"
      },
      "execution_count": 558,
      "outputs": []
    },
    {
      "cell_type": "code",
      "source": [
        "df_features.meses_de_permanencia = min_max.fit_transform(df[['meses_de_permanencia']])"
      ],
      "metadata": {
        "id": "P13nRxLNsGJf"
      },
      "execution_count": 559,
      "outputs": []
    },
    {
      "cell_type": "code",
      "source": [
        "df_features.receita_mensal = min_max.fit_transform(df[['receita_mensal']])"
      ],
      "metadata": {
        "id": "kyxzif-dtMpq"
      },
      "execution_count": 560,
      "outputs": []
    },
    {
      "cell_type": "code",
      "source": [
        "df_features.receita_total = min_max.fit_transform(df[['receita_total']])"
      ],
      "metadata": {
        "id": "CUvLLCpntUY4"
      },
      "execution_count": 561,
      "outputs": []
    },
    {
      "cell_type": "markdown",
      "source": [
        "Foi usado a escala de 'min e máx' pois todas as variáveis contínuas do nosso dataset se encontram sem outliers e com uma boa normalização. Se tivessemos features com outliers, seria melhor outro método de escala."
      ],
      "metadata": {
        "id": "pb_9j0xPXgrl"
      }
    },
    {
      "cell_type": "code",
      "source": [
        "df_features.head()"
      ],
      "metadata": {
        "colab": {
          "base_uri": "https://localhost:8080/",
          "height": 339
        },
        "id": "uV4viUrstmXA",
        "outputId": "284b76d5-729c-4905-8fcf-5724f8de2498"
      },
      "execution_count": 562,
      "outputs": [
        {
          "output_type": "execute_result",
          "data": {
            "text/html": [
              "\n",
              "  <div id=\"df-76316bdd-0a55-4e07-b1bb-898ebbba3b60\">\n",
              "    <div class=\"colab-df-container\">\n",
              "      <div>\n",
              "<style scoped>\n",
              "    .dataframe tbody tr th:only-of-type {\n",
              "        vertical-align: middle;\n",
              "    }\n",
              "\n",
              "    .dataframe tbody tr th {\n",
              "        vertical-align: top;\n",
              "    }\n",
              "\n",
              "    .dataframe thead th {\n",
              "        text-align: right;\n",
              "    }\n",
              "</style>\n",
              "<table border=\"1\" class=\"dataframe\">\n",
              "  <thead>\n",
              "    <tr style=\"text-align: right;\">\n",
              "      <th></th>\n",
              "      <th>tipo_de_empresa</th>\n",
              "      <th>fundacao_da_empresa</th>\n",
              "      <th>possui_mais_de_um_socio</th>\n",
              "      <th>funcionarios</th>\n",
              "      <th>meses_de_permanencia</th>\n",
              "      <th>utiliza_servicos_financeiros</th>\n",
              "      <th>possui_contador</th>\n",
              "      <th>faz_conciliacao_bancaria</th>\n",
              "      <th>frequencia_de_utilizacao_modulo_financeiro</th>\n",
              "      <th>frequencia_de_utilizacao_sistema_emissao_de_nota_fiscal</th>\n",
              "      <th>frequencia_de_utilizacao_integracao_bancaria</th>\n",
              "      <th>frequencia_de_utilizacao_modulo_de_vendas</th>\n",
              "      <th>frequencia_de_utilizacao_sistema_relatorios</th>\n",
              "      <th>frequencia_de_utilizacao_sistema_de_apis_de_integracao</th>\n",
              "      <th>contrato</th>\n",
              "      <th>emite_boletos</th>\n",
              "      <th>tipo_de_pagamento</th>\n",
              "      <th>receita_mensal</th>\n",
              "      <th>receita_total</th>\n",
              "      <th>churn</th>\n",
              "    </tr>\n",
              "  </thead>\n",
              "  <tbody>\n",
              "    <tr>\n",
              "      <th>0</th>\n",
              "      <td>0</td>\n",
              "      <td>2016</td>\n",
              "      <td>1</td>\n",
              "      <td>0</td>\n",
              "      <td>0.013889</td>\n",
              "      <td>0</td>\n",
              "      <td>0</td>\n",
              "      <td>automática</td>\n",
              "      <td>Pouco uso</td>\n",
              "      <td>Uso frequente</td>\n",
              "      <td>Pouco uso</td>\n",
              "      <td>Pouco uso</td>\n",
              "      <td>Pouco uso</td>\n",
              "      <td>Pouco uso</td>\n",
              "      <td>Mês-a-mês</td>\n",
              "      <td>1</td>\n",
              "      <td>Boleto - pagamento único</td>\n",
              "      <td>0.115423</td>\n",
              "      <td>0.001275</td>\n",
              "      <td>0</td>\n",
              "    </tr>\n",
              "    <tr>\n",
              "      <th>1</th>\n",
              "      <td>1</td>\n",
              "      <td>2018</td>\n",
              "      <td>0</td>\n",
              "      <td>0</td>\n",
              "      <td>0.472222</td>\n",
              "      <td>1</td>\n",
              "      <td>0</td>\n",
              "      <td>automática</td>\n",
              "      <td>Uso frequente</td>\n",
              "      <td>Pouco uso</td>\n",
              "      <td>Uso frequente</td>\n",
              "      <td>Pouco uso</td>\n",
              "      <td>Pouco uso</td>\n",
              "      <td>Pouco uso</td>\n",
              "      <td>Trimestral</td>\n",
              "      <td>0</td>\n",
              "      <td>Boleto - mês a mês</td>\n",
              "      <td>0.385075</td>\n",
              "      <td>0.215867</td>\n",
              "      <td>0</td>\n",
              "    </tr>\n",
              "    <tr>\n",
              "      <th>2</th>\n",
              "      <td>1</td>\n",
              "      <td>2021</td>\n",
              "      <td>0</td>\n",
              "      <td>0</td>\n",
              "      <td>0.027778</td>\n",
              "      <td>1</td>\n",
              "      <td>0</td>\n",
              "      <td>automática</td>\n",
              "      <td>Uso frequente</td>\n",
              "      <td>Uso frequente</td>\n",
              "      <td>Pouco uso</td>\n",
              "      <td>Pouco uso</td>\n",
              "      <td>Pouco uso</td>\n",
              "      <td>Pouco uso</td>\n",
              "      <td>Mês-a-mês</td>\n",
              "      <td>1</td>\n",
              "      <td>Boleto - mês a mês</td>\n",
              "      <td>0.354229</td>\n",
              "      <td>0.010310</td>\n",
              "      <td>1</td>\n",
              "    </tr>\n",
              "    <tr>\n",
              "      <th>3</th>\n",
              "      <td>1</td>\n",
              "      <td>2016</td>\n",
              "      <td>0</td>\n",
              "      <td>0</td>\n",
              "      <td>0.625000</td>\n",
              "      <td>0</td>\n",
              "      <td>0</td>\n",
              "      <td>automática</td>\n",
              "      <td>Uso frequente</td>\n",
              "      <td>Pouco uso</td>\n",
              "      <td>Uso frequente</td>\n",
              "      <td>Uso frequente</td>\n",
              "      <td>Pouco uso</td>\n",
              "      <td>Pouco uso</td>\n",
              "      <td>Trimestral</td>\n",
              "      <td>0</td>\n",
              "      <td>Cartão de crédito - pagamento único</td>\n",
              "      <td>0.239303</td>\n",
              "      <td>0.210241</td>\n",
              "      <td>0</td>\n",
              "    </tr>\n",
              "    <tr>\n",
              "      <th>4</th>\n",
              "      <td>0</td>\n",
              "      <td>2017</td>\n",
              "      <td>0</td>\n",
              "      <td>0</td>\n",
              "      <td>0.027778</td>\n",
              "      <td>1</td>\n",
              "      <td>0</td>\n",
              "      <td>manual</td>\n",
              "      <td>Pouco uso</td>\n",
              "      <td>Pouco uso</td>\n",
              "      <td>Pouco uso</td>\n",
              "      <td>Pouco uso</td>\n",
              "      <td>Pouco uso</td>\n",
              "      <td>Pouco uso</td>\n",
              "      <td>Mês-a-mês</td>\n",
              "      <td>1</td>\n",
              "      <td>Boleto - pagamento único</td>\n",
              "      <td>0.521891</td>\n",
              "      <td>0.015330</td>\n",
              "      <td>1</td>\n",
              "    </tr>\n",
              "  </tbody>\n",
              "</table>\n",
              "</div>\n",
              "      <button class=\"colab-df-convert\" onclick=\"convertToInteractive('df-76316bdd-0a55-4e07-b1bb-898ebbba3b60')\"\n",
              "              title=\"Convert this dataframe to an interactive table.\"\n",
              "              style=\"display:none;\">\n",
              "        \n",
              "  <svg xmlns=\"http://www.w3.org/2000/svg\" height=\"24px\"viewBox=\"0 0 24 24\"\n",
              "       width=\"24px\">\n",
              "    <path d=\"M0 0h24v24H0V0z\" fill=\"none\"/>\n",
              "    <path d=\"M18.56 5.44l.94 2.06.94-2.06 2.06-.94-2.06-.94-.94-2.06-.94 2.06-2.06.94zm-11 1L8.5 8.5l.94-2.06 2.06-.94-2.06-.94L8.5 2.5l-.94 2.06-2.06.94zm10 10l.94 2.06.94-2.06 2.06-.94-2.06-.94-.94-2.06-.94 2.06-2.06.94z\"/><path d=\"M17.41 7.96l-1.37-1.37c-.4-.4-.92-.59-1.43-.59-.52 0-1.04.2-1.43.59L10.3 9.45l-7.72 7.72c-.78.78-.78 2.05 0 2.83L4 21.41c.39.39.9.59 1.41.59.51 0 1.02-.2 1.41-.59l7.78-7.78 2.81-2.81c.8-.78.8-2.07 0-2.86zM5.41 20L4 18.59l7.72-7.72 1.47 1.35L5.41 20z\"/>\n",
              "  </svg>\n",
              "      </button>\n",
              "      \n",
              "  <style>\n",
              "    .colab-df-container {\n",
              "      display:flex;\n",
              "      flex-wrap:wrap;\n",
              "      gap: 12px;\n",
              "    }\n",
              "\n",
              "    .colab-df-convert {\n",
              "      background-color: #E8F0FE;\n",
              "      border: none;\n",
              "      border-radius: 50%;\n",
              "      cursor: pointer;\n",
              "      display: none;\n",
              "      fill: #1967D2;\n",
              "      height: 32px;\n",
              "      padding: 0 0 0 0;\n",
              "      width: 32px;\n",
              "    }\n",
              "\n",
              "    .colab-df-convert:hover {\n",
              "      background-color: #E2EBFA;\n",
              "      box-shadow: 0px 1px 2px rgba(60, 64, 67, 0.3), 0px 1px 3px 1px rgba(60, 64, 67, 0.15);\n",
              "      fill: #174EA6;\n",
              "    }\n",
              "\n",
              "    [theme=dark] .colab-df-convert {\n",
              "      background-color: #3B4455;\n",
              "      fill: #D2E3FC;\n",
              "    }\n",
              "\n",
              "    [theme=dark] .colab-df-convert:hover {\n",
              "      background-color: #434B5C;\n",
              "      box-shadow: 0px 1px 3px 1px rgba(0, 0, 0, 0.15);\n",
              "      filter: drop-shadow(0px 1px 2px rgba(0, 0, 0, 0.3));\n",
              "      fill: #FFFFFF;\n",
              "    }\n",
              "  </style>\n",
              "\n",
              "      <script>\n",
              "        const buttonEl =\n",
              "          document.querySelector('#df-76316bdd-0a55-4e07-b1bb-898ebbba3b60 button.colab-df-convert');\n",
              "        buttonEl.style.display =\n",
              "          google.colab.kernel.accessAllowed ? 'block' : 'none';\n",
              "\n",
              "        async function convertToInteractive(key) {\n",
              "          const element = document.querySelector('#df-76316bdd-0a55-4e07-b1bb-898ebbba3b60');\n",
              "          const dataTable =\n",
              "            await google.colab.kernel.invokeFunction('convertToInteractive',\n",
              "                                                     [key], {});\n",
              "          if (!dataTable) return;\n",
              "\n",
              "          const docLinkHtml = 'Like what you see? Visit the ' +\n",
              "            '<a target=\"_blank\" href=https://colab.research.google.com/notebooks/data_table.ipynb>data table notebook</a>'\n",
              "            + ' to learn more about interactive tables.';\n",
              "          element.innerHTML = '';\n",
              "          dataTable['output_type'] = 'display_data';\n",
              "          await google.colab.output.renderOutput(dataTable, element);\n",
              "          const docLink = document.createElement('div');\n",
              "          docLink.innerHTML = docLinkHtml;\n",
              "          element.appendChild(docLink);\n",
              "        }\n",
              "      </script>\n",
              "    </div>\n",
              "  </div>\n",
              "  "
            ],
            "text/plain": [
              "   tipo_de_empresa  fundacao_da_empresa  ...  receita_total  churn\n",
              "0                0                 2016  ...       0.001275      0\n",
              "1                1                 2018  ...       0.215867      0\n",
              "2                1                 2021  ...       0.010310      1\n",
              "3                1                 2016  ...       0.210241      0\n",
              "4                0                 2017  ...       0.015330      1\n",
              "\n",
              "[5 rows x 20 columns]"
            ]
          },
          "metadata": {},
          "execution_count": 562
        }
      ]
    },
    {
      "cell_type": "markdown",
      "source": [
        "####Transformação das variáveis categóricas\n",
        "\n",
        "Alguns modelos de machine learning não aceitam bem variáveis categóricas, então, precisamos tratar elas para que se tornem features contínuas e/ou próximas da nossa feature de target, que é o churn. "
      ],
      "metadata": {
        "id": "8gvkAwBN5seV"
      }
    },
    {
      "cell_type": "code",
      "source": [
        "!pip install category_encoders"
      ],
      "metadata": {
        "id": "IenabzgI5t9k"
      },
      "execution_count": null,
      "outputs": []
    },
    {
      "cell_type": "code",
      "source": [
        "import category_encoders as ce\n",
        "from sklearn.preprocessing import OneHotEncoder\n",
        "from category_encoders import TargetEncoder\n",
        "from sklearn.preprocessing import OrdinalEncoder"
      ],
      "metadata": {
        "id": "NZBHPgIk5vrW"
      },
      "execution_count": 245,
      "outputs": []
    },
    {
      "cell_type": "markdown",
      "source": [
        "######Target enconding:\n",
        "Transformar a variável categórica numérica a partir de uma relação do valor com a variável 'target'(churn) em variável contínua."
      ],
      "metadata": {
        "id": "MQwOoGB9veGK"
      }
    },
    {
      "cell_type": "code",
      "source": [
        "ta_encoder = TargetEncoder(cols='fundacao_da_empresa')\n",
        "df_features['fundacao_da_empresa'] = ta_encoder.fit_transform(df_features['fundacao_da_empresa'], df[['churn']])"
      ],
      "metadata": {
        "id": "BVdCOECVUat4"
      },
      "execution_count": 563,
      "outputs": []
    },
    {
      "cell_type": "code",
      "metadata": {
        "colab": {
          "base_uri": "https://localhost:8080/",
          "height": 339
        },
        "id": "iHhcFgcoIyYR",
        "outputId": "5863e258-0518-449a-f1ea-5ca071dabcb1"
      },
      "source": [
        "df_features.head()"
      ],
      "execution_count": 564,
      "outputs": [
        {
          "output_type": "execute_result",
          "data": {
            "text/html": [
              "\n",
              "  <div id=\"df-98c65856-dc43-4b73-81a4-afe04f3ae045\">\n",
              "    <div class=\"colab-df-container\">\n",
              "      <div>\n",
              "<style scoped>\n",
              "    .dataframe tbody tr th:only-of-type {\n",
              "        vertical-align: middle;\n",
              "    }\n",
              "\n",
              "    .dataframe tbody tr th {\n",
              "        vertical-align: top;\n",
              "    }\n",
              "\n",
              "    .dataframe thead th {\n",
              "        text-align: right;\n",
              "    }\n",
              "</style>\n",
              "<table border=\"1\" class=\"dataframe\">\n",
              "  <thead>\n",
              "    <tr style=\"text-align: right;\">\n",
              "      <th></th>\n",
              "      <th>tipo_de_empresa</th>\n",
              "      <th>fundacao_da_empresa</th>\n",
              "      <th>possui_mais_de_um_socio</th>\n",
              "      <th>funcionarios</th>\n",
              "      <th>meses_de_permanencia</th>\n",
              "      <th>utiliza_servicos_financeiros</th>\n",
              "      <th>possui_contador</th>\n",
              "      <th>faz_conciliacao_bancaria</th>\n",
              "      <th>frequencia_de_utilizacao_modulo_financeiro</th>\n",
              "      <th>frequencia_de_utilizacao_sistema_emissao_de_nota_fiscal</th>\n",
              "      <th>frequencia_de_utilizacao_integracao_bancaria</th>\n",
              "      <th>frequencia_de_utilizacao_modulo_de_vendas</th>\n",
              "      <th>frequencia_de_utilizacao_sistema_relatorios</th>\n",
              "      <th>frequencia_de_utilizacao_sistema_de_apis_de_integracao</th>\n",
              "      <th>contrato</th>\n",
              "      <th>emite_boletos</th>\n",
              "      <th>tipo_de_pagamento</th>\n",
              "      <th>receita_mensal</th>\n",
              "      <th>receita_total</th>\n",
              "      <th>churn</th>\n",
              "    </tr>\n",
              "  </thead>\n",
              "  <tbody>\n",
              "    <tr>\n",
              "      <th>0</th>\n",
              "      <td>0</td>\n",
              "      <td>0.234208</td>\n",
              "      <td>1</td>\n",
              "      <td>0</td>\n",
              "      <td>0.013889</td>\n",
              "      <td>0</td>\n",
              "      <td>0</td>\n",
              "      <td>automática</td>\n",
              "      <td>Pouco uso</td>\n",
              "      <td>Uso frequente</td>\n",
              "      <td>Pouco uso</td>\n",
              "      <td>Pouco uso</td>\n",
              "      <td>Pouco uso</td>\n",
              "      <td>Pouco uso</td>\n",
              "      <td>Mês-a-mês</td>\n",
              "      <td>1</td>\n",
              "      <td>Boleto - pagamento único</td>\n",
              "      <td>0.115423</td>\n",
              "      <td>0.001275</td>\n",
              "      <td>0</td>\n",
              "    </tr>\n",
              "    <tr>\n",
              "      <th>1</th>\n",
              "      <td>1</td>\n",
              "      <td>0.241414</td>\n",
              "      <td>0</td>\n",
              "      <td>0</td>\n",
              "      <td>0.472222</td>\n",
              "      <td>1</td>\n",
              "      <td>0</td>\n",
              "      <td>automática</td>\n",
              "      <td>Uso frequente</td>\n",
              "      <td>Pouco uso</td>\n",
              "      <td>Uso frequente</td>\n",
              "      <td>Pouco uso</td>\n",
              "      <td>Pouco uso</td>\n",
              "      <td>Pouco uso</td>\n",
              "      <td>Trimestral</td>\n",
              "      <td>0</td>\n",
              "      <td>Boleto - mês a mês</td>\n",
              "      <td>0.385075</td>\n",
              "      <td>0.215867</td>\n",
              "      <td>0</td>\n",
              "    </tr>\n",
              "    <tr>\n",
              "      <th>2</th>\n",
              "      <td>1</td>\n",
              "      <td>0.234872</td>\n",
              "      <td>0</td>\n",
              "      <td>0</td>\n",
              "      <td>0.027778</td>\n",
              "      <td>1</td>\n",
              "      <td>0</td>\n",
              "      <td>automática</td>\n",
              "      <td>Uso frequente</td>\n",
              "      <td>Uso frequente</td>\n",
              "      <td>Pouco uso</td>\n",
              "      <td>Pouco uso</td>\n",
              "      <td>Pouco uso</td>\n",
              "      <td>Pouco uso</td>\n",
              "      <td>Mês-a-mês</td>\n",
              "      <td>1</td>\n",
              "      <td>Boleto - mês a mês</td>\n",
              "      <td>0.354229</td>\n",
              "      <td>0.010310</td>\n",
              "      <td>1</td>\n",
              "    </tr>\n",
              "    <tr>\n",
              "      <th>3</th>\n",
              "      <td>1</td>\n",
              "      <td>0.234208</td>\n",
              "      <td>0</td>\n",
              "      <td>0</td>\n",
              "      <td>0.625000</td>\n",
              "      <td>0</td>\n",
              "      <td>0</td>\n",
              "      <td>automática</td>\n",
              "      <td>Uso frequente</td>\n",
              "      <td>Pouco uso</td>\n",
              "      <td>Uso frequente</td>\n",
              "      <td>Uso frequente</td>\n",
              "      <td>Pouco uso</td>\n",
              "      <td>Pouco uso</td>\n",
              "      <td>Trimestral</td>\n",
              "      <td>0</td>\n",
              "      <td>Cartão de crédito - pagamento único</td>\n",
              "      <td>0.239303</td>\n",
              "      <td>0.210241</td>\n",
              "      <td>0</td>\n",
              "    </tr>\n",
              "    <tr>\n",
              "      <th>4</th>\n",
              "      <td>0</td>\n",
              "      <td>0.250774</td>\n",
              "      <td>0</td>\n",
              "      <td>0</td>\n",
              "      <td>0.027778</td>\n",
              "      <td>1</td>\n",
              "      <td>0</td>\n",
              "      <td>manual</td>\n",
              "      <td>Pouco uso</td>\n",
              "      <td>Pouco uso</td>\n",
              "      <td>Pouco uso</td>\n",
              "      <td>Pouco uso</td>\n",
              "      <td>Pouco uso</td>\n",
              "      <td>Pouco uso</td>\n",
              "      <td>Mês-a-mês</td>\n",
              "      <td>1</td>\n",
              "      <td>Boleto - pagamento único</td>\n",
              "      <td>0.521891</td>\n",
              "      <td>0.015330</td>\n",
              "      <td>1</td>\n",
              "    </tr>\n",
              "  </tbody>\n",
              "</table>\n",
              "</div>\n",
              "      <button class=\"colab-df-convert\" onclick=\"convertToInteractive('df-98c65856-dc43-4b73-81a4-afe04f3ae045')\"\n",
              "              title=\"Convert this dataframe to an interactive table.\"\n",
              "              style=\"display:none;\">\n",
              "        \n",
              "  <svg xmlns=\"http://www.w3.org/2000/svg\" height=\"24px\"viewBox=\"0 0 24 24\"\n",
              "       width=\"24px\">\n",
              "    <path d=\"M0 0h24v24H0V0z\" fill=\"none\"/>\n",
              "    <path d=\"M18.56 5.44l.94 2.06.94-2.06 2.06-.94-2.06-.94-.94-2.06-.94 2.06-2.06.94zm-11 1L8.5 8.5l.94-2.06 2.06-.94-2.06-.94L8.5 2.5l-.94 2.06-2.06.94zm10 10l.94 2.06.94-2.06 2.06-.94-2.06-.94-.94-2.06-.94 2.06-2.06.94z\"/><path d=\"M17.41 7.96l-1.37-1.37c-.4-.4-.92-.59-1.43-.59-.52 0-1.04.2-1.43.59L10.3 9.45l-7.72 7.72c-.78.78-.78 2.05 0 2.83L4 21.41c.39.39.9.59 1.41.59.51 0 1.02-.2 1.41-.59l7.78-7.78 2.81-2.81c.8-.78.8-2.07 0-2.86zM5.41 20L4 18.59l7.72-7.72 1.47 1.35L5.41 20z\"/>\n",
              "  </svg>\n",
              "      </button>\n",
              "      \n",
              "  <style>\n",
              "    .colab-df-container {\n",
              "      display:flex;\n",
              "      flex-wrap:wrap;\n",
              "      gap: 12px;\n",
              "    }\n",
              "\n",
              "    .colab-df-convert {\n",
              "      background-color: #E8F0FE;\n",
              "      border: none;\n",
              "      border-radius: 50%;\n",
              "      cursor: pointer;\n",
              "      display: none;\n",
              "      fill: #1967D2;\n",
              "      height: 32px;\n",
              "      padding: 0 0 0 0;\n",
              "      width: 32px;\n",
              "    }\n",
              "\n",
              "    .colab-df-convert:hover {\n",
              "      background-color: #E2EBFA;\n",
              "      box-shadow: 0px 1px 2px rgba(60, 64, 67, 0.3), 0px 1px 3px 1px rgba(60, 64, 67, 0.15);\n",
              "      fill: #174EA6;\n",
              "    }\n",
              "\n",
              "    [theme=dark] .colab-df-convert {\n",
              "      background-color: #3B4455;\n",
              "      fill: #D2E3FC;\n",
              "    }\n",
              "\n",
              "    [theme=dark] .colab-df-convert:hover {\n",
              "      background-color: #434B5C;\n",
              "      box-shadow: 0px 1px 3px 1px rgba(0, 0, 0, 0.15);\n",
              "      filter: drop-shadow(0px 1px 2px rgba(0, 0, 0, 0.3));\n",
              "      fill: #FFFFFF;\n",
              "    }\n",
              "  </style>\n",
              "\n",
              "      <script>\n",
              "        const buttonEl =\n",
              "          document.querySelector('#df-98c65856-dc43-4b73-81a4-afe04f3ae045 button.colab-df-convert');\n",
              "        buttonEl.style.display =\n",
              "          google.colab.kernel.accessAllowed ? 'block' : 'none';\n",
              "\n",
              "        async function convertToInteractive(key) {\n",
              "          const element = document.querySelector('#df-98c65856-dc43-4b73-81a4-afe04f3ae045');\n",
              "          const dataTable =\n",
              "            await google.colab.kernel.invokeFunction('convertToInteractive',\n",
              "                                                     [key], {});\n",
              "          if (!dataTable) return;\n",
              "\n",
              "          const docLinkHtml = 'Like what you see? Visit the ' +\n",
              "            '<a target=\"_blank\" href=https://colab.research.google.com/notebooks/data_table.ipynb>data table notebook</a>'\n",
              "            + ' to learn more about interactive tables.';\n",
              "          element.innerHTML = '';\n",
              "          dataTable['output_type'] = 'display_data';\n",
              "          await google.colab.output.renderOutput(dataTable, element);\n",
              "          const docLink = document.createElement('div');\n",
              "          docLink.innerHTML = docLinkHtml;\n",
              "          element.appendChild(docLink);\n",
              "        }\n",
              "      </script>\n",
              "    </div>\n",
              "  </div>\n",
              "  "
            ],
            "text/plain": [
              "   tipo_de_empresa  fundacao_da_empresa  ...  receita_total  churn\n",
              "0                0             0.234208  ...       0.001275      0\n",
              "1                1             0.241414  ...       0.215867      0\n",
              "2                1             0.234872  ...       0.010310      1\n",
              "3                1             0.234208  ...       0.210241      0\n",
              "4                0             0.250774  ...       0.015330      1\n",
              "\n",
              "[5 rows x 20 columns]"
            ]
          },
          "metadata": {},
          "execution_count": 564
        }
      ]
    },
    {
      "cell_type": "markdown",
      "source": [
        "######Ordinal enconding:\n",
        "\n",
        "Enumera os valores categóricos (por palavra) a partir de 0"
      ],
      "metadata": {
        "id": "k0Ib2RHxD6hr"
      }
    },
    {
      "cell_type": "code",
      "source": [
        "enc = OrdinalEncoder()\n",
        "df_features[['faz_conciliacao_bancaria','frequencia_de_utilizacao_modulo_financeiro','frequencia_de_utilizacao_sistema_emissao_de_nota_fiscal',\n",
        "'frequencia_de_utilizacao_integracao_bancaria','frequencia_de_utilizacao_modulo_de_vendas','frequencia_de_utilizacao_sistema_relatorios','frequencia_de_utilizacao_sistema_de_apis_de_integracao','contrato','tipo_de_pagamento']] = enc.fit_transform(df_features[['faz_conciliacao_bancaria','frequencia_de_utilizacao_modulo_financeiro','frequencia_de_utilizacao_sistema_emissao_de_nota_fiscal',\n",
        "'frequencia_de_utilizacao_integracao_bancaria','frequencia_de_utilizacao_modulo_de_vendas','frequencia_de_utilizacao_sistema_relatorios','frequencia_de_utilizacao_sistema_de_apis_de_integracao','contrato','tipo_de_pagamento']])"
      ],
      "metadata": {
        "id": "q_SIlKmkurA6"
      },
      "execution_count": 565,
      "outputs": []
    },
    {
      "cell_type": "code",
      "source": [
        "df_features.head()"
      ],
      "metadata": {
        "colab": {
          "base_uri": "https://localhost:8080/",
          "height": 270
        },
        "id": "neF9W-RcxDWa",
        "outputId": "fb33c3db-d82d-43a7-923e-f9c0eacf6b8f"
      },
      "execution_count": 566,
      "outputs": [
        {
          "output_type": "execute_result",
          "data": {
            "text/html": [
              "\n",
              "  <div id=\"df-17bfb073-515e-44e2-ab5d-b58e440e38d3\">\n",
              "    <div class=\"colab-df-container\">\n",
              "      <div>\n",
              "<style scoped>\n",
              "    .dataframe tbody tr th:only-of-type {\n",
              "        vertical-align: middle;\n",
              "    }\n",
              "\n",
              "    .dataframe tbody tr th {\n",
              "        vertical-align: top;\n",
              "    }\n",
              "\n",
              "    .dataframe thead th {\n",
              "        text-align: right;\n",
              "    }\n",
              "</style>\n",
              "<table border=\"1\" class=\"dataframe\">\n",
              "  <thead>\n",
              "    <tr style=\"text-align: right;\">\n",
              "      <th></th>\n",
              "      <th>tipo_de_empresa</th>\n",
              "      <th>fundacao_da_empresa</th>\n",
              "      <th>possui_mais_de_um_socio</th>\n",
              "      <th>funcionarios</th>\n",
              "      <th>meses_de_permanencia</th>\n",
              "      <th>utiliza_servicos_financeiros</th>\n",
              "      <th>possui_contador</th>\n",
              "      <th>faz_conciliacao_bancaria</th>\n",
              "      <th>frequencia_de_utilizacao_modulo_financeiro</th>\n",
              "      <th>frequencia_de_utilizacao_sistema_emissao_de_nota_fiscal</th>\n",
              "      <th>frequencia_de_utilizacao_integracao_bancaria</th>\n",
              "      <th>frequencia_de_utilizacao_modulo_de_vendas</th>\n",
              "      <th>frequencia_de_utilizacao_sistema_relatorios</th>\n",
              "      <th>frequencia_de_utilizacao_sistema_de_apis_de_integracao</th>\n",
              "      <th>contrato</th>\n",
              "      <th>emite_boletos</th>\n",
              "      <th>tipo_de_pagamento</th>\n",
              "      <th>receita_mensal</th>\n",
              "      <th>receita_total</th>\n",
              "      <th>churn</th>\n",
              "    </tr>\n",
              "  </thead>\n",
              "  <tbody>\n",
              "    <tr>\n",
              "      <th>0</th>\n",
              "      <td>0</td>\n",
              "      <td>0.234208</td>\n",
              "      <td>1</td>\n",
              "      <td>0</td>\n",
              "      <td>0.013889</td>\n",
              "      <td>0</td>\n",
              "      <td>0</td>\n",
              "      <td>0.0</td>\n",
              "      <td>1.0</td>\n",
              "      <td>2.0</td>\n",
              "      <td>1.0</td>\n",
              "      <td>1.0</td>\n",
              "      <td>1.0</td>\n",
              "      <td>1.0</td>\n",
              "      <td>1.0</td>\n",
              "      <td>1</td>\n",
              "      <td>1.0</td>\n",
              "      <td>0.115423</td>\n",
              "      <td>0.001275</td>\n",
              "      <td>0</td>\n",
              "    </tr>\n",
              "    <tr>\n",
              "      <th>1</th>\n",
              "      <td>1</td>\n",
              "      <td>0.241414</td>\n",
              "      <td>0</td>\n",
              "      <td>0</td>\n",
              "      <td>0.472222</td>\n",
              "      <td>1</td>\n",
              "      <td>0</td>\n",
              "      <td>0.0</td>\n",
              "      <td>2.0</td>\n",
              "      <td>1.0</td>\n",
              "      <td>2.0</td>\n",
              "      <td>1.0</td>\n",
              "      <td>1.0</td>\n",
              "      <td>1.0</td>\n",
              "      <td>2.0</td>\n",
              "      <td>0</td>\n",
              "      <td>0.0</td>\n",
              "      <td>0.385075</td>\n",
              "      <td>0.215867</td>\n",
              "      <td>0</td>\n",
              "    </tr>\n",
              "    <tr>\n",
              "      <th>2</th>\n",
              "      <td>1</td>\n",
              "      <td>0.234872</td>\n",
              "      <td>0</td>\n",
              "      <td>0</td>\n",
              "      <td>0.027778</td>\n",
              "      <td>1</td>\n",
              "      <td>0</td>\n",
              "      <td>0.0</td>\n",
              "      <td>2.0</td>\n",
              "      <td>2.0</td>\n",
              "      <td>1.0</td>\n",
              "      <td>1.0</td>\n",
              "      <td>1.0</td>\n",
              "      <td>1.0</td>\n",
              "      <td>1.0</td>\n",
              "      <td>1</td>\n",
              "      <td>0.0</td>\n",
              "      <td>0.354229</td>\n",
              "      <td>0.010310</td>\n",
              "      <td>1</td>\n",
              "    </tr>\n",
              "    <tr>\n",
              "      <th>3</th>\n",
              "      <td>1</td>\n",
              "      <td>0.234208</td>\n",
              "      <td>0</td>\n",
              "      <td>0</td>\n",
              "      <td>0.625000</td>\n",
              "      <td>0</td>\n",
              "      <td>0</td>\n",
              "      <td>0.0</td>\n",
              "      <td>2.0</td>\n",
              "      <td>1.0</td>\n",
              "      <td>2.0</td>\n",
              "      <td>2.0</td>\n",
              "      <td>1.0</td>\n",
              "      <td>1.0</td>\n",
              "      <td>2.0</td>\n",
              "      <td>0</td>\n",
              "      <td>3.0</td>\n",
              "      <td>0.239303</td>\n",
              "      <td>0.210241</td>\n",
              "      <td>0</td>\n",
              "    </tr>\n",
              "    <tr>\n",
              "      <th>4</th>\n",
              "      <td>0</td>\n",
              "      <td>0.250774</td>\n",
              "      <td>0</td>\n",
              "      <td>0</td>\n",
              "      <td>0.027778</td>\n",
              "      <td>1</td>\n",
              "      <td>0</td>\n",
              "      <td>1.0</td>\n",
              "      <td>1.0</td>\n",
              "      <td>1.0</td>\n",
              "      <td>1.0</td>\n",
              "      <td>1.0</td>\n",
              "      <td>1.0</td>\n",
              "      <td>1.0</td>\n",
              "      <td>1.0</td>\n",
              "      <td>1</td>\n",
              "      <td>1.0</td>\n",
              "      <td>0.521891</td>\n",
              "      <td>0.015330</td>\n",
              "      <td>1</td>\n",
              "    </tr>\n",
              "  </tbody>\n",
              "</table>\n",
              "</div>\n",
              "      <button class=\"colab-df-convert\" onclick=\"convertToInteractive('df-17bfb073-515e-44e2-ab5d-b58e440e38d3')\"\n",
              "              title=\"Convert this dataframe to an interactive table.\"\n",
              "              style=\"display:none;\">\n",
              "        \n",
              "  <svg xmlns=\"http://www.w3.org/2000/svg\" height=\"24px\"viewBox=\"0 0 24 24\"\n",
              "       width=\"24px\">\n",
              "    <path d=\"M0 0h24v24H0V0z\" fill=\"none\"/>\n",
              "    <path d=\"M18.56 5.44l.94 2.06.94-2.06 2.06-.94-2.06-.94-.94-2.06-.94 2.06-2.06.94zm-11 1L8.5 8.5l.94-2.06 2.06-.94-2.06-.94L8.5 2.5l-.94 2.06-2.06.94zm10 10l.94 2.06.94-2.06 2.06-.94-2.06-.94-.94-2.06-.94 2.06-2.06.94z\"/><path d=\"M17.41 7.96l-1.37-1.37c-.4-.4-.92-.59-1.43-.59-.52 0-1.04.2-1.43.59L10.3 9.45l-7.72 7.72c-.78.78-.78 2.05 0 2.83L4 21.41c.39.39.9.59 1.41.59.51 0 1.02-.2 1.41-.59l7.78-7.78 2.81-2.81c.8-.78.8-2.07 0-2.86zM5.41 20L4 18.59l7.72-7.72 1.47 1.35L5.41 20z\"/>\n",
              "  </svg>\n",
              "      </button>\n",
              "      \n",
              "  <style>\n",
              "    .colab-df-container {\n",
              "      display:flex;\n",
              "      flex-wrap:wrap;\n",
              "      gap: 12px;\n",
              "    }\n",
              "\n",
              "    .colab-df-convert {\n",
              "      background-color: #E8F0FE;\n",
              "      border: none;\n",
              "      border-radius: 50%;\n",
              "      cursor: pointer;\n",
              "      display: none;\n",
              "      fill: #1967D2;\n",
              "      height: 32px;\n",
              "      padding: 0 0 0 0;\n",
              "      width: 32px;\n",
              "    }\n",
              "\n",
              "    .colab-df-convert:hover {\n",
              "      background-color: #E2EBFA;\n",
              "      box-shadow: 0px 1px 2px rgba(60, 64, 67, 0.3), 0px 1px 3px 1px rgba(60, 64, 67, 0.15);\n",
              "      fill: #174EA6;\n",
              "    }\n",
              "\n",
              "    [theme=dark] .colab-df-convert {\n",
              "      background-color: #3B4455;\n",
              "      fill: #D2E3FC;\n",
              "    }\n",
              "\n",
              "    [theme=dark] .colab-df-convert:hover {\n",
              "      background-color: #434B5C;\n",
              "      box-shadow: 0px 1px 3px 1px rgba(0, 0, 0, 0.15);\n",
              "      filter: drop-shadow(0px 1px 2px rgba(0, 0, 0, 0.3));\n",
              "      fill: #FFFFFF;\n",
              "    }\n",
              "  </style>\n",
              "\n",
              "      <script>\n",
              "        const buttonEl =\n",
              "          document.querySelector('#df-17bfb073-515e-44e2-ab5d-b58e440e38d3 button.colab-df-convert');\n",
              "        buttonEl.style.display =\n",
              "          google.colab.kernel.accessAllowed ? 'block' : 'none';\n",
              "\n",
              "        async function convertToInteractive(key) {\n",
              "          const element = document.querySelector('#df-17bfb073-515e-44e2-ab5d-b58e440e38d3');\n",
              "          const dataTable =\n",
              "            await google.colab.kernel.invokeFunction('convertToInteractive',\n",
              "                                                     [key], {});\n",
              "          if (!dataTable) return;\n",
              "\n",
              "          const docLinkHtml = 'Like what you see? Visit the ' +\n",
              "            '<a target=\"_blank\" href=https://colab.research.google.com/notebooks/data_table.ipynb>data table notebook</a>'\n",
              "            + ' to learn more about interactive tables.';\n",
              "          element.innerHTML = '';\n",
              "          dataTable['output_type'] = 'display_data';\n",
              "          await google.colab.output.renderOutput(dataTable, element);\n",
              "          const docLink = document.createElement('div');\n",
              "          docLink.innerHTML = docLinkHtml;\n",
              "          element.appendChild(docLink);\n",
              "        }\n",
              "      </script>\n",
              "    </div>\n",
              "  </div>\n",
              "  "
            ],
            "text/plain": [
              "   tipo_de_empresa  fundacao_da_empresa  ...  receita_total  churn\n",
              "0                0             0.234208  ...       0.001275      0\n",
              "1                1             0.241414  ...       0.215867      0\n",
              "2                1             0.234872  ...       0.010310      1\n",
              "3                1             0.234208  ...       0.210241      0\n",
              "4                0             0.250774  ...       0.015330      1\n",
              "\n",
              "[5 rows x 20 columns]"
            ]
          },
          "metadata": {},
          "execution_count": 566
        }
      ]
    },
    {
      "cell_type": "markdown",
      "source": [
        "##**MODELAGEM**\n",
        "\n",
        "####Árvore de decisão\n",
        "\n",
        "Uma árvore de decisão é uma ferramenta de suporte à tomada de decisão que usa um gráfico no formato de árvore e demonstra visualmente as condições e as probabilidades para se chegar a resultados. Este é um método de aprendizado de máquina supervisionado.\n",
        "\n",
        "Utilizaremos esse modelo, pois ele tem uma boa aceitação de variáveis categóricas, algo que está em grande presença nesse dataset, além de ser um modelo de simples entedimento e que atenderá a nossa necessidade de predizer e classificar quanto ao churn."
      ],
      "metadata": {
        "id": "RLqO6XjHt_Wh"
      }
    },
    {
      "cell_type": "code",
      "source": [
        "from sklearn.model_selection import train_test_split\n",
        "from sklearn.tree import DecisionTreeClassifier, plot_tree\n",
        "from sklearn.metrics import accuracy_score, plot_confusion_matrix\n",
        "from sklearn.datasets import make_classification\n",
        "from sklearn.model_selection import cross_val_score, cross_validate\n",
        "from sklearn.model_selection import RepeatedStratifiedKFold\n",
        "from sklearn.model_selection import cross_val_score\n",
        "from sklearn.model_selection import RepeatedStratifiedKFold\n",
        "\n",
        "\n",
        "from imblearn.pipeline import make_pipeline\n",
        "from imblearn.base import BaseSampler\n",
        "from imblearn.under_sampling import RandomUnderSampler\n",
        "from imblearn.over_sampling import (SMOTE, RandomOverSampler)\n",
        "from imblearn.combine import SMOTEENN\n",
        "\n",
        "from collections import Counter\n",
        "from sklearn import metrics\n",
        "\n",
        "\n",
        "import warnings\n",
        "warnings.simplefilter(action='ignore', category=FutureWarning)"
      ],
      "metadata": {
        "id": "rNL2kycPuK6I"
      },
      "execution_count": 254,
      "outputs": []
    },
    {
      "cell_type": "markdown",
      "source": [
        "#####Selecionando as features para o modelo:\n",
        "\n",
        "Utilizaremos o 'Recursive feature elimination' para rankear quais as melhores features para nós utilizarmos na nossa árvore de decisões."
      ],
      "metadata": {
        "id": "933oVQwxPysa"
      }
    },
    {
      "cell_type": "code",
      "source": [
        "from sklearn.feature_selection import RFE\n",
        "from sklearn.feature_selection import RFECV\n",
        "from sklearn.feature_selection import SelectKBest, f_classif"
      ],
      "metadata": {
        "id": "2pp1C21pQGjO"
      },
      "execution_count": 404,
      "outputs": []
    },
    {
      "cell_type": "code",
      "source": [
        "target = df_features['churn']"
      ],
      "metadata": {
        "id": "ZZIHscsqEzVF"
      },
      "execution_count": 567,
      "outputs": []
    },
    {
      "cell_type": "code",
      "source": [
        "dfx = df_features.drop('churn', axis = 1)"
      ],
      "metadata": {
        "id": "6rHrCV2OKaAb"
      },
      "execution_count": 568,
      "outputs": []
    },
    {
      "cell_type": "code",
      "source": [
        "x1 = dfx\n",
        "y1 = target"
      ],
      "metadata": {
        "id": "T1Qv8wNWEQJ7"
      },
      "execution_count": 569,
      "outputs": []
    },
    {
      "cell_type": "code",
      "source": [
        "x1_train, x1_test, y1_train, y1_test = train_test_split(x1, y1, test_size=0.25, random_state=1)"
      ],
      "metadata": {
        "id": "W4PGes8QGs7o"
      },
      "execution_count": 570,
      "outputs": []
    },
    {
      "cell_type": "code",
      "source": [
        "dt1 = DecisionTreeClassifier(max_depth=5, random_state=1)\n",
        "\n",
        "dt1.fit(x1_train, y1_train)"
      ],
      "metadata": {
        "colab": {
          "base_uri": "https://localhost:8080/"
        },
        "id": "N_TdTQc2Mnvd",
        "outputId": "327ee791-217d-4f81-d66e-252666ee4493"
      },
      "execution_count": 571,
      "outputs": [
        {
          "output_type": "execute_result",
          "data": {
            "text/plain": [
              "DecisionTreeClassifier(max_depth=5, random_state=1)"
            ]
          },
          "metadata": {},
          "execution_count": 571
        }
      ]
    },
    {
      "cell_type": "code",
      "source": [
        "rfe = RFE(estimator=dt1, step=1)\n",
        "rfe = rfe.fit(x1_train, y1_train)"
      ],
      "metadata": {
        "id": "rQn8Xm5jTMy4"
      },
      "execution_count": 572,
      "outputs": []
    },
    {
      "cell_type": "code",
      "source": [
        "selected_rfe_features = pd.DataFrame({'Feature':list(x1_train.columns),\n",
        "                                      'Ranking':rfe.ranking_})\n",
        "selected_rfe_features.sort_values(by='Ranking')"
      ],
      "metadata": {
        "colab": {
          "base_uri": "https://localhost:8080/",
          "height": 645
        },
        "id": "aoKmx9ajTeZl",
        "outputId": "64a5a93d-5d24-435b-ae0b-c6a022840495"
      },
      "execution_count": 573,
      "outputs": [
        {
          "output_type": "execute_result",
          "data": {
            "text/html": [
              "\n",
              "  <div id=\"df-2190d06d-5bd4-4880-b9b3-b12aba51f61a\">\n",
              "    <div class=\"colab-df-container\">\n",
              "      <div>\n",
              "<style scoped>\n",
              "    .dataframe tbody tr th:only-of-type {\n",
              "        vertical-align: middle;\n",
              "    }\n",
              "\n",
              "    .dataframe tbody tr th {\n",
              "        vertical-align: top;\n",
              "    }\n",
              "\n",
              "    .dataframe thead th {\n",
              "        text-align: right;\n",
              "    }\n",
              "</style>\n",
              "<table border=\"1\" class=\"dataframe\">\n",
              "  <thead>\n",
              "    <tr style=\"text-align: right;\">\n",
              "      <th></th>\n",
              "      <th>Feature</th>\n",
              "      <th>Ranking</th>\n",
              "    </tr>\n",
              "  </thead>\n",
              "  <tbody>\n",
              "    <tr>\n",
              "      <th>18</th>\n",
              "      <td>receita_total</td>\n",
              "      <td>1</td>\n",
              "    </tr>\n",
              "    <tr>\n",
              "      <th>1</th>\n",
              "      <td>fundacao_da_empresa</td>\n",
              "      <td>1</td>\n",
              "    </tr>\n",
              "    <tr>\n",
              "      <th>15</th>\n",
              "      <td>emite_boletos</td>\n",
              "      <td>1</td>\n",
              "    </tr>\n",
              "    <tr>\n",
              "      <th>4</th>\n",
              "      <td>meses_de_permanencia</td>\n",
              "      <td>1</td>\n",
              "    </tr>\n",
              "    <tr>\n",
              "      <th>14</th>\n",
              "      <td>contrato</td>\n",
              "      <td>1</td>\n",
              "    </tr>\n",
              "    <tr>\n",
              "      <th>7</th>\n",
              "      <td>faz_conciliacao_bancaria</td>\n",
              "      <td>1</td>\n",
              "    </tr>\n",
              "    <tr>\n",
              "      <th>8</th>\n",
              "      <td>frequencia_de_utilizacao_modulo_financeiro</td>\n",
              "      <td>1</td>\n",
              "    </tr>\n",
              "    <tr>\n",
              "      <th>17</th>\n",
              "      <td>receita_mensal</td>\n",
              "      <td>1</td>\n",
              "    </tr>\n",
              "    <tr>\n",
              "      <th>11</th>\n",
              "      <td>frequencia_de_utilizacao_modulo_de_vendas</td>\n",
              "      <td>1</td>\n",
              "    </tr>\n",
              "    <tr>\n",
              "      <th>16</th>\n",
              "      <td>tipo_de_pagamento</td>\n",
              "      <td>2</td>\n",
              "    </tr>\n",
              "    <tr>\n",
              "      <th>13</th>\n",
              "      <td>frequencia_de_utilizacao_sistema_de_apis_de_in...</td>\n",
              "      <td>3</td>\n",
              "    </tr>\n",
              "    <tr>\n",
              "      <th>5</th>\n",
              "      <td>utiliza_servicos_financeiros</td>\n",
              "      <td>4</td>\n",
              "    </tr>\n",
              "    <tr>\n",
              "      <th>12</th>\n",
              "      <td>frequencia_de_utilizacao_sistema_relatorios</td>\n",
              "      <td>5</td>\n",
              "    </tr>\n",
              "    <tr>\n",
              "      <th>9</th>\n",
              "      <td>frequencia_de_utilizacao_sistema_emissao_de_no...</td>\n",
              "      <td>6</td>\n",
              "    </tr>\n",
              "    <tr>\n",
              "      <th>6</th>\n",
              "      <td>possui_contador</td>\n",
              "      <td>7</td>\n",
              "    </tr>\n",
              "    <tr>\n",
              "      <th>3</th>\n",
              "      <td>funcionarios</td>\n",
              "      <td>8</td>\n",
              "    </tr>\n",
              "    <tr>\n",
              "      <th>10</th>\n",
              "      <td>frequencia_de_utilizacao_integracao_bancaria</td>\n",
              "      <td>9</td>\n",
              "    </tr>\n",
              "    <tr>\n",
              "      <th>2</th>\n",
              "      <td>possui_mais_de_um_socio</td>\n",
              "      <td>10</td>\n",
              "    </tr>\n",
              "    <tr>\n",
              "      <th>0</th>\n",
              "      <td>tipo_de_empresa</td>\n",
              "      <td>11</td>\n",
              "    </tr>\n",
              "  </tbody>\n",
              "</table>\n",
              "</div>\n",
              "      <button class=\"colab-df-convert\" onclick=\"convertToInteractive('df-2190d06d-5bd4-4880-b9b3-b12aba51f61a')\"\n",
              "              title=\"Convert this dataframe to an interactive table.\"\n",
              "              style=\"display:none;\">\n",
              "        \n",
              "  <svg xmlns=\"http://www.w3.org/2000/svg\" height=\"24px\"viewBox=\"0 0 24 24\"\n",
              "       width=\"24px\">\n",
              "    <path d=\"M0 0h24v24H0V0z\" fill=\"none\"/>\n",
              "    <path d=\"M18.56 5.44l.94 2.06.94-2.06 2.06-.94-2.06-.94-.94-2.06-.94 2.06-2.06.94zm-11 1L8.5 8.5l.94-2.06 2.06-.94-2.06-.94L8.5 2.5l-.94 2.06-2.06.94zm10 10l.94 2.06.94-2.06 2.06-.94-2.06-.94-.94-2.06-.94 2.06-2.06.94z\"/><path d=\"M17.41 7.96l-1.37-1.37c-.4-.4-.92-.59-1.43-.59-.52 0-1.04.2-1.43.59L10.3 9.45l-7.72 7.72c-.78.78-.78 2.05 0 2.83L4 21.41c.39.39.9.59 1.41.59.51 0 1.02-.2 1.41-.59l7.78-7.78 2.81-2.81c.8-.78.8-2.07 0-2.86zM5.41 20L4 18.59l7.72-7.72 1.47 1.35L5.41 20z\"/>\n",
              "  </svg>\n",
              "      </button>\n",
              "      \n",
              "  <style>\n",
              "    .colab-df-container {\n",
              "      display:flex;\n",
              "      flex-wrap:wrap;\n",
              "      gap: 12px;\n",
              "    }\n",
              "\n",
              "    .colab-df-convert {\n",
              "      background-color: #E8F0FE;\n",
              "      border: none;\n",
              "      border-radius: 50%;\n",
              "      cursor: pointer;\n",
              "      display: none;\n",
              "      fill: #1967D2;\n",
              "      height: 32px;\n",
              "      padding: 0 0 0 0;\n",
              "      width: 32px;\n",
              "    }\n",
              "\n",
              "    .colab-df-convert:hover {\n",
              "      background-color: #E2EBFA;\n",
              "      box-shadow: 0px 1px 2px rgba(60, 64, 67, 0.3), 0px 1px 3px 1px rgba(60, 64, 67, 0.15);\n",
              "      fill: #174EA6;\n",
              "    }\n",
              "\n",
              "    [theme=dark] .colab-df-convert {\n",
              "      background-color: #3B4455;\n",
              "      fill: #D2E3FC;\n",
              "    }\n",
              "\n",
              "    [theme=dark] .colab-df-convert:hover {\n",
              "      background-color: #434B5C;\n",
              "      box-shadow: 0px 1px 3px 1px rgba(0, 0, 0, 0.15);\n",
              "      filter: drop-shadow(0px 1px 2px rgba(0, 0, 0, 0.3));\n",
              "      fill: #FFFFFF;\n",
              "    }\n",
              "  </style>\n",
              "\n",
              "      <script>\n",
              "        const buttonEl =\n",
              "          document.querySelector('#df-2190d06d-5bd4-4880-b9b3-b12aba51f61a button.colab-df-convert');\n",
              "        buttonEl.style.display =\n",
              "          google.colab.kernel.accessAllowed ? 'block' : 'none';\n",
              "\n",
              "        async function convertToInteractive(key) {\n",
              "          const element = document.querySelector('#df-2190d06d-5bd4-4880-b9b3-b12aba51f61a');\n",
              "          const dataTable =\n",
              "            await google.colab.kernel.invokeFunction('convertToInteractive',\n",
              "                                                     [key], {});\n",
              "          if (!dataTable) return;\n",
              "\n",
              "          const docLinkHtml = 'Like what you see? Visit the ' +\n",
              "            '<a target=\"_blank\" href=https://colab.research.google.com/notebooks/data_table.ipynb>data table notebook</a>'\n",
              "            + ' to learn more about interactive tables.';\n",
              "          element.innerHTML = '';\n",
              "          dataTable['output_type'] = 'display_data';\n",
              "          await google.colab.output.renderOutput(dataTable, element);\n",
              "          const docLink = document.createElement('div');\n",
              "          docLink.innerHTML = docLinkHtml;\n",
              "          element.appendChild(docLink);\n",
              "        }\n",
              "      </script>\n",
              "    </div>\n",
              "  </div>\n",
              "  "
            ],
            "text/plain": [
              "                                              Feature  Ranking\n",
              "18                                      receita_total        1\n",
              "1                                 fundacao_da_empresa        1\n",
              "15                                      emite_boletos        1\n",
              "4                                meses_de_permanencia        1\n",
              "14                                           contrato        1\n",
              "7                            faz_conciliacao_bancaria        1\n",
              "8          frequencia_de_utilizacao_modulo_financeiro        1\n",
              "17                                     receita_mensal        1\n",
              "11          frequencia_de_utilizacao_modulo_de_vendas        1\n",
              "16                                  tipo_de_pagamento        2\n",
              "13  frequencia_de_utilizacao_sistema_de_apis_de_in...        3\n",
              "5                        utiliza_servicos_financeiros        4\n",
              "12        frequencia_de_utilizacao_sistema_relatorios        5\n",
              "9   frequencia_de_utilizacao_sistema_emissao_de_no...        6\n",
              "6                                     possui_contador        7\n",
              "3                                        funcionarios        8\n",
              "10       frequencia_de_utilizacao_integracao_bancaria        9\n",
              "2                             possui_mais_de_um_socio       10\n",
              "0                                     tipo_de_empresa       11"
            ]
          },
          "metadata": {},
          "execution_count": 573
        }
      ]
    },
    {
      "cell_type": "markdown",
      "source": [
        "Pelo RFE ficou rankeado que as features mais importantes são:\n",
        "'receita_total', 'fundacao_da_empresa', 'emite_boletos', 'meses_de_permanencia', 'contrato', 'faz_conciliacao_bancaria', 'requencia_de_utilizacao_modulo_financeiro', 'receita_mensal', 'frequencia_de_utilizacao_modulo_de_vendas'."
      ],
      "metadata": {
        "id": "FWWUkD9tUQT_"
      }
    },
    {
      "cell_type": "markdown",
      "source": [
        "####Criando Modelo:\n",
        "\n",
        "Como vimos no começo da EDA, temos um dataset desbalanceado; os 'Sim' ou 1 para Churn são bem menores que os 'Não' ou 0. (Em um cenário real, isso é bom, a gente espera que tenha menos NÃO-Churns do que Churns).\n",
        "\n",
        "0, Não =  5174\n",
        "1, Sim =  1869\n",
        "\n",
        "Dito isso, vamos ter um modelo de predição enviesado, precisamos realizar uma forma de balancear esses dados, para que o nosso modelo não predite erroneamente."
      ],
      "metadata": {
        "id": "idOgaWLlXKhp"
      }
    },
    {
      "cell_type": "code",
      "source": [
        "X = df_features[['receita_total', 'fundacao_da_empresa', 'emite_boletos', 'meses_de_permanencia', 'contrato', 'faz_conciliacao_bancaria','frequencia_de_utilizacao_modulo_financeiro', 'receita_mensal', 'frequencia_de_utilizacao_modulo_de_vendas']]\n",
        "y = target"
      ],
      "metadata": {
        "id": "RGbM_pfaWy5k"
      },
      "execution_count": 574,
      "outputs": []
    },
    {
      "cell_type": "code",
      "source": [
        "#Contagem de 'churn'\n",
        "counter = Counter(y)\n",
        "print(counter)"
      ],
      "metadata": {
        "colab": {
          "base_uri": "https://localhost:8080/"
        },
        "id": "FbBxYNr1supU",
        "outputId": "dd803701-2249-449a-fbb5-c33e04d3fe98"
      },
      "execution_count": 575,
      "outputs": [
        {
          "output_type": "stream",
          "name": "stdout",
          "text": [
            "Counter({0: 5174, 1: 1869})\n"
          ]
        }
      ]
    },
    {
      "cell_type": "markdown",
      "source": [
        "SMOTEEN: SMOTE + ENN\n",
        "\n",
        "SMOTE \n",
        "Consiste em gerar  dados sintéticos (não duplicados); adicionando da classe minoritária a partir do algoritmo K-vizinhos. O SMOTE começa primeiro escolhendo dados aleatórios da classe minoritária e, em seguida, são definidos k-vizinhos mais próximos dos dados. Os dados sintéticos são então criados entre os dados aleatórios e o vizinho mais próximo k selecionado aleatoriamente. \n",
        "\n",
        "ENN\n",
        "Seleciona um ponto aleatório se a classe majoritária do vizinho mais próximo K e a classe da observação forem diferentes, então o ponto e seus vizinhos mais próximos K são excluídos do conjunto de dados. Por padrão, o número do vizinho mais próximo usado em ENN é K = 3.\n",
        "\n",
        "Agregando os dois algoritmos, temos uma forma de balanceamento mais robusta.\n"
      ],
      "metadata": {
        "id": "CzXFoZiCtWUH"
      }
    },
    {
      "cell_type": "code",
      "source": [
        "#Método de oversampling \n",
        "smt = SMOTE(random_state = 42)\n",
        "smteen = SMOTEENN(random_state= 42)"
      ],
      "metadata": {
        "id": "2pn0pYKys8jX"
      },
      "execution_count": 501,
      "outputs": []
    },
    {
      "cell_type": "code",
      "source": [
        "X, y = smteen.fit_resample(X, y)"
      ],
      "metadata": {
        "id": "6dMCLh9HthFo"
      },
      "execution_count": 576,
      "outputs": []
    },
    {
      "cell_type": "code",
      "source": [
        "balanceadosmote = sns.countplot(x=y)"
      ],
      "metadata": {
        "colab": {
          "base_uri": "https://localhost:8080/",
          "height": 287
        },
        "id": "I1976n8et5u-",
        "outputId": "31adb6b8-374e-4f5b-871a-2db2e426fdcb"
      },
      "execution_count": 577,
      "outputs": [
        {
          "output_type": "display_data",
          "data": {
            "image/png": "[encoded data removed]",
            "text/plain": [
              "<Figure size 432x288 with 1 Axes>"
            ]
          },
          "metadata": {}
        }
      ]
    },
    {
      "cell_type": "markdown",
      "source": [
        "Após balancearmos nosso dataset, vamos criar nossos dataframes de treino e teste, que serão usados no nosso modelo (árvore)."
      ],
      "metadata": {
        "id": "-PcLXaR8t-eZ"
      }
    },
    {
      "cell_type": "code",
      "source": [
        "X_train, X_test, y_train, y_test = train_test_split(X, y, test_size=0.3, random_state=42)"
      ],
      "metadata": {
        "id": "nd05u6zSYMJm"
      },
      "execution_count": 578,
      "outputs": []
    },
    {
      "cell_type": "code",
      "source": [
        "dt = DecisionTreeClassifier(max_depth=3, random_state = 42)\n",
        "\n",
        "dt.fit(X_train, y_train)\n",
        "\n",
        "y_pred = dt.predict(X_test)\n",
        "print(y_pred[0:5])"
      ],
      "metadata": {
        "colab": {
          "base_uri": "https://localhost:8080/"
        },
        "id": "uV-nbtlwYT8K",
        "outputId": "3678d47b-2429-4483-f21c-99e4ec177894"
      },
      "execution_count": 579,
      "outputs": [
        {
          "output_type": "stream",
          "name": "stdout",
          "text": [
            "[0 1 0 1 0]\n"
          ]
        }
      ]
    },
    {
      "cell_type": "markdown",
      "source": [
        "Ás árvores são formadas a partir de hyperparâmetros, que podem ser, o tamanho de ramos, o tanto de quebra por folha, o tanto de feature por nó"
      ],
      "metadata": {
        "id": "6PSSbbDm_-BO"
      }
    },
    {
      "cell_type": "code",
      "source": [
        "plt.figure(figsize=(20,20))\n",
        "plot_tree(dt, \n",
        "          feature_names=X.columns,  \n",
        "          class_names=[\"0\",\"1\"],\n",
        "          filled=True)\n",
        "\n",
        "plt.show()"
      ],
      "metadata": {
        "colab": {
          "base_uri": "https://localhost:8080/",
          "height": 1000
        },
        "id": "5Y7FUmceYiEM",
        "outputId": "0ebf165a-48bc-4266-bf39-305ddf88830a"
      },
      "execution_count": 580,
      "outputs": [
        {
          "output_type": "display_data",
          "data": {
            "image/png": "[encoded data removed]",
            "text/plain": [
              "<Figure size 1440x1440 with 1 Axes>"
            ]
          },
          "metadata": {}
        }
      ]
    },
    {
      "cell_type": "markdown",
      "source": [
        "####Interpretando a árvore ponto de vista negócios\n",
        "\n",
        "Baseado em como funciona a árvore (satisfazendo condições); a gente consegue ter uma ideia de que, as empresas que tem contrato de curto prazo tendem a parar de usar os serviços mais do que as que tem contratos mais longos. \n",
        "\n",
        "Outro fator muito relevante, também já levantado na EDA, é que a renda mensal influencia no churn, se as empresas tiverem uma alta receita mensal, ela são mais propícia a cancelar os serviços. \n",
        "\n",
        "Empresas com contrato de curto prazo e que não fazem conciliação bancária também são mais propícias a cancelar.\n"
      ],
      "metadata": {
        "id": "TKvz2Mr6_IYp"
      }
    },
    {
      "cell_type": "markdown",
      "source": [
        "#### Avaliação Arvore de Decisão\n",
        "\n",
        "- Métricas\n",
        "- Matriz de Confusão"
      ],
      "metadata": {
        "id": "d9Mke6FyZOrt"
      }
    },
    {
      "cell_type": "code",
      "source": [
        "print(metrics.classification_report(y_test, y_pred))"
      ],
      "metadata": {
        "colab": {
          "base_uri": "https://localhost:8080/"
        },
        "id": "UU74jHk1i-bG",
        "outputId": "c31b46ff-f5ee-4395-8f84-7b8b88c11a97"
      },
      "execution_count": 581,
      "outputs": [
        {
          "output_type": "stream",
          "name": "stdout",
          "text": [
            "              precision    recall  f1-score   support\n",
            "\n",
            "           0       0.91      0.85      0.87       900\n",
            "           1       0.87      0.92      0.89       990\n",
            "\n",
            "    accuracy                           0.88      1890\n",
            "   macro avg       0.89      0.88      0.88      1890\n",
            "weighted avg       0.89      0.88      0.88      1890\n",
            "\n"
          ]
        }
      ]
    },
    {
      "cell_type": "markdown",
      "source": [
        "Como vemos acima na nossa geração de métricas, nosso modelo está com uma acurácia muito boa (88%). \n",
        "\n",
        "Podemos utilizar ela como métrica de avaliação do nosso modelo? Ele conseguiu classificar corretamente??\n",
        "\n",
        "No caso do nosso modelo, que nós utilizamos um algoritmo de balanceamento (SMOTEEN), ela se torna uma boa métrica de avaliação.\n",
        "\n",
        "Caso nossos dados estivessem desbalanceado, ela não seria uma boa métrica de avaliação, pois, com 88% dos acertos, ela nos traria uma falsa sensação de que o modelo está acertando, quando na verdade, ele está adivinhando erroneamente, já que a maioria dos nossos dados estariam mais para uma saída do que para a outra. \n",
        "\n",
        "De uma forma geral, cada métrica é uma relação matemática entre os dados de entrada e os dados adivinhados; então todas são importantes e nenhuma deve ser descartada."
      ],
      "metadata": {
        "id": "iFvEmHaMzIoM"
      }
    },
    {
      "cell_type": "code",
      "source": [
        "y_pred = dt.predict(X_test)\n",
        "\n",
        "acc = accuracy_score(y_test, y_pred)\n",
        "print(\"Test set accuracy: {:.2f} \\n\".format(acc))\n",
        "\n",
        "plot_confusion_matrix(dt, X_test, y_test)  \n",
        "plt.show()"
      ],
      "metadata": {
        "colab": {
          "base_uri": "https://localhost:8080/",
          "height": 321
        },
        "id": "CBKnYpWyZMW2",
        "outputId": "12da8182-574e-4eef-d764-6e125946b452"
      },
      "execution_count": 582,
      "outputs": [
        {
          "output_type": "stream",
          "name": "stdout",
          "text": [
            "Test set accuracy: 0.88 \n",
            "\n"
          ]
        },
        {
          "output_type": "display_data",
          "data": {
            "image/png": "[encoded data removed]",
            "text/plain": [
              "<Figure size 432x288 with 2 Axes>"
            ]
          },
          "metadata": {}
        }
      ]
    },
    {
      "cell_type": "markdown",
      "source": [
        "\n",
        "\n",
        "*   Verdadeiro Positivo (VP): falou que seria, e foi.  761 valores.\n",
        "*   Verdadeiro Negativo (VN): falou que não seria, e não foi. 911 valores. \n",
        "*   Falso Positivo (FP): falou que seria, mas não foi. 139 valores.\n",
        "*   Falso Negativo (FN): falou que não seria, mas foi. 79 valores.\n",
        "\n",
        "\n",
        "\n",
        "\n",
        "\n"
      ],
      "metadata": {
        "id": "D0EPnJyI1i3O"
      }
    },
    {
      "cell_type": "markdown",
      "source": [
        "##RECOMENDAÇÃO\n",
        "\n",
        "Com base no que foi levantado, podemos recomendar que a empresa faça planos mais atrativos para modalidades contratuais mais longas (anual, trimestral), pois assim evita que as empresas assinem os planos de renovação mensal, que de acordo com nosso modelo, é um forte agravante para as empresas não permanecerem conosco.\n",
        "\n",
        "----------\n",
        "\n",
        "Também é fortemente recomendado que se crie um programa de serviços para médias e grandes empresas, pois ao que tudo indica, conforme a empresa cresce (aumenta a renda), ela tende a deixar de usar os nossos serviços, muito provável porque os mesmos não atendem mais as suas necessidades.\n",
        "\n",
        "Com esses serviços podemos criar um vínculo de fidelidade; permitindo até campanhas de publicidade colocando casos de clientes que estão com a gente desde que eram apenas micro empresas, isso gera impacto."
      ],
      "metadata": {
        "id": "iuM0S0AyGGJW"
      }
    }
  ]
}